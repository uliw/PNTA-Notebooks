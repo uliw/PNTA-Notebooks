{
 "cells": [
  {
   "cell_type": "markdown",
   "id": "3f05fa55-6cb3-40a8-8073-2fb9257e2e94",
   "metadata": {},
   "source": [
    "## A# 3: Variables (34 pts)\n",
    "\n"
   ]
  },
  {
   "cell_type": "markdown",
   "id": "01b0b977-12f0-465d-ae07-36541b32ca36",
   "metadata": {},
   "source": [
    "Note: For assignments like this that contain a lot of questions, it is best to copy this assignment file into your private folder, and then add the usual header (Name etc) data. Add your answers as new cells below each of the questions.\n",
    "\n"
   ]
  },
  {
   "cell_type": "markdown",
   "id": "57c39490-b1e4-4aa3-914e-c04497eb430e",
   "metadata": {},
   "source": [
    "### Learning Outcomes:\n",
    "\n"
   ]
  },
  {
   "cell_type": "markdown",
   "id": "18f28961-3e32-4a66-9d12-31f41d07d0a0",
   "metadata": {},
   "source": [
    "-   Practice add/edit code and text cells\n",
    "-   Recap storing numbers\n",
    "-   play with the various ways to assign a value to a variable\n",
    "-   explore the difference between variable assignment and the equal sign in symbolic math\n",
    "-   gain a basic understanding of the python error message format\n",
    "-   understand how python treats operator precedence\n",
    "\n"
   ]
  },
  {
   "cell_type": "markdown",
   "id": "5e1b0a75-a838-47be-b413-362e948ad64e",
   "metadata": {},
   "source": [
    "### Storing numbers (16 pts)\n",
    "\n"
   ]
  },
  {
   "cell_type": "markdown",
   "id": "138c5af1-e0e7-419f-8ad2-72f7ff970402",
   "metadata": {},
   "source": [
    "How far can you count if your computer has registers of the following widths (assume unsigned integer format):\n",
    "\n",
    "-   1 byte\n",
    "-   2 byte\n",
    "-   4 byte\n",
    "-   8 byte\n",
    "\n",
    "Edit this text cell and use it to record your results. For numbers greater than 1000, please use scientific notation with 4 digits after the period, and the exponent should be a multiple of 3 (i.e., `1000 = 1E3`, `1000,000 = 1E6` . If you don't know how to convert a number to scientific notation, please ask on piazza. 4 pts per answer\n",
    "\n"
   ]
  },
  {
   "cell_type": "markdown",
   "id": "c845d5c3-6d5d-495b-a829-85c3c7fff080",
   "metadata": {},
   "source": [
    "### Assigning a value to a variable\n",
    "\n"
   ]
  },
  {
   "cell_type": "markdown",
   "id": "e61476e8-190a-4267-97e1-7f77cbc066d0",
   "metadata": {},
   "source": [
    "#### Code analysis (4 pts)\n",
    "\n"
   ]
  },
  {
   "cell_type": "markdown",
   "id": "f07ad335-5aab-4e4f-9863-c3571aa1aa90",
   "metadata": {},
   "source": [
    "Add a **text** cell and cut copy paste this text\n",
    "\n",
    "    # Assume that \n",
    "    a = 4\n",
    "    \n",
    "    # if you now write\n",
    "    a = a + 1\n",
    "\n",
    "Please consider this example without executing the code. What would be the result if you were to execute this code? Use the the below text cell to write down your expected result, and explain why you expected this. \n",
    "\n"
   ]
  },
  {
   "cell_type": "markdown",
   "id": "63e85222-0b07-4d7f-96cf-66faea0da424",
   "metadata": {},
   "source": [
    "##### Clear this text and replace it with your answer\n",
    "\n"
   ]
  },
  {
   "cell_type": "markdown",
   "id": "8e3c41a3-b0ce-4c88-85ec-9947164e8914",
   "metadata": {},
   "source": [
    "#### Code experiment (4 pts)\n",
    "\n"
   ]
  },
  {
   "cell_type": "markdown",
   "id": "620260d2-7b6e-4423-95bd-786d4dce84c0",
   "metadata": {},
   "source": [
    "Next, copy the above code into the python cell below execute the code. Use the below text cell to compare the result from the code analysis with the code experiment. Are the values the same, or are they different. Can you explain your results? And if you can't explain it, could you speculate? Please write down your thoughts.\n",
    "\n"
   ]
  },
  {
   "cell_type": "code",
   "execution_count": 1,
   "id": "7c55b82b-8624-49b7-b49d-cf4ccd774ae9",
   "metadata": {},
   "outputs": [],
   "source": [
    "# add your code here"
   ]
  },
  {
   "cell_type": "markdown",
   "id": "549e571c-a85f-4c17-a184-26891a329a98",
   "metadata": {},
   "source": [
    "##### Clear this text and replace it with your answer\n",
    "\n"
   ]
  },
  {
   "cell_type": "markdown",
   "id": "f55eca7a-a2fe-477a-b66d-1a4510175ec7",
   "metadata": {},
   "source": [
    "### Error Messages (4 pts)\n",
    "\n"
   ]
  },
  {
   "cell_type": "markdown",
   "id": "706d20ae-6dc9-46c0-8aa4-201d5de0236b",
   "metadata": {},
   "source": [
    "Create a new code cell, and copy this code into it (mark and left click the text and select the \"copy\" symbol from the menu bar; left click on your text cell and select the paste symbol from the menu bar to copy the code cell.()\n",
    "\n",
    "    a = 4\n",
    "    b = 5\n",
    "    c = 10\n",
    "    a = (a / b) * c\n",
    "    print(a)\n",
    "\n",
    "In this new code cell, replace `print(a)` with `print(A)` and execute your code. Please do so before you continue to read.\n",
    "\n"
   ]
  },
  {
   "cell_type": "markdown",
   "id": "2ec3fe42-1e2c-469d-ab76-2e5d01d6b79e",
   "metadata": {},
   "source": [
    "#### Experiment (2pts)\n",
    "\n"
   ]
  },
  {
   "cell_type": "markdown",
   "id": "a2d1c02d-9802-4b70-9a1c-b718c9e0357b",
   "metadata": {},
   "source": [
    "Add a text cell below this sentence and describe the results of your experiment. Are variable names case specific or not? Mark your findings in **BOLD!** \n",
    "\n",
    "This is likely also your first encounter with python-error messages. They do look a bit cryptic but are often quite useful. Let's take a closer look to understand what happened here:\n",
    "\n",
    "When you hit `shift+enter`, you send the commands you have typed into the code cell to the python interpreter. This is just another computer program that will read your commands and try to make sense of it. Before running your code, the interpreter will do some sanity checks, and in the above case, it finds that the variable \"A\" was never defined. It thus prints:\n",
    "\n",
    "1.  a red box\n",
    "2.  the type of error, in this case, \"NameError\" and some context:\n",
    "3.  The cell in which the error occurred\n",
    "4.  The line in which the error occurred\n",
    "5.  the last couple of lines before the error occurred\n",
    "6.  and if you are lucky, some useful information on why the error occurred\n",
    "\n"
   ]
  },
  {
   "cell_type": "markdown",
   "id": "8fbc2914-64b4-4b61-b63c-e0cf01c35e01",
   "metadata": {},
   "source": [
    "#### Error codes (2 pts)\n",
    "\n"
   ]
  },
  {
   "cell_type": "markdown",
   "id": "9f5f95fa-3ee7-404e-a19d-54dd2f873e39",
   "metadata": {},
   "source": [
    "Add a text cell below and copy the following template (note, you create line breaks by adding two spaces at the end of each line):\n",
    "\n",
    "    ErrorName  = \n",
    "    Cell Number = \n",
    "    Line Number where the error occurred = \n",
    "    Explanation of error type = \n",
    "\n",
    "Add the data you get from the actual error message after the equal signs. If you have difficulties seeing the various elements above, please talk to the TA or instructor.\n",
    "\n"
   ]
  },
  {
   "cell_type": "markdown",
   "id": "d74ef8ee-5fed-465d-88fb-93ccf339b101",
   "metadata": {},
   "source": [
    "### Operator Precedence (6 pts)\n",
    "\n"
   ]
  },
  {
   "cell_type": "markdown",
   "id": "d82488af-dffc-4e0b-9a2a-e70295c2c233",
   "metadata": {},
   "source": [
    "You will probably remember from high school that it makes a difference whether you write `2*(3+1)` or `(2*3)+1` because expressions with an exponent take precedence over multiplications or divisions, and those take precedence over additions and subtractions.\n",
    "\n",
    "Add a python cell for each of the following tests:\n",
    "\n",
    "-   addition versus multiplication\n",
    "-   addition versus taking the power (see example below)\n",
    "-   multiplication versus taking the power\n",
    "\n",
    "and populate them with code that explores whether the python interpreter is aware of those rules or not. One cell for each rule, and explain your results and what you make of it. E.g., you can write\n",
    "\n",
    "    when I execute \n",
    "    \n",
    "    1 + 2 ** 3  # 2**3 = 2 to the power of 3\n",
    "    \n",
    "    I get the result of XXX. I should get YYY. Therefore I conclude that python is \n",
    "    clueless about the fact that multiplicationss trump additions.\n",
    "    \n",
    "    Or, I get ZZZ which is expected results, which shows thath python knows the rules.\n",
    "\n",
    "2 pts each = 6 pts\n",
    "\n"
   ]
  },
  {
   "cell_type": "markdown",
   "id": "7ad130ef-db52-456e-a1da-18072054b60d",
   "metadata": {},
   "source": [
    "### Marking scheme:\n",
    "\n"
   ]
  },
  {
   "cell_type": "markdown",
   "id": "c0dc025d-86c1-4965-8516-376025fb01fe",
   "metadata": {},
   "source": [
    "Note that for most 2 point answers, I will mark as follows: 100% if experiments and explanations are correct. 50% if incorrect experiment or unreasonable explanation. 0 pts of nothing makes sense\n",
    "\n"
   ]
  },
  {
   "cell_type": "markdown",
   "id": "14cdae36-7372-4220-9416-b9ca2d35c891",
   "metadata": {},
   "source": [
    "### Submission instructions\n",
    "\n"
   ]
  },
  {
   "cell_type": "markdown",
   "id": "32cf16ff-30cc-43c3-a90b-60b5b4341aaa",
   "metadata": {},
   "source": [
    "Create a new (or copy and existing) notebook in your `submissions`\n",
    "folder before editing it. Otherwise, your edits may be overwritten the\n",
    "next time you log into syzygy. Please name your copy `assignment-name-firstname-lastname` \n",
    "\n",
    "-   Replace the `assignment-name` with the name of the assignment\n",
    "    (i.e., the filename of the respective Jupyter Notebook)\n",
    "-   `firstname-lastname` with your own name.\n",
    "\n",
    "Note: If the notebook contains images, you must also copy the image files!\n",
    "Your notebook/pdf must start with the following lines :\n",
    "\n",
    "**ESS245: Assignment Title**\n",
    "\n",
    "**Date:**\n",
    "\n",
    "**First Name:**\n",
    "\n",
    "**Last Name:**\n",
    "\n",
    "**Student: Id**\n",
    "\n",
    "Before submitting your assignment:\n",
    "\n",
    "-   Check the marking scheme and ensure you have covered all requirements.\n",
    "-   Re-read the learning outcomes and verify that you are comfortable\n",
    "    with each concept. If not, please speak up on the discussion board\n",
    "    and ask for further clarification. I can guarantee that if you feel\n",
    "    uncertain about a concept, at least half the class will be in the\n",
    "    same boat. So don't be shy!\n",
    "\n",
    "To submit your assignment, you need to download it as `ipynb` notebook\n",
    "format **and** `pdf` format. **To export your notebook as pdf\n",
    "use your browser's print function (`Ctrl-P`, or `Cmd-P` on a Mac) and then select**\n",
    "`Save as pdf`.  In the past, this worked best with Chrome or Firefox.\n",
    "\n",
    "Please submit **both files** on Quercus. Note that the pdf\n",
    "export can fail if your file contains invalid markup/python code. So\n",
    "you need to check that the pdf export is complete and does not miss\n",
    "any sections. If you have export problems, don't hesitate to contact\n",
    "the course instructor directly.\n",
    "\n",
    "Notebooks typically have empty code cells in which you must enter\n",
    "python code. Please use the respective cell below each question, or\n",
    "create a python cell where necessary. Add text cells to enter your\n",
    "answers where appropriate. Your responses will only count if the code\n",
    "executes without error. It is thus recommended to run your solutions\n",
    "before submitting the assignment.\n",
    "\n",
    "Note: If you re-submit your file, Quercus will add a version number to your\n",
    "filename. This is OK, nothing to worry about!\n",
    "\n",
    "**Note: Unless specifically requested, do not type your answers by**\n",
    "**hand. Instead, write code that produces the answer. Your pdf file**\n",
    "**should show the code and the results of the code execution.**\n",
    "\n"
   ]
  }
 ],
 "metadata": {
  "kernelspec": {
   "display_name": "Python 3 (ipykernel)",
   "language": "python",
   "name": "python3"
  },
  "language_info": {
   "codemirror_mode": {
    "name": "ipython",
    "version": 3
   },
   "file_extension": ".py",
   "mimetype": "text/x-python",
   "name": "python",
   "nbconvert_exporter": "python",
   "pygments_lexer": "ipython3",
   "version": "3.11.0"
  },
  "org": null
 },
 "nbformat": 4,
 "nbformat_minor": 5
}
