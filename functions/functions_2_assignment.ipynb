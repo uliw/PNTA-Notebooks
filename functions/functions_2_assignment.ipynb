{
 "cells": [
  {
   "cell_type": "markdown",
   "id": "0c5e0abb-0c51-47eb-b005-3b83bfa02958",
   "metadata": {},
   "source": [
    "### Assignment\n",
    "\n"
   ]
  },
  {
   "cell_type": "markdown",
   "id": "d8a3eee5-f06b-47af-82ff-b521777a78a6",
   "metadata": {},
   "source": [
    "This assignment builds on the previous one, but with a significantly higher level of complexity. It is essential to develop and test each function incrementally.\n",
    "\n"
   ]
  },
  {
   "cell_type": "markdown",
   "id": "b410d5ab-2ee0-4dbd-9352-8cd0f5d9915f",
   "metadata": {},
   "source": [
    "### Learning outcomes\n",
    "\n"
   ]
  },
  {
   "cell_type": "markdown",
   "id": "61f7c74e-30a7-47f8-9728-c989bbdb9d5f",
   "metadata": {},
   "source": [
    "-   Become familiar with function arguments and return values\n",
    "-   Learn about type hints.\n",
    "-   Bridge the gap from a task described in practical terms to Python code\n",
    "-   Learn how to reduce complexity\n",
    "-   Practice testing code fragments\n",
    "\n"
   ]
  },
  {
   "cell_type": "markdown",
   "id": "f088e19d-f4d6-4a2e-a90e-169ec068fc45",
   "metadata": {},
   "source": [
    "### Remember\n",
    "\n"
   ]
  },
  {
   "cell_type": "markdown",
   "id": "de8ee5c8-24bf-47d9-a365-20138a049862",
   "metadata": {},
   "source": [
    "Functions have the following characteristics:\n",
    "\n",
    "-   They allow us to group code sequences and refer to this group by name. This is useful for decluttering your code.\n",
    "-   Code inside a function does not have access to variables defined outside of the function. This helps to isolate code sections and prevent naming conflicts or accidental overwriting of, e.g., a counter.\n",
    "-   The **value(s)** of a variable(s) can be passed into a function as arguments to the function call (see below)\n",
    "-   The result of computation inside the function can be returned to the calling code with the return statement.\n",
    "-   Functions must always be defined before you can use them. This is best done at the beginning of the code\n",
    "-   The end of a function block should always be followed by two empty lines!\n",
    "-   Think about your data types and add the appropriate type hints.\n",
    "-   When everything works, write the doc-string.\n",
    "-   Test your docstring with the help function.\n",
    "\n",
    "In the following, we will create a small collection of formatting functions.\n",
    "\n"
   ]
  },
  {
   "cell_type": "markdown",
   "id": "2681fca8-2d03-42b9-8990-1a4d27bd7f85",
   "metadata": {},
   "source": [
    "### Formatting a list 3 points\n",
    "\n"
   ]
  },
  {
   "cell_type": "markdown",
   "id": "c0c92c46-33e6-42a5-a989-eaf0069ad16e",
   "metadata": {},
   "source": [
    "Create a function that takes a list as an argument and returns a string that shows up to 3 list elements, and the last list element, e.g.:\n",
    "\n"
   ]
  },
  {
   "cell_type": "code",
   "execution_count": 1,
   "id": "0a3a2b26-8cfe-414f-bbd1-8e7721bdf494",
   "metadata": {},
   "outputs": [],
   "source": [
    "[1,2] # will result in \"[1, 2]\"\n",
    "[1,2,3] # ->  \"[1, 2, 3]\"\n",
    "[1,2,3,4] # ->  \"[1, 2, 3, 4]\"\n",
    "[1,2,3,4,5] # ->  \"[1, 2, 3, ..., 5]\"\n",
    "[1,2,3,4,5,6] # ->  \"[1, 2, 3, ..., 6]\""
   ]
  },
  {
   "cell_type": "markdown",
   "id": "3f9131b4-af3d-4251-b1bb-30f6ec5cb4bd",
   "metadata": {},
   "source": [
    "Use the following template to create this function\n",
    "\n"
   ]
  },
  {
   "cell_type": "code",
   "execution_count": 1,
   "id": "d8101ca2-54d1-412b-89f7-4f4fa5e0be6a",
   "metadata": {},
   "outputs": [],
   "source": [
    "def format_list(ml: list[Any]) -> str:\n",
    "    \"\"\" \"\"\"\n",
    "\n",
    "    return s"
   ]
  },
  {
   "cell_type": "markdown",
   "id": "e851670b-2308-4b1d-b9b5-d8482c897fe3",
   "metadata": {},
   "source": [
    "Test your code with the following\n",
    "\n"
   ]
  },
  {
   "cell_type": "code",
   "execution_count": 1,
   "id": "25d61826-6c26-4aa2-bbe0-ba57d1a9fec5",
   "metadata": {},
   "outputs": [],
   "source": [
    "a :list[Any] = [\n",
    "    [],\n",
    "    [1],\n",
    "    [1, 2],\n",
    "    [1, 2, 3],\n",
    "    [1, 2, 3, 4],\n",
    "    list(range(20)),\n",
    "    \"Hello\",\n",
    "    [\"Hello\", \"World\"],\n",
    "]\n",
    "\n",
    "for e in a:\n",
    "    print(format_list(e))"
   ]
  },
  {
   "cell_type": "markdown",
   "id": "4d997cbe-0b0e-4fa9-81c6-8d03ecbbbe2b",
   "metadata": {},
   "source": [
    "### Format a variable value depending on its type 3 x 3 = 9 points\n",
    "\n"
   ]
  },
  {
   "cell_type": "markdown",
   "id": "855aa36e-a664-4918-ba72-8e07ee1a476f",
   "metadata": {},
   "source": [
    "This function takes a variable value and returns a string that is formatted similarly to the following examples\n",
    "\n",
    "    s = \"Hello World, what a sunny day\" -> \"Hello World what a ...\"\n",
    "    i = 123400 -> 123,400 (use commas to separate 1,000 and 1,000,000\n",
    "    f = 0.00000001 -> 1E-9\n",
    "\n",
    "Note the use of quotation marks for string values!\n",
    "\n",
    "I'll provide a function signature and a few code fragments to show you how to use the `isinstance()` function o test the type of a given object, as well as some code that raises an error.  Add the missing functions including docstrings and type hints. Note that all functions return a string!\n",
    "\n"
   ]
  },
  {
   "cell_type": "code",
   "execution_count": 1,
   "id": "bec922f8-8818-4209-9d74-1a8a67c77bde",
   "metadata": {},
   "outputs": [],
   "source": [
    "def format_value(v: Any) -> str:\n",
    "    \"\"\"Convert a given Python object into a string, and format this string\n",
    "    according to type-specific rules\n",
    "\n",
    "    Raises\n",
    "    ------\n",
    "    ValueError\n",
    "        Raise an Error if a given Python type has no conversion recipe\n",
    "    \"\"\"\n",
    "    if isinstance(v, str):\n",
    "        format_string(v)  # replace with your code\n",
    "    elif isinstance(v, int):\n",
    "        format_int(v)  # replace with your code\n",
    "    elif isinstance(v, float):\n",
    "        format_float(v)  # replace with your code\n",
    "    else:\n",
    "        raise ValueError(f\"no recipe for {v} which is of type {type(v)}\")\n",
    "\n",
    "    return s"
   ]
  },
  {
   "cell_type": "markdown",
   "id": "cae8c9ff-22ea-49b8-8afb-bf7bfc5cf844",
   "metadata": {},
   "source": [
    "Test your function with this code. Test with `ml1` and `ml2`\n",
    "\n"
   ]
  },
  {
   "cell_type": "code",
   "execution_count": 1,
   "id": "2e5c286d-30c0-4850-86d5-16b7510e8f90",
   "metadata": {},
   "outputs": [],
   "source": [
    "# test case for fv. Make sure to include all the types you are\n",
    "# testing, as well as those that should raise an error\n",
    "ml1 :list[any] = [\"Test string\", 0, 1e6, 12.67888, [1,2,3,4,5,6,7,8,9], {\"A\":1, \"B\":2}]\n",
    "ml2 :list[Any] = [\"Test string\", 0, 1e6, 12.67888, [1,2,3,4,5,6,7,8,9]]\n",
    "\n",
    "for e in ml1:\n",
    "    s = format_value(e)\n",
    "    print(s)"
   ]
  },
  {
   "cell_type": "markdown",
   "id": "37da092b-f1b5-430d-a113-20850149a198",
   "metadata": {},
   "source": [
    "### Format a dictionary 3 points\n",
    "\n"
   ]
  },
  {
   "cell_type": "markdown",
   "id": "45d55ead-d3d2-4d48-b817-a21b2ce3d0e2",
   "metadata": {},
   "source": [
    "Now that we have all the tools (and we know that they work) we can proceed to our main task, and write a function that formats a dictionary. Use the following code fragment to write a function that formats a dictionary, and returns the result as a string. Add a docstring and type hints\n",
    "\n"
   ]
  },
  {
   "cell_type": "code",
   "execution_count": 1,
   "id": "fd2febf5-6806-46e6-9e25-2ae5d5fa4316",
   "metadata": {},
   "outputs": [],
   "source": [
    "for k, v in d.items():\n",
    "    key = format_value(k)\n",
    "    value = format_value(v)"
   ]
  },
  {
   "cell_type": "markdown",
   "id": "5da9617e-15b0-4ad0-93b5-9c96e3769431",
   "metadata": {},
   "source": [
    "If you run the following code\n",
    "\n"
   ]
  },
  {
   "cell_type": "code",
   "execution_count": 1,
   "id": "9cd10195-5cfa-4a53-9a9c-e41716d467bc",
   "metadata": {},
   "outputs": [],
   "source": [
    "d: dict[str, Any] = {\n",
    "    \"Brian\": 0,\n",
    "    \"Bob\": [1, 2, 3, 4, 5, 6, 7, 8],\n",
    "    \"Liam\": [1, 2],\n",
    "    \"long int\": 100000,\n",
    "    \"big float\": 1111222333,\n",
    "    \"long str\": \"Hello World, what a sunny day\",\n",
    "}\n",
    "print(format_dictionary(d))"
   ]
  },
  {
   "cell_type": "markdown",
   "id": "a6a2cef7-bf54-4427-bd55-29a30413f77d",
   "metadata": {},
   "source": [
    "you should get this result:\n",
    "\n",
    "    \"Brian\":\t0\n",
    "    \"Bob\":\t        [1, 2, 3, ..., 8]\n",
    "    \"Liam\":\t        [1, 2]\n",
    "    \"long int\":     100,000\n",
    "    \"big float\":    1.11E9\n",
    "    \"long str\":     \"Hello World ....\"\n",
    "\n",
    "To get full marks, the values should be aligned.\n",
    "\n"
   ]
  },
  {
   "cell_type": "markdown",
   "id": "ad97a5ac-3fd6-495c-93eb-23304583c50b",
   "metadata": {},
   "source": [
    "### Marking Scheme\n",
    "\n"
   ]
  },
  {
   "cell_type": "markdown",
   "id": "8006c06b-c921-4314-b775-8a5971a53bc2",
   "metadata": {},
   "source": [
    "For each function that produces the correct output, you get up to 3 points. You will get partial marks for every function that works, even if the overall result is wrong.\n",
    "\n",
    "Total: 15 points\n",
    "\n",
    "Create a new (or copy and existing) notebook in your `submissions`\n",
    "folder before editing it. Otherwise, your edits may be overwritten the\n",
    "next time you log into syzygy. Please name your copy `A#-assignment-name-firstname-lastname` \n",
    "\n",
    "-   Where `A#` is something like A1, A2 A3, etc.\n",
    "-   Replace the `assignment-name` with the name of the assignment\n",
    "    (i.e., the filename of the respective Jupyter Notebook). This can be shortened as long as it remains clear which assignment it is.\n",
    "-   `firstname-lastname` with your own name.\n",
    "\n",
    "Note: If the notebook contains images, you must also copy the image files!\n",
    "Your notebook/pdf must start with the following lines :\n",
    "\n",
    "**ESS245: Assignment Title**\n",
    "\n",
    "**Date:**\n",
    "\n",
    "**First Name:**\n",
    "\n",
    "**Last Name:**\n",
    "\n",
    "**Student: Id**\n",
    "\n",
    "Before submitting your assignment:\n",
    "\n",
    "-   Check the marking scheme and ensure you have covered all requirements.\n",
    "-   Re-read the learning outcomes and verify that you are comfortable with each concept. If not, please speak up on the discussion board and ask for further clarification. I can guarantee that if you feel uncertain about a concept, at least half the class will be in the same boat. So don't be shy!\n",
    "\n",
    "To submit your assignment, you need to download it as `ipynb` notebook format **and**\n",
    "`pdf` format:\n",
    "\n",
    "-   **Do not use File -> Save and Export as -> pdf!!!**\n",
    "-   You **must** use your **browser's print function** (`Ctrl-P`, or `Cmd-P` on a Mac) and then select `Save as pdf`.  In the past, this worked best with Chrome or Firefox.\n",
    "\n",
    "Please submit **both files** on Quercus. Note that the pdf export can fail if your file contains invalid markup/python code. So you need to check that the pdf export is complete and does not miss any sections. If you have export problems, don't hesitate to contact the course instructor directly.\n",
    "\n",
    "Notebooks typically have empty code cells in which you must enter python code. Please use the respective cell below each question, or create a python cell where necessary. Add text cells to enter your answers where appropriate. Your responses will only count if the code executes without error. It is thus recommended to run your solutions before submitting the assignment.\n",
    "\n",
    "**Note: Unless specifically requested, do not type your answers by** hand. Instead, write code that produces the answer. Your pdf file\\* should show the code and the results of the code execution.\\*\n",
    "\n"
   ]
  }
 ],
 "metadata": {
  "kernelspec": {
   "display_name": "Python 3 (ipykernel)",
   "language": "python",
   "name": "python3"
  },
  "language_info": {
   "codemirror_mode": {
    "name": "ipython",
    "version": 3
   },
   "file_extension": ".py",
   "mimetype": "text/x-python",
   "name": "python",
   "nbconvert_exporter": "python",
   "pygments_lexer": "ipython3",
   "version": "3.13.1"
  },
  "org": null
 },
 "nbformat": 4,
 "nbformat_minor": 5
}
