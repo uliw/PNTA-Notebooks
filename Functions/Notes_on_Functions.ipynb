{
 "cells": [
  {
   "cell_type": "markdown",
   "metadata": {},
   "source": [
    "## Functions\n",
    "\n"
   ]
  },
  {
   "cell_type": "markdown",
   "metadata": {},
   "source": [
    " In the previous module, we used blocks of\n",
    "programming statements so that we can execute them repeatedly (loop\n",
    "statements) or based on a given condition (if statements).\n",
    "\n",
    "Functions are another way to group program statements. However, unlike\n",
    "ifs and loops, functions allow us the create named code blocks. This\n",
    "allows us to write code that we can use repeatedly. \n",
    "\n"
   ]
  },
  {
   "cell_type": "markdown",
   "metadata": {},
   "source": [
    "### Example\n",
    "\n"
   ]
  },
  {
   "cell_type": "markdown",
   "metadata": {},
   "source": [
    "Imagine that python would have no functions to do basic math. You could define a new function called `add_numbers` (let's ignore the details here for a moment, we will walk through this later).\n",
    "\n"
   ]
  },
  {
   "cell_type": "code",
   "execution_count": 1,
   "metadata": {},
   "outputs": [],
   "source": [
    "def add_numbers(a, b):\n",
    "    c = a + b\n",
    "    return c"
   ]
  },
  {
   "cell_type": "markdown",
   "metadata": {},
   "source": [
    "Next you could go on and use this new function `add_numbers` to define `multiply_numbers`\n",
    "\n"
   ]
  },
  {
   "cell_type": "code",
   "execution_count": 1,
   "metadata": {},
   "outputs": [],
   "source": [
    "def multiply_numbers(a, b):\n",
    "    c = 0\n",
    "    for i in range(b):\n",
    "        c = add_numbers(c,a)\n",
    "    return c"
   ]
  },
  {
   "cell_type": "markdown",
   "metadata": {},
   "source": [
    "For good measure, lets add a power function\n",
    "\n"
   ]
  },
  {
   "cell_type": "code",
   "execution_count": 1,
   "metadata": {},
   "outputs": [],
   "source": [
    "def my_power(a,b):\n",
    "    c = 0\n",
    "    for i in range(b): # this will only work if b = int!\n",
    "        c = multiply_numbers(c,a)\n",
    "\n",
    "    return c"
   ]
  },
  {
   "cell_type": "markdown",
   "metadata": {},
   "source": [
    "From the above, we can see that each definition relies on the\n",
    "previous one, and that we, in fact, create new language elements for\n",
    "python. This is most useful for blocks that are used more than once.\n",
    "\n",
    "Once each element has been defined, we can use it in our code:\n",
    "\n"
   ]
  },
  {
   "cell_type": "code",
   "execution_count": 1,
   "metadata": {},
   "outputs": [],
   "source": [
    "b=2\n",
    "e=2\n",
    "\n",
    "p = my_power(b,e)\n",
    "print(f\"{b}^{e} = {p}\")"
   ]
  },
  {
   "cell_type": "markdown",
   "metadata": {},
   "source": [
    "As you can see, the above result is wrong. This demonstrates the second use for functions - we can isolate code from each other. In the above case, we can test each function independently:\n",
    "\n"
   ]
  },
  {
   "cell_type": "code",
   "execution_count": 1,
   "metadata": {},
   "outputs": [
    {
     "name": "stdout",
     "output_type": "stream",
     "text": [
      "# Out [13]: \n",
      "# output\n",
      "2 + 2 = 4\n",
      "2 * 3 = 6\n",
      "2 ^ 4 = 0"
     ]
    }
   ],
   "source": [
    "print(f\"2 + 2 = {add_numbers(2,2)}\")\n",
    "print(f\"2 * 3 = {multiply_numbers(2,3)}\")\n",
    "print(f\"2 ^ 4 = {my_power(2,4)}\")"
   ]
  },
  {
   "cell_type": "markdown",
   "metadata": {},
   "source": [
    "This reveals quickly that our problem is with `my_power`. In other words, functions allow us to reduce complexity by breaking the code into isolated code fragments that can be tested individually. \n",
    "\n",
    "Functions have the following characteristics:\n",
    "\n",
    "-   They allow us to group code sequences and refer to this group by name. This is useful to declutter your code, reduce complexity, and allows us to re-use code. \n",
    "    Most of the python statements we have used so far are\n",
    "    functions (e.g., the print statement).\n",
    "-   functions allow us to extend the capabilities of our program. We\n",
    "    could, e.g., create a function called `bprint` which will\n",
    "    only print in bold.\n",
    "-   Functions allow us to isolate code sections from each other. What happens inside the function, stays inside the function, and what happens outside the function, stays outside the function. If you use, e.g., the variable `a` in the main part of your code, it will be kept different from a variable named `a` inside a function\n",
    "\n"
   ]
  },
  {
   "cell_type": "code",
   "execution_count": 1,
   "metadata": {},
   "outputs": [],
   "source": [
    "# define function\n",
    "def my_test():\n",
    "    a = 13\n",
    "    print(f\"a = {a}, at address {id(a)}\")\n",
    "\n",
    "a = 12\n",
    "my_test() # run function\n",
    "print(f\"a = {a}, at address {id(a)}\")"
   ]
  },
  {
   "cell_type": "markdown",
   "metadata": {},
   "source": [
    "\n",
    "\n",
    "-   Since functions cannot see what happens outside of functions, we need a way to pass information to and from functions. This is done with functions arguments. In the below case, the function definition includes the variables `a` and `b`. This tells us that the function expects two values and that these values will be known as `a` and `b` inside the function. The line with the `return` statement indicates that the function will return one value which is known as `c` inside the function (but not outside!)\n",
    "\n"
   ]
  },
  {
   "cell_type": "code",
   "execution_count": 1,
   "metadata": {},
   "outputs": [],
   "source": [
    "def add_numbers(a, b):\n",
    "    c = a + b\n",
    "    print(f\"a={a}, b={b}, c={c}\")\n",
    "    return c\n",
    "\n",
    "r=add_numbers(2,3)\n",
    "print(r)\n",
    "print(c) # this will fail, since c is not known outside the function"
   ]
  },
  {
   "cell_type": "markdown",
   "metadata": {},
   "source": [
    "-   This helps with program design, because we can\n",
    "    divide a program into functional parts, which we can test and\n",
    "    debug independently. In other words, we can reduce a complex\n",
    "    problem into series of less complex problems!\n",
    "    -   the **value(s)** of a variable(s) can be passed into a function as\n",
    "        arguments to the function call (see below)\n",
    "    -   Function arguments and returns can be any python data type.\n",
    "    -   The results of the computations inside the function can be\n",
    "        returned to the calling code with the return\n",
    "        statement.\n",
    "    -   Functions must always be defined before you can use them. This is\n",
    "        best done at the beginning of the code!\n",
    "    -   Functions should always return a value\n",
    "\n"
   ]
  },
  {
   "cell_type": "code",
   "execution_count": 1,
   "metadata": {},
   "outputs": [],
   "source": [
    "# bad use of a function\n",
    "def add_numbers1(a, b):\n",
    "    c = a + b\n",
    "    print(c)\n",
    "\n",
    "add_numbers1(2,3)\n",
    "\n",
    "# clean use of a function\n",
    "def add_numbers2(a, b):\n",
    "    c = a + b\n",
    "    return c\n",
    "\n",
    "print(add_numbers2(2,3))"
   ]
  },
  {
   "cell_type": "markdown",
   "metadata": {},
   "source": [
    "Think of the following problem: You want to write an application which\n",
    "converts a mineral name into it's chemical formula. We can divide this\n",
    "problem into the following functional parts:\n",
    "\n",
    "1.  get user input\n",
    "2.  interpret the user input and find the chemical formula (or create an\n",
    "    error message)\n",
    "3.  provide the result to the user\n",
    "\n",
    "If we divide this problem with functions, we can write and test the\n",
    "first part even if we have no idea what to do about numbers 2 & 3. The\n",
    "same goes for #2. You can develop and test the code for #2, even so\n",
    "you are completely ignorant about #1 (#3).\n",
    "\n",
    "Now, consider you are working in a team. Likely, you would distribute\n",
    "the tasks along the functional blocks. But this scenario also\n",
    "highlights an interesting problem, you need to agree on what kind of data\n",
    "team #1 will provide to team #2, and what team #2 will provide to team\n",
    "\\#3. So clearly, this requires a bit of planning, and more importantly,\n",
    "good documentation.\n",
    "\n",
    "Let's do an actual example. We define a function with the `def`\n",
    "keyword, followed by the function name and a pair of brackets() with\n",
    "the usual colon symbol to denote the start of a block\n",
    "\n"
   ]
  },
  {
   "cell_type": "code",
   "execution_count": 1,
   "metadata": {},
   "outputs": [],
   "source": [
    "def lookup_chemdata():\n",
    "    # add your code here\n",
    "    pass"
   ]
  },
  {
   "cell_type": "markdown",
   "metadata": {},
   "source": [
    "the way this is written, this function would not know anything about\n",
    "the data which exists outside the function. So let's write it in a way\n",
    "that we pass on some data from the outside world. This is done by\n",
    "adding one (or more) function arguments\n",
    "\n"
   ]
  },
  {
   "cell_type": "code",
   "execution_count": 1,
   "metadata": {},
   "outputs": [],
   "source": [
    "def lookup_chemdata(arg1):\n",
    "    # add your code here\n",
    "    pass"
   ]
  },
  {
   "cell_type": "markdown",
   "metadata": {},
   "source": [
    "Can now call your function from a program, e.g.,\n",
    "\n"
   ]
  },
  {
   "cell_type": "code",
   "execution_count": 1,
   "metadata": {},
   "outputs": [],
   "source": [
    "lookup_chemdata(\"Barite\")"
   ]
  },
  {
   "cell_type": "markdown",
   "metadata": {},
   "source": [
    "So the string \"Barite\" would become the argument to the function, and inside the\n",
    "function, this argument would be available through the variable\n",
    "`arg1`. Note, the actual name does not matter. You could also write\n",
    "\n"
   ]
  },
  {
   "cell_type": "code",
   "execution_count": 1,
   "metadata": {},
   "outputs": [],
   "source": [
    "def lookup_chemdata(n):\n",
    "    # add your code here\n",
    "    pass"
   ]
  },
  {
   "cell_type": "markdown",
   "metadata": {},
   "source": [
    "and then use `n` inside the function. So far our function does not\n",
    "much, and most importantly, it does not pass any value back to the\n",
    "calling program. So let's add a return statement\n",
    "\n"
   ]
  },
  {
   "cell_type": "code",
   "execution_count": 1,
   "metadata": {},
   "outputs": [],
   "source": [
    "def lookup_chemdata(n):\n",
    "    if n == \"Barite\":\n",
    "        f = \"BaSO4\"\n",
    "    else:\n",
    "        f = \"Mineral not found\"\n",
    "\n",
    "    return f"
   ]
  },
  {
   "cell_type": "markdown",
   "metadata": {},
   "source": [
    "now you can call the function like this\n",
    "\n"
   ]
  },
  {
   "cell_type": "code",
   "execution_count": 1,
   "metadata": {},
   "outputs": [],
   "source": [
    "r = lookup_chemdata(\"Barite\")\n",
    "print(r)"
   ]
  },
  {
   "cell_type": "markdown",
   "metadata": {},
   "source": [
    "The result of the function will be stored in the variable to the\n",
    "left of the equation sign (i.e., `r`). So far, so good, however, what\n",
    "is missing is some documentation on what the function does, and some\n",
    "documentation on what type of data the function expects and returns.\n",
    "\n"
   ]
  },
  {
   "cell_type": "markdown",
   "metadata": {},
   "source": [
    "#### Docstrings\n",
    "\n"
   ]
  },
  {
   "cell_type": "markdown",
   "metadata": {},
   "source": [
    "We solve the first problem by adding a doc-string\n",
    ". A docstring\n",
    "is a piece of explanatory text which we add at the beginning of\n",
    "the function definition. Unlike a regular comment, we enclose this\n",
    "text with three quotation marks\n",
    "\n"
   ]
  },
  {
   "cell_type": "code",
   "execution_count": 1,
   "metadata": {},
   "outputs": [],
   "source": [
    "def lookup_chemdata(n):\n",
    "    \"\"\"This function takes a mineral name, and returns its respective\n",
    "    chemical formula. If the mineral name cannot be found, the\n",
    "    function will return an error message.\n",
    "\n",
    "    Example:\n",
    "\n",
    "          f = lookup_chemdata(\"Barite\")\n",
    "    \"\"\"\n",
    "    \n",
    "    f = f\"Unable to find data for {n}\"\n",
    "    \n",
    "    if n == \"Barite\":\n",
    "        f = \"BaSO4\"\n",
    "\n",
    "    return f"
   ]
  },
  {
   "cell_type": "markdown",
   "metadata": {},
   "source": [
    "and now we use the python help system to find out what this function does\n",
    "\n"
   ]
  },
  {
   "cell_type": "code",
   "execution_count": 1,
   "metadata": {},
   "outputs": [],
   "source": [
    "help(lookup_chemdata)"
   ]
  },
  {
   "cell_type": "markdown",
   "metadata": {},
   "source": [
    "Much better! Note that comments are meant for people who read your\n",
    "code, while docstrings are meant for people who use your code. To read\n",
    "all about docstrings, see this link:\n",
    "\n",
    "[https://realpython.com/documenting-python-code/](https://realpython.com/documenting-python-code/)\n",
    "\n",
    "However, what is still missing is some information for\n",
    "our fellow coders on what type of data the function is expecting and\n",
    "what it will return to the calling code. We could (and some people\n",
    "do), explain all this in the doc-string. But python provides a more\n",
    "compact and elegant way.\n",
    "\n"
   ]
  },
  {
   "cell_type": "markdown",
   "metadata": {},
   "source": [
    "#### Type hinting\n",
    "\n"
   ]
  },
  {
   "cell_type": "markdown",
   "metadata": {},
   "source": [
    " Unlike many other computing languages,\n",
    "python does not force you to declare that variable is of type integer,\n",
    "or float. However, nothing prevents us from annotating our variables to\n",
    "clarify what we mean (this works for python 3.5 and higher)\n",
    "\n"
   ]
  },
  {
   "cell_type": "code",
   "execution_count": 1,
   "metadata": {},
   "outputs": [],
   "source": [
    "a = 12       # an integer value\n",
    "a: int = 12  # much faster to type"
   ]
  },
  {
   "cell_type": "markdown",
   "metadata": {},
   "source": [
    "We used this before, but let's review how type hints work.\n",
    "In the above example, we added a colon after the variable name, and then\n",
    "used the keyword `int` to document that `a` should be an integer\n",
    "value. Python provides the following keywords for its basic data\n",
    "types\n",
    "\n"
   ]
  },
  {
   "cell_type": "code",
   "execution_count": 1,
   "metadata": {},
   "outputs": [],
   "source": [
    "a: int\n",
    "b: float\n",
    "g: list\n",
    "h: dict\n",
    "k: set\n",
    "m: tuple\n",
    "t: str"
   ]
  },
  {
   "cell_type": "markdown",
   "metadata": {},
   "source": [
    "We can use this syntax to annotate our function, and now reading the\n",
    "code it is more obvious what you are trying to do.\n",
    "\n"
   ]
  },
  {
   "cell_type": "code",
   "execution_count": 1,
   "metadata": {},
   "outputs": [],
   "source": [
    "def lookup_chemdata(n: str) -> str:\n",
    "    \"\"\"This function takes a mineral name, and returns its respective\n",
    "    chemical formula. If the mineral name cannot be found, the\n",
    "    function will return an error message.\n",
    "    \n",
    "    Arguments: lookup_chemdata(n: str) -> str:\n",
    "\n",
    "    Example:\n",
    "\n",
    "          f = lookup_chemdata(\"Barite\")\n",
    "    \"\"\"\n",
    "\n",
    "    f :str = f\"Unable to find data for {n}\"\n",
    "    \n",
    "    if n == \"Barite\":\n",
    "        f = \"BaSO4\"\n",
    "\n",
    "    return f"
   ]
  },
  {
   "cell_type": "markdown",
   "metadata": {},
   "source": [
    "Now, it is obvious from the function definition that the function expects a string and will return a string. \n",
    "\n",
    "-   **From now on, we will use doctrings for each and every\n",
    "    function we create**\n",
    "\n",
    "-   **From now on, we will use type hinting in all of our scripts and\n",
    "    programs**\n",
    "-   [If you want to read more on why type hinting is essential, read\n",
    "    the story on Dropbox (which is written in python)](https://dropbox.tech/application/our-journey-to-type-checking-4-million-lines-of-python)\n",
    "\n",
    "Last but not least, let's improve our function by using a dictionary to demonstrate a more complex type hinting example\n",
    "\n"
   ]
  },
  {
   "cell_type": "code",
   "execution_count": 1,
   "metadata": {},
   "outputs": [],
   "source": [
    "def lookup_chemdata(key: str) -> str:\n",
    "    \"\"\"This function takes a mineral name, and returns its respective\n",
    "    chemical formula. If the mineral name cannot be found, the\n",
    "    function will return an error message.\n",
    "\n",
    "    Arguments: lookup_chemdata(n: str) -> str:\n",
    "\n",
    "    Example:\n",
    "\n",
    "          f = lookup_chemdata(\"Barite\")\n",
    "    \"\"\"\n",
    "\n",
    "    # if python version is < 3.9 use this\n",
    "    # from typing import Dict  #  type hinting support for dictionaries\n",
    "\n",
    "    # define dictionary\n",
    "    # if python < 3.9 use this\n",
    "    # database: Dict[str, str] = {\n",
    "    database: dict[str, str] = {\n",
    "        \"Barite\": \"BaSO4\",\n",
    "        \"Pyrite\": \"FeS2\",\n",
    "    }\n",
    "\n",
    "    # test if key is known in database\n",
    "    if key in database:\n",
    "        value = database[key]\n",
    "    else:  # return an error message\n",
    "        value = f\"{key} is not in the database. Typo?\"\n",
    "    return value"
   ]
  },
  {
   "cell_type": "markdown",
   "metadata": {},
   "source": [
    "This is a nice example of what you can do with a dictionary (test it\n",
    "out by calling `lookup_chemdata` with various values. Note that if your python version is below 3.9, you need to import \n",
    "the typing module to enable support for improved type hinting.\n",
    "\n"
   ]
  },
  {
   "cell_type": "markdown",
   "metadata": {},
   "source": [
    "### Functions and variable scope\n",
    "\n"
   ]
  },
  {
   "cell_type": "markdown",
   "metadata": {},
   "source": [
    "Earlier, we talked about how functions allow us to isolate code. So\n",
    "let's explore this in more detail. Before running the following code,\n",
    "take a moment to predict it's outcome\n",
    "\n"
   ]
  },
  {
   "cell_type": "code",
   "execution_count": 1,
   "metadata": {},
   "outputs": [],
   "source": [
    "# define function\n",
    "\"\"\" test function. It returns nothing\n",
    "\"\"\"\n",
    "\n",
    "\n",
    "def my_function() -> None:\n",
    "    a = a + 2\n",
    "\n",
    "\n",
    "# now lets use the function in our own code\n",
    "a: int = 12\n",
    "my_function()\n",
    "print(a)"
   ]
  },
  {
   "cell_type": "markdown",
   "metadata": {},
   "source": [
    "Uggh, the dreaded \"UnboundLocalError\". This tells you \n",
    "that you used variable `a` in line 5 before you defined `a`.\n",
    "This happens, because `a` was assigned the value of twelve,\n",
    "outside the function, and the function has no access to the values\n",
    "outside the function\n",
    "\n",
    "Conversely, whatever you define inside the function is not available\n",
    "outside the function:\n",
    "\n"
   ]
  },
  {
   "cell_type": "code",
   "execution_count": 1,
   "metadata": {},
   "outputs": [],
   "source": [
    "# define function\n",
    "\"\"\" test function. It returns nothing\n",
    "\"\"\"\n",
    "def my_function()-> None:\n",
    "    b: int = 12\n",
    "    b = b + 2\n",
    "\n",
    "# now lets use the function in our own code\n",
    "my_function()\n",
    "print(b)"
   ]
  },
  {
   "cell_type": "markdown",
   "metadata": {},
   "source": [
    "There are ways around this, by defining a variable as\n",
    "`global`. However, this is really bad style and should be avoided like\n",
    "the plague.\n",
    "\n",
    "So let's implement our function the correct way:\n",
    "\n"
   ]
  },
  {
   "cell_type": "code",
   "execution_count": 1,
   "metadata": {},
   "outputs": [],
   "source": [
    "# define function\n",
    "\"\"\" This function adds 2 to any number you pass to this function\n",
    "\"\"\"\n",
    "\n",
    "\n",
    "def my_function(c) -> int:\n",
    "    c = c + 2\n",
    "    return c\n",
    "\n",
    "\n",
    "# now lets use the function in our own code\n",
    "a: int = my_function(5)\n",
    "print(a)"
   ]
  },
  {
   "cell_type": "markdown",
   "metadata": {},
   "source": [
    "#### Function calls can be nested\n",
    "\n"
   ]
  },
  {
   "cell_type": "markdown",
   "metadata": {},
   "source": [
    " The output of a function can be\n",
    "used as the input to another function. You already know the print\n",
    "function. So we can use the output of `my_function` as input to the\n",
    "print function:\n",
    "\n"
   ]
  },
  {
   "cell_type": "code",
   "execution_count": 1,
   "metadata": {},
   "outputs": [],
   "source": [
    "a: int = 5\n",
    "print(my_function(a))\n",
    "print(f\"adding 2 to {a} results in {my_function(a)}\")"
   ]
  },
  {
   "cell_type": "markdown",
   "metadata": {},
   "source": [
    "### Do's and do not's\n",
    "\n"
   ]
  },
  {
   "cell_type": "markdown",
   "metadata": {},
   "source": [
    "As with all things code, there are better ways, and there are ways to shoot\n",
    "yourself into the foot. Here is a perfectly ok way to create a function\n",
    "that capitalizes a string:\n",
    "\n"
   ]
  },
  {
   "cell_type": "code",
   "execution_count": 1,
   "metadata": {},
   "outputs": [],
   "source": [
    "def my_cap(s: str) -> None:\n",
    "    \"\"\"\n",
    "    This function takes s:str and converts all characters to capitals\n",
    "    \"\"\"\n",
    "    print(s.upper())\n",
    "\n",
    "\n",
    "lc: str = \"This is important\"\n",
    "my_cap(lc)"
   ]
  },
  {
   "cell_type": "markdown",
   "metadata": {},
   "source": [
    "However, in almost all cases, a function should take one or more value(s)\n",
    "and return one or more value(s). So a better way of doing this would be\n",
    "\n"
   ]
  },
  {
   "cell_type": "code",
   "execution_count": 1,
   "metadata": {},
   "outputs": [],
   "source": [
    "def my_cap(s: str) -> str:\n",
    "    \"\"\"\n",
    "    This function takes s:str and converts all characters to capitals\n",
    "    \"\"\"\n",
    "    return s.upper()\n",
    "\n",
    "\n",
    "lc: str = \"This is important\"\n",
    "print(my_cap(lc))"
   ]
  },
  {
   "cell_type": "markdown",
   "metadata": {},
   "source": [
    "This solution is better because it separates the printing from the\n",
    "conversion, and thus keeps `my_cap` fairly universal. We can now, e.g., write\n",
    "\n"
   ]
  },
  {
   "cell_type": "code",
   "execution_count": 1,
   "metadata": {},
   "outputs": [],
   "source": [
    "ld :str = \"--- this not so much\"\n",
    "print(my_cap(lc), ld)"
   ]
  },
  {
   "cell_type": "markdown",
   "metadata": {},
   "source": [
    "You could achieve this with the previous definition as well, but it would\n",
    "be more convoluted.\n",
    "\n"
   ]
  },
  {
   "cell_type": "markdown",
   "metadata": {},
   "source": [
    "### Functions with multiple return values\n",
    "\n"
   ]
  },
  {
   "cell_type": "markdown",
   "metadata": {},
   "source": [
    " There is nothing\n",
    "special about functions which return more than one value. If you look\n",
    "carefully, you see that the return argument is now a tuple.\n",
    "\n"
   ]
  },
  {
   "cell_type": "code",
   "execution_count": 5,
   "metadata": {},
   "outputs": [
    {
     "name": "stdout",
     "output_type": "stream",
     "text": [
      "k = 2, l = 2\n"
     ]
    }
   ],
   "source": [
    "def foo(a: float) -> tuple():\n",
    "    x = a\n",
    "    y = a * 2\n",
    "    return (x, y)\n",
    "\n",
    "\n",
    "# code\n",
    "v: float = 2\n",
    "k = foo(v)\n",
    "print(f\"k = {k[0]}, l = {k[0]}\")"
   ]
  },
  {
   "cell_type": "markdown",
   "metadata": {},
   "source": [
    "so multiple values are simply returned as a tuple. So how do we add\n",
    "this information to our type hints? As of python 3.7, type hints are\n",
    "only partially implemented. For the above case, we have first to load\n",
    "an additional library, which defines type hinting for compound\n",
    "datatypes. We will learn how to work with libraries in a later module,\n",
    "for now, simply include the import statement at the beginning of your\n",
    "code. \\index{type hinting!multiple return values}\n",
    "\n"
   ]
  },
  {
   "cell_type": "code",
   "execution_count": 1,
   "metadata": {},
   "outputs": [
    {
     "name": "stdout",
     "output_type": "stream",
     "text": [
      "# Out [8]: \n",
      "# output\n",
      "k = 2, l = 4"
     ]
    }
   ],
   "source": [
    "from typing import Tuple # import support for Tuple type hints\n",
    "\n",
    "# define funnction foo\n",
    "def foo (a:float)->Tuple[float,float]:\n",
    "    x = a\n",
    "    y = a * 2\n",
    "    return (x,y)\n",
    "\n",
    "# start of code\n",
    "# define all variable we are using\n",
    "v :float = 2\n",
    "k :float\n",
    "l :float\n",
    "# call function foo\n",
    "k, l = foo(v)\n",
    "\n",
    "# print resulty\n",
    "print(f\"k = {k}, l = {l}\")"
   ]
  },
  {
   "cell_type": "markdown",
   "metadata": {},
   "source": [
    "### Recursive functions\n",
    "\n"
   ]
  },
  {
   "cell_type": "markdown",
   "metadata": {},
   "source": [
    " Functions can call itself. For\n",
    "certain problem-sets, this can be a rather elegant way of\n",
    "coding. However, python is not well suited to recursive programming -\n",
    "so will not use it in our course. However, for good measure, it should\n",
    "at least be mentioned. The following examples is a bit construed, but\n",
    "demonstrates the principle.\n",
    "\n"
   ]
  },
  {
   "cell_type": "code",
   "execution_count": 1,
   "metadata": {},
   "outputs": [
    {
     "name": "stdout",
     "output_type": "stream",
     "text": [
      "# Out [54]: \n",
      "# output\n",
      "8 can be devided by two 3 times"
     ]
    }
   ],
   "source": [
    "from typing import Tuple  # import support for Tuple type hints\n",
    "\n",
    "\n",
    "def div2(n: float, c: int) -> Tuple[float, int]:\n",
    "    \"\"\"This function divides n by 2 and will do so until the result is\n",
    "    smaller than 1. In other words, this function returns the number\n",
    "    of times an integer value can be divided by two.\n",
    "\n",
    "    \"\"\"\n",
    "    n = n / 2\n",
    "\n",
    "    if n >= 1:\n",
    "        c = c + 1\n",
    "        (n, c) = div2(n, c)\n",
    "\n",
    "    return (n, c)\n",
    "\n",
    "\n",
    "# start of main code\n",
    "x: float = 8\n",
    "i: int = 0\n",
    "\n",
    "nt: int\n",
    "nb: float\n",
    "nb, nt = div2(x, i)\n",
    "print(f\"{x} can be devided by two {nt} times\")"
   ]
  }
 ],
 "metadata": {
  "kernelspec": {
   "display_name": "Python 3",
   "language": "python",
   "name": "python3"
  },
  "language_info": {
   "codemirror_mode": {
    "name": "ipython",
    "version": 3
   },
   "file_extension": ".py",
   "mimetype": "text/x-python",
   "name": "python",
   "nbconvert_exporter": "python",
   "pygments_lexer": "ipython3",
   "version": "3.8.5"
  },
  "org": null
 },
 "nbformat": 4,
 "nbformat_minor": 1
}
