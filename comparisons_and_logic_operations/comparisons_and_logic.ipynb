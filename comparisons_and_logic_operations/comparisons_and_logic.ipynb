{
 "cells": [
  {
   "cell_type": "markdown",
   "metadata": {},
   "source": [
    "## Comparison and Logic operators\n",
    "\n"
   ]
  },
  {
   "cell_type": "markdown",
   "metadata": {},
   "source": [
    "Program code, which only ever executes the same sequence of events, is\n",
    "somewhat limited. As such, we need a way to change program execution\n",
    "depending on the occurrence of certain circumstances (typically the\n",
    "value of a variable). We, therefore, need a way to compare values of\n",
    "variables and decide, e.g., whether one variable is equal to another.\n",
    "\n"
   ]
  },
  {
   "cell_type": "markdown",
   "metadata": {},
   "source": [
    "### Comparison operators\n",
    "\n"
   ]
  },
  {
   "cell_type": "markdown",
   "metadata": {},
   "source": [
    " \n",
    "If we want to compare two numbers, we obviously cannot use the equal\n",
    "sign\n",
    "\n"
   ]
  },
  {
   "cell_type": "code",
   "execution_count": 1,
   "metadata": {},
   "outputs": [],
   "source": [
    "a = 12\n",
    "b = 14\n",
    "a = b  # this assigns the value of b to a"
   ]
  },
  {
   "cell_type": "markdown",
   "metadata": {},
   "source": [
    "In most programming languages, it is thus customary to write a double\n",
    "equal sign, to denote a comparison.\n",
    "\n"
   ]
  },
  {
   "cell_type": "code",
   "execution_count": 1,
   "metadata": {},
   "outputs": [],
   "source": [
    "a = 12\n",
    "b = 14\n",
    "a == b  # this compares the value of b to a"
   ]
  },
  {
   "cell_type": "markdown",
   "metadata": {},
   "source": [
    "Unlike numeric operators, comparisons do not result in a numeric\n",
    "value, rather, they result in truth values (also referred to as logic\n",
    "or boolean value). In other words, two numbers are either equal (so\n",
    "the statement is `True`) or they are not equal. Thus the statement is\n",
    "`False`\n",
    "\n",
    "Most languages signify this by reporting this with the reserved words\n",
    "of `True` or `False`. Since there are only two logical states, boolean\n",
    "values can be represented by a single bit (i.e., either 0 or\n",
    "1). Compare this to the memory requirements of a regular integer value\n",
    "(64-bit). \n",
    "\n",
    "The basic comparisons operators are as follows:\n",
    "\n"
   ]
  },
  {
   "cell_type": "code",
   "execution_count": 1,
   "metadata": {},
   "outputs": [],
   "source": [
    "5 == 4  # test for equality\n",
    "2 != 3  # test whether two values are not equal\n",
    "5 > 4   # test for greater value\n",
    "5 < 4   # test for smaller value\n",
    "1 >= 1  # test for greater or equal value\n",
    "2 <= 2  # test for smaller or equal value"
   ]
  },
  {
   "cell_type": "markdown",
   "metadata": {},
   "source": [
    "We can use the above operators in one way or another on most python\n",
    "data types, although you have to be careful to understand what is\n",
    "being compared. If we are comparing strings, the equality operator\n",
    "will tell you if two strings are the same or not. Run the\n",
    "following code:\n",
    "\n"
   ]
  },
  {
   "cell_type": "code",
   "execution_count": 1,
   "metadata": {},
   "outputs": [],
   "source": [
    "print(f'\"Apples\" == \"Apples\" yields {\"Apples\" == \"Apples\"}')\n",
    "print(f'\"Apples\" == \"Oranges\" yields {\"Apples\" == \"Oranges\"}')"
   ]
  },
  {
   "cell_type": "markdown",
   "metadata": {},
   "source": [
    "Note the use of single quotes in the above f-string, which allows me\n",
    "to use double quotes inside the f-string.\n",
    "\n",
    "But what is the point of\n",
    "\n"
   ]
  },
  {
   "cell_type": "code",
   "execution_count": 1,
   "metadata": {},
   "outputs": [],
   "source": [
    "print(f'\"Apples\" < \"Oranges\" yields {\"Apples\" < \"Oranges\"}')"
   ]
  },
  {
   "cell_type": "markdown",
   "metadata": {},
   "source": [
    "In this case, python compares the ASCII value of the first letter in\n",
    "each word, so this comparison is not particularly meaningful.\n",
    "\n",
    "There are other functions, which are not strictly comparison operators, but they return truth values as well. The following examples allows you to test\n",
    "whether a number is e.g., of type real or of type integer\n",
    "\n"
   ]
  },
  {
   "cell_type": "code",
   "execution_count": 1,
   "metadata": {},
   "outputs": [],
   "source": [
    "isinstance(12, int)"
   ]
  },
  {
   "cell_type": "markdown",
   "metadata": {},
   "source": [
    "another example is the rather useful `in` operator\n",
    "\n"
   ]
  },
  {
   "cell_type": "code",
   "execution_count": 1,
   "metadata": {},
   "outputs": [],
   "source": [
    "s=\"Apples and Oranges\"\n",
    "r = \"Apples\" in s\n",
    "print(r)"
   ]
  },
  {
   "cell_type": "markdown",
   "metadata": {},
   "source": [
    "this also works for any list type data types including dictionaries\n",
    "\n"
   ]
  },
  {
   "cell_type": "code",
   "execution_count": 1,
   "metadata": {},
   "outputs": [],
   "source": [
    "d = {\"Apples\":10, \"Oranges\":12}\n",
    "r = \"Apples\" in d\n",
    "print(r)"
   ]
  },
  {
   "cell_type": "markdown",
   "metadata": {},
   "source": [
    "### Logic Operators\n",
    "\n"
   ]
  },
  {
   "cell_type": "markdown",
   "metadata": {},
   "source": [
    "\n",
    "Now that we have truth values (aka boolean values), we can use logic\n",
    "operators to create more complex statements. Think, e.g., a condition\n",
    "like this: The student will pass the class if he submits more than 70%\n",
    "of his assignments, and is never more than 10 minutes late to\n",
    "class. This requires that we combine two or more comparison\n",
    "operators. There is indeed a whole subset of mathematics dedicated to\n",
    "this (boolean algebra), but for our purpose, we get away with the 3\n",
    "basic operators called `and`, `or`, and `not`.\n",
    "\n",
    "    A = True\n",
    "    B = False\n",
    "    A and B   # only true if both are true\n",
    "    A or  B   # true if at least one is true\n",
    "    A not B   # wrong syntax, see below\n",
    "\n",
    "lets do an actual example\n",
    "\n"
   ]
  },
  {
   "cell_type": "code",
   "execution_count": 1,
   "metadata": {},
   "outputs": [],
   "source": [
    "x = 12\n",
    "\n",
    "r = x > 0 # test if x is greater than 0\n",
    "print(f\"x > 0 = {r}\")\n",
    "\n",
    "r = x < 10 # test if x is smaller than 0\n",
    "print(f\"x < 10 = {r}\")\n",
    "\n",
    "r = x > 0 and x < 10 # test if x is bewteen 0 and 10\n",
    "print(f\"x > 0 and x < 10 = {r}\")\n",
    "\n",
    "r = x > 0 or x < 10 # test if x is either larger than 0 or smaller than 10\n",
    "print(f\"x > 0 or x < 10  = {r}\")"
   ]
  },
  {
   "cell_type": "markdown",
   "metadata": {},
   "source": [
    "You can see that the above can get messy pretty quickly. Things get\n",
    "even more complicated if we start using the `not` operator. Imagine we\n",
    "need a statement which tests whether `x` falls in between a certain\n",
    "range (3<sup>rd</sup> expression above). We can write this using the `not`\n",
    "operator as\n",
    "\n"
   ]
  },
  {
   "cell_type": "code",
   "execution_count": 1,
   "metadata": {},
   "outputs": [],
   "source": [
    "x = 12\n",
    "r = not(x > 0 and x < 10) # test if x is not bewteen 0 and 10\n",
    "print(f\"not(x > 0 and x < 10) = {r}\")"
   ]
  },
  {
   "cell_type": "markdown",
   "metadata": {},
   "source": [
    "However, with a little bit of thinking we can rewrite this as\n",
    "\n"
   ]
  },
  {
   "cell_type": "code",
   "execution_count": 1,
   "metadata": {},
   "outputs": [],
   "source": [
    "x = 12\n",
    "r = x <= 0 or x >= 10 # test if x is smaller than 0 and larger than 10\n",
    "print(f\"x < 0 and x > 10 = {r}\")"
   ]
  },
  {
   "cell_type": "markdown",
   "metadata": {},
   "source": [
    "which may be easier to read.\n",
    "\n",
    "Note that it makes a difference whether you write `x > 4` or `not(x <\n",
    "4)`. The former includes 5, whereas the latter statement also includes\n",
    "the number 4. So care must be taken when negating (or un-negating)\n",
    "statements. Use the following snippet to test whether both statements\n",
    "give the same result for various values of `x`.\n",
    "\n"
   ]
  },
  {
   "cell_type": "code",
   "execution_count": 1,
   "metadata": {},
   "outputs": [],
   "source": [
    "x = 12\n",
    "print(f\"x = {x}\")\n",
    "r = x > 0 or x < 10 # test if x is either larger than 0 or smaller than 10\n",
    "print(f\"x > 0 or x < 10  = {r}\")\n",
    "\n",
    "r = not(x >= 0 or x <= 10) # test if x is either larger than 0 or smaller than 10\n",
    "print(f\"not(x >= 0 or x <= 10)  = {r}\")"
   ]
  },
  {
   "cell_type": "markdown",
   "metadata": {},
   "source": [
    "This becomes even more tricky when you use the `or` statement. The\n",
    "first logic operation in the next cell is obviously true\n",
    "\n"
   ]
  },
  {
   "cell_type": "code",
   "execution_count": 1,
   "metadata": {},
   "outputs": [],
   "source": [
    "x = 12\n",
    "print(f\"x = {x}\")\n",
    "\n",
    "r = x > 0 or x < 10 # test if x is either larger than 0 or smaller than 10\n",
    "print(f\"x > 0 or x < 10  = {r}\")\n",
    "\n",
    "# If we negate the above in english, we would get:\n",
    "# test if x is neither larger/equal than 0  or smaller/equal than 10\n",
    "# however, that is not what this code does\n",
    "r = not(x >= 0 or x <= 10)\n",
    "print(f\"not(x >= 0 or x <= 10)  = {r}\")\n",
    "\n",
    "# rather, it says :  not(x is either larger than 0 or smaller than 10).\n",
    "# to get the English language version, you would have to write\n",
    "\n",
    "r = not(x >= 0) or not(x <= 10)\n",
    "print(f\"not(x >= 0) or not(x <= 10)  = {r}\")"
   ]
  },
  {
   "cell_type": "markdown",
   "metadata": {},
   "source": [
    "The second statement is obviously the not-version of the first (so\n",
    "`True` becomes `False` or vice versa), but it is not how we would\n",
    "negate a statement in English.\n",
    "\n",
    "Only the third statement is equivalent to the English language\n",
    "meaning. Much confusion and incorrect code originates from the careless\n",
    "writing of logical expressions. Towards this end, I am a great fan of using brackets to clarify logic operations. Consider this example\n",
    "\n"
   ]
  },
  {
   "cell_type": "code",
   "execution_count": 1,
   "metadata": {},
   "outputs": [],
   "source": [
    "r = not(x >= 0 or x <= 10)\n",
    "# versus\n",
    "r = not(\n",
    "    x >= 0\n",
    "    or\n",
    "    x <= 10\n",
    ")\n",
    "# or\n",
    "r = not(\n",
    "    (x >= 0) or (x <= 10)\n",
    ")"
   ]
  },
  {
   "cell_type": "markdown",
   "metadata": {},
   "source": [
    "Space comes for free, deciphering code costs time&#x2026;.\n",
    "\n",
    "Use the above snippet to test whether these expressions indeed give\n",
    "the same results for various values of x. Also, note the use of the\n",
    "brackets to group statements and the absence of commas. Otherwise,\n",
    "you would create a tuple!\n",
    "\n"
   ]
  }
 ],
 "metadata": {
  "kernelspec": {
   "display_name": "Python 3",
   "language": "python",
   "name": "python3"
  },
  "language_info": {
   "codemirror_mode": {
    "name": "ipython",
    "version": 3
   },
   "file_extension": ".py",
   "mimetype": "text/x-python",
   "name": "python",
   "nbconvert_exporter": "python",
   "pygments_lexer": "ipython3",
   "version": "3.8.5"
  },
  "org": null
 },
 "nbformat": 4,
 "nbformat_minor": 1
}
