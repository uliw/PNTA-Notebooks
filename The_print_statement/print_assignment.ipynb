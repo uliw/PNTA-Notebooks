{
 "cells": [
  {
   "cell_type": "markdown",
   "metadata": {},
   "source": [
    "## Assignment\n",
    "\n"
   ]
  },
  {
   "cell_type": "markdown",
   "metadata": {},
   "source": [
    "All questions should be solved with the techniques introduces in the\n",
    "last module.\n",
    "\n",
    "1.  Set a = to 12 and then write a python statement in such a way that\n",
    "    you get the following output (1pt).\n",
    "    \n",
    "        The value of the variable a = 12\n",
    "    \n",
    "    Note, I don't want you to type a string with these words. Use an\n",
    "     f-string and use the appropriate syntax so that the actual value of\n",
    "     a is printed.\n",
    "\n",
    "2.  Using the same code as above, include linefeed statements in such a\n",
    "    way that your printout is preceded and followed by an empty line\n",
    "    (1pt).\n",
    "\n",
    "3.  Using the same code as in 2, precede and follow the empty lines\n",
    "    with 41 dashes (see below). Note that rather than typing (and\n",
    "    counting) use this statement `'-'*41`. Your result should look like\n",
    "    this - including the empty lines. (1pt).\n",
    "    \n",
    "        ----------------------------------------\n",
    "        \n",
    "        The value of the variable a = 12\n",
    "        \n",
    "        ----------------------------------------\n",
    "\n",
    "4.  Modify the first and last print statement  in such a\n",
    "    way that you get this (1pt)\n",
    "    \n",
    "        *----------------------------------------*\n",
    "        \n",
    "        The value of the variable a = 12\n",
    "        \n",
    "        *----------------------------------------*\n",
    "\n",
    "5.  Using the above code add an escape sequence in front of \"The\n",
    "    value&#x2026;\", so that this line is displayed with one tab to the\n",
    "    right. (1pt)\n",
    "\n",
    "6.  You are working on software for a point of sale system (i.e., cash\n",
    "    register). Your software knows about the sales price, as well as\n",
    "    how much cash you received from the customer. Write some python\n",
    "    code which calculates and displays the change owed. Your display\n",
    "    should read:\n",
    "    \n",
    "        Change owed = $12.40\n",
    "    \n",
    "    Notes: A) You code should correctly round the owed amount to the\n",
    "    nearest 10 cents, and display the cents as in the above example; B)\n",
    "    You should achieve this by using the appropriate format modifier\n",
    "    and by making good use of the f-string. Assume that the customer\n",
    "    provided you with a twenty dollar bill, and that the price was CAD\n",
    "    6.63. Also, test your code with a price of $6.67. (4pts)\n",
    "\n",
    "7.  Using the example in #6: Rather than printing the change owed,\n",
    "    print a proper receipt. Towards this end, add a variable which\n",
    "    describes the item. Your output should look like this (note that\n",
    "    the dollar signs should all be aligned &#x2013; see the pdf version if in\n",
    "    doubt)\n",
    "\n"
   ]
  },
  {
   "cell_type": "code",
   "execution_count": 1,
   "metadata": {},
   "outputs": [],
   "source": [
    "\"\"\"\n",
    "Cheese        $6.63\n",
    "HST           $\n",
    "-------------------\n",
    "Total         $\n",
    "\n",
    "Paid          $\n",
    "Change owed = $\n",
    "\"\"\""
   ]
  },
  {
   "cell_type": "markdown",
   "metadata": {},
   "source": [
    "Notes: This is meant to be an actual program. In other words, your code should be universal. So we do not want to write\n",
    "\n"
   ]
  },
  {
   "cell_type": "code",
   "execution_count": 1,
   "metadata": {},
   "outputs": [],
   "source": [
    "print(f\"Cheese \\t \\t $6.63\")"
   ]
  },
  {
   "cell_type": "markdown",
   "metadata": {},
   "source": [
    "rather, we want to declare each value in a variable like this\n",
    "\n"
   ]
  },
  {
   "cell_type": "code",
   "execution_count": 1,
   "metadata": {},
   "outputs": [],
   "source": [
    "item_name = \"Cheese\"\n",
    "cost = 2.63\n",
    "hst = 0.13\n",
    "paid = 20"
   ]
  },
  {
   "cell_type": "markdown",
   "metadata": {},
   "source": [
    "and than use those variables in our code. The advantage being that  if\n",
    "   you want to change your price or item name, you simply change the\n",
    "   variable definition at the beginning of the code, rather than\n",
    "   having to modify the internals of your code.\n",
    "\n",
    "Notes: A) you first need to calculate the HST\n",
    "(13%) B) Do not forget to do the rounding and make sure that\n",
    "`total` plus `changed_owed` are equal to `paid`. In other words be\n",
    "on the lookout for rounding errors. C) The dollar sign of the price should be three\n",
    "tab stops to the right. The length of the item description should\n",
    "be limited in such a way that it does not displace the price. Test\n",
    "this by setting `item = \"Really Long Pasta\"` (5pts)\n",
    "\n",
    "Total Points: 14\n",
    "\n"
   ]
  },
  {
   "cell_type": "markdown",
   "metadata": {},
   "source": [
    "### Submission Instructions\n",
    "\n"
   ]
  },
  {
   "cell_type": "markdown",
   "metadata": {},
   "source": [
    "Create a new (or copy and existing) notebook in your `submissions`\n",
    "folder before editing it. Otherwise, your edits may be overwritten the\n",
    "next time you log into syzygy. Please name your copy\n",
    "\"Assignment-Name-FirstName-LastName\": \n",
    "\n",
    "-   Replace the `Assignment-Name` with the name of the assignment\n",
    "    (i.e., the filename of the respective Jupyter Notebook)\n",
    "-   `FirstName-Last-Name` with your own name.\n",
    "\n",
    "Your notebook/pdf must start with the following lines \n",
    "\n",
    "**Assignment Title**\n",
    "\n",
    "**Date:**\n",
    "\n",
    "**First Name:**\n",
    "\n",
    "**Last Name:**\n",
    "\n",
    "**Student: Id**\n",
    "\n",
    "Before submitting your assignment, re-read the learning outcomes and\n",
    "verify that you are comfortable which each concept. If not, please\n",
    "speak up on the discussion board and ask for further clarification. I\n",
    "can guarantee that you if you feel uncertain about a concept, at least\n",
    "half the class will be in the same boat. So don't be shy!\n",
    "\n",
    "To submit your assignment, you need to download it `ipyn` notebook\n",
    "format **and** `pdf` format. Please submit both files on Quercus. Note\n",
    "that the pdf export can fail if your file contains invalid\n",
    "markup/python code. So you need to check that the pdf export is\n",
    "complete and does not miss any sections. If you have export problems,\n",
    "please contact the course instructor directly.\n",
    "\n",
    "Notebooks typically have empty code cells in which you have to enter\n",
    "python code. Please use the respective cell below each question, or\n",
    "create a python cell where necessary. Add text cells to enter your\n",
    "answers where appropriate. Your answers will only count if the code\n",
    "executes without error. It is thus recommended to run your solutions\n",
    "before submitting the assignment.\n",
    "\n",
    "**Note: Do not type your answers by hand. Rather, write code which**\n",
    "**produces the answer, and your pdf should show the code as well as**\n",
    "**the results of the code execution!**\n",
    "\n"
   ]
  }
 ],
 "metadata": {
  "kernelspec": {
   "display_name": "Python 3",
   "language": "python",
   "name": "python3"
  },
  "language_info": {
   "codemirror_mode": {
    "name": "ipython",
    "version": 3
   },
   "file_extension": ".py",
   "mimetype": "text/x-python",
   "name": "python",
   "nbconvert_exporter": "python",
   "pygments_lexer": "ipython3",
   "version": "3.8.5"
  },
  "org": null
 },
 "nbformat": 4,
 "nbformat_minor": 1
}
