{
 "cells": [
  {
   "cell_type": "markdown",
   "id": "50696e2f-bfcd-43d0-9725-ca566c428c26",
   "metadata": {},
   "source": [
    "### Intro\n",
    "\n"
   ]
  },
  {
   "cell_type": "markdown",
   "id": "e7dc9774-8f93-40ef-afbe-582077b367e7",
   "metadata": {},
   "source": [
    "If you look at your code from question one from last week, you will probably see something like this :\n",
    "\n"
   ]
  },
  {
   "cell_type": "code",
   "execution_count": 1,
   "id": "7eb6993f-f585-48a5-9d47-4a815a5dc9f8",
   "metadata": {},
   "outputs": [],
   "source": [
    "def my_enum(ml):\n",
    "    \"\"\"Return a list of tuples where each tuple contains the index and value\n",
    "    for each element in ml.\n",
    "    \"\"\"\n",
    "    result = ()\n",
    "    for i in range(len(ml)):\n",
    "        result = result + ((i, ml[i]),)\n",
    "    return result\n",
    "\n",
    "a = [\"a\", \"B\"]\n",
    "print(my_enum(a))"
   ]
  },
  {
   "cell_type": "markdown",
   "id": "a5157d42-6863-4db2-a54f-935b8feb66fc",
   "metadata": {},
   "source": [
    "If you're well-versed in coding, you might quickly grasp the purpose of this code. However, without the context of the assignment, you may need to invest time deciphering its function. As code complexity escalates, this challenge can become even more pronounced.\n",
    "\n"
   ]
  },
  {
   "cell_type": "markdown",
   "id": "04c5455f-719a-47de-b6ec-8ede135e8638",
   "metadata": {},
   "source": [
    "#### Better docstrings\n",
    "\n"
   ]
  },
  {
   "cell_type": "markdown",
   "id": "21a7dacd-1a8e-4208-bd07-a4baa454bce5",
   "metadata": {},
   "source": [
    "While the type hints above will make it clarify what goes in and out of a function, they provide no indication of what the function is supposed to do. This is where the so called doc-strings come into play. We can substantially improve on the simple docstrings introduces in the last module, by adding text that explains each parameter, the return values, and how to use the function. Execute the below code:\n",
    "\n"
   ]
  },
  {
   "cell_type": "code",
   "execution_count": 1,
   "id": "e2709b62-6e7e-4302-8597-315892a26bf6",
   "metadata": {},
   "outputs": [],
   "source": [
    "def my_enum(ml):\n",
    "    \"\"\" my_enum expects a list and will return a list of tuples, where\n",
    "    each tuple contains the index position and value of the list elements.\n",
    "\n",
    "    Parameters:\n",
    "    -----------\n",
    "    ml\n",
    "        any list-type object\n",
    "\n",
    "    Returns:\n",
    "    --------\n",
    "    result\n",
    "        a list of tuples [(index, value), ....]\n",
    "\n",
    "    Examples:\n",
    "    ---------\n",
    "        a = [\"a\", \"B\"]\n",
    "        print(my_enum(a))\n",
    "        returns [(0,\"a\"),(1,\"b\")]\n",
    "    \"\"\"\n",
    "help(my_enum)"
   ]
  },
  {
   "cell_type": "markdown",
   "id": "87f58109-8c27-4848-a509-8862bab4898a",
   "metadata": {},
   "source": [
    "If you execute the above cell, you should see the help text for `my_enum()`. \n",
    "The syntax for doc-strings is as follows:\n",
    "\n",
    "-   A doc string must start immediately under the function name\n",
    "-   The left alignment must match the other lines in the function\n",
    "-   Doc strings should explain the function parameters and the return values. Note that this is not a duplication of the type hints. Type hints are meant for programmers, doc-strings are meant for users who call the help function.\n",
    "-   Parameters are declared by the Parameter keyword. This keyword\n",
    "    -   must be preceded by a blank line,\n",
    "    -   must be left aligned\n",
    "    -   must be followed by a line of dashes that align with the keyword\n",
    "    -   Once the parameter keyword has been given, you can list one or more parameters.\n",
    "-   Returns: are described similarly to the Parameters, but with the Returns keyword\n",
    "-   Where appropriate or required, provide an example section as well.\n",
    "\n"
   ]
  },
  {
   "cell_type": "markdown",
   "id": "d1c9b026-1225-4ebc-bdfc-cb49b32eaf21",
   "metadata": {},
   "source": [
    "#### Type hints\n",
    "\n"
   ]
  },
  {
   "cell_type": "markdown",
   "id": "75f88632-8e29-472e-9953-acb1ee336cbe",
   "metadata": {},
   "source": [
    "In the previous module, we explored docstrings that describe a function's purpose. In this module, we will focus on type hints. Type hints serve as a guide for other programmers who read your code and can also be utilized by tools that verify its consistency. This becomes especially crucial in large-scale projects. For this course, type hints will be mandatory for all function signatures, while their use in other contexts will be optional. Let’s examine the code above with type hints incorporated.\n",
    "\n"
   ]
  },
  {
   "cell_type": "code",
   "execution_count": 1,
   "id": "8c149e6c-3eae-4244-b103-6c5dde7c2857",
   "metadata": {},
   "outputs": [],
   "source": [
    "def my_enum(ml: list[Any]) -> tuple[tuple[int, Any]]:\n",
    "    \"\"\" my_enum expects a list and will return a list of tuples, where\n",
    "    each tuple contains the index position and value of the list elements.\n",
    "\n",
    "    Parameters:\n",
    "    -----------\n",
    "    ml\n",
    "        any list-type object\n",
    "\n",
    "    Returns:\n",
    "    --------\n",
    "    result\n",
    "        a tuple of tuples ((index, value), ....)\n",
    "\n",
    "    Examples:\n",
    "    ---------\n",
    "        a = [\"a\", \"B\"]\n",
    "        print(my_enum(a))\n",
    "        returns ((0,\"a\"),(1,\"b\"))\n",
    "    \"\"\"\n",
    "    result: tuple = ()\n",
    "    for i in range(len(ml)):\n",
    "         result = result + ((i, ml[i]),)\n",
    "    return result"
   ]
  },
  {
   "cell_type": "markdown",
   "id": "2ff641af-e2c0-402d-b268-2fdb9289e0e3",
   "metadata": {},
   "source": [
    "You will notice that some of the variable names are now followed by a colon, a blank, and then the variable type. These kinds of annotations are meant for programmers, Python ignores them entirely (although there are tools to check for consistency). Reading the above, makes it immediately clear that `my_enum()` expects a list as a function argument, and will return a tuple. Note that the loop variable `i` is never annotated. To summarize:\n",
    "\n",
    "-   Type hints are hints meant to inform a person reading the code in a concise manner\n",
    "-   They also help you (the programmer) to be more conscious of your code.\n",
    "-   They are ignored by Python, but you have to follow their syntax (colon, space, type)\n",
    "\n"
   ]
  },
  {
   "cell_type": "markdown",
   "id": "3c650b77-47ea-456a-b620-6611a3ce5666",
   "metadata": {},
   "source": [
    "#### Useful type hints\n",
    "\n"
   ]
  },
  {
   "cell_type": "markdown",
   "id": "2465c053-efdb-4476-9a8f-78d74ee9e4ef",
   "metadata": {},
   "source": [
    "The following list contains a list of typical type hints\n",
    "\n"
   ]
  },
  {
   "cell_type": "code",
   "execution_count": 1,
   "id": "782e57d8-e8a2-4461-a08f-af2622c018a3",
   "metadata": {},
   "outputs": [],
   "source": [
    "a: int\n",
    "a: float\n",
    "a: str\n",
    "a: bool\n",
    "a: dict\n",
    "a: tuple\n",
    "a: list\n",
    "a: set\n",
    "a: callable # a function like print() is a callable"
   ]
  },
  {
   "cell_type": "markdown",
   "id": "b87c0fc1-eb04-450b-98ad-68e2a87fac50",
   "metadata": {},
   "source": [
    "#### The curious case of the Any type\n",
    "\n"
   ]
  },
  {
   "cell_type": "markdown",
   "id": "71461757-9638-4c69-94b4-5e6d7bc2b46f",
   "metadata": {},
   "source": [
    "Sometimes, a function argument could be anything. So it would be nice to simply write `a: any`. Alas, `any()` is a built-in Python function that has been around for much longer than type-hinting.\n",
    "There are two ways around this: A) do not use a type hint at all, B) import the `Any` type from the `typing` library.\n",
    "\n"
   ]
  },
  {
   "cell_type": "code",
   "execution_count": 1,
   "id": "345e4cf5-f468-405b-bdec-1e79e31727d1",
   "metadata": {},
   "outputs": [],
   "source": [
    "from typing import Any\n",
    "\n",
    "a: Any # States that a can be of any type"
   ]
  },
  {
   "cell_type": "markdown",
   "id": "fbac49da-24fb-4364-91b6-38f290530d32",
   "metadata": {},
   "source": [
    "Type hints can be nested\n",
    "\n"
   ]
  },
  {
   "cell_type": "code",
   "execution_count": 1,
   "id": "6dc83363-0de8-43d5-887b-57a6a9d1dc82",
   "metadata": {},
   "outputs": [],
   "source": [
    "a: list[str] # as list containing strings\n",
    "a: list[tuple[int,Any]] # a list containing tuples of int and any\n",
    "a: dict[str, int] # a dict where the key is a str and the value is an int"
   ]
  },
  {
   "cell_type": "markdown",
   "id": "6ceda505-df48-4567-a01d-edb788a45f94",
   "metadata": {},
   "source": [
    "So the `my_enum()` function signature would be more fully type hinted as\n",
    "\n"
   ]
  },
  {
   "cell_type": "code",
   "execution_count": 1,
   "id": "ce82e528-4fa1-4314-a8f7-6811f3bc4bec",
   "metadata": {},
   "outputs": [],
   "source": [
    "def my_enum(ml: list[Any]) -> tuple[tuple[int,Any]]:\n",
    "   ..."
   ]
  },
  {
   "cell_type": "markdown",
   "id": "e3d5393b-64fd-4afe-898b-0e14afdbd7a6",
   "metadata": {},
   "source": [
    "This is a useful exercise which makes you think about what data your code is actually using.\n",
    "\n"
   ]
  },
  {
   "cell_type": "markdown",
   "id": "5c6159f2-7570-4e12-b856-017762170f5e",
   "metadata": {},
   "source": [
    "#### Custom type hints\n",
    "\n"
   ]
  },
  {
   "cell_type": "markdown",
   "id": "b9833019-e7f8-4566-af90-3218e7d1cd0a",
   "metadata": {},
   "source": [
    "Imagine a function that either takes an integer or a float number. In this case you could write:\n",
    "\n"
   ]
  },
  {
   "cell_type": "code",
   "execution_count": 1,
   "id": "9f6ea27f-bc3c-4e5e-b750-aca917fb7bfd",
   "metadata": {},
   "outputs": [],
   "source": [
    "def foo(a: int | float) -> int | float:\n",
    "    ..."
   ]
  },
  {
   "cell_type": "markdown",
   "id": "b669061b-35c2-4769-b76e-037ea094a87e",
   "metadata": {},
   "source": [
    "The vertical bar indicates that the type is either int or float. The above is a bit lengthy, so we can create our own custom type if need be.\n",
    "\n"
   ]
  },
  {
   "cell_type": "code",
   "execution_count": 1,
   "id": "787c4064-cf78-43c7-bebc-08f893eef3fa",
   "metadata": {},
   "outputs": [],
   "source": [
    "from typing import Union\n",
    "\n",
    "Number = Union[float, int]\n",
    "\n",
    "def foo(a: Number) -> Number:\n",
    "    ..."
   ]
  },
  {
   "cell_type": "markdown",
   "id": "946416d0-2007-4e69-9d30-e8e6669cccd8",
   "metadata": {},
   "source": [
    "While type hints are a very concise way to annotate your code, they are a relatively new feature in the Python universe. Particularly third part libraries are slow to implement them. We will revisit this later in this term. But from now on, please type hint your functions.\n",
    "\n"
   ]
  }
 ],
 "metadata": {
  "kernelspec": {
   "display_name": "Python 3 (ipykernel)",
   "language": "python",
   "name": "python3"
  },
  "language_info": {
   "codemirror_mode": {
    "name": "ipython",
    "version": 3
   },
   "file_extension": ".py",
   "mimetype": "text/x-python",
   "name": "python",
   "nbconvert_exporter": "python",
   "pygments_lexer": "ipython3",
   "version": "3.13.1"
  },
  "org": null
 },
 "nbformat": 4,
 "nbformat_minor": 5
}
