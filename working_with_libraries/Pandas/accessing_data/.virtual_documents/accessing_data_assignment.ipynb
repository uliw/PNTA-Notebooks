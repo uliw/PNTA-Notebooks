











import pandas as pd

names: list[str] = ["Paul", "Peter", "Hook", "Wendy"]
ages: list[int] = [13, 41, 51, 12]





#





# first we do some magic to create a list of tuples
names: list[str] = ["Paul", "Peter", "Hook", "Wendy"]
ages: list[int] = [13, 41, 51, 12]

# zip(per) two lists into a list of tuples
names_and_ages: list[str,int] = list(zip(names, ages))
print(names_and_ages)















