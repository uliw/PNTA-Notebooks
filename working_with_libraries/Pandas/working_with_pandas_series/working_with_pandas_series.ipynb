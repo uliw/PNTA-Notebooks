{
 "cells": [
  {
   "cell_type": "markdown",
   "metadata": {},
   "source": [
    "## Reading data the right way\n",
    "\n"
   ]
  },
  {
   "cell_type": "markdown",
   "metadata": {},
   "source": [
    "First, we import a dataset to play with. As a new twist, I will also\n",
    "use a library that can test whether a file is present or not. This is\n",
    "because I spent 20 minutes debugging my code without realizing that I\n",
    "had the wrong filename. So I decided to include this here. It may\n",
    "prove useful. The code is straightforward and simply raises an error\n",
    "if the file is not present. To test whether the file is\n",
    "present, we import the pathlib-library, which imports tools to deal with\n",
    "file and path names (e.g., checking whether a file is\n",
    "present). I recommend using this code snippet in your \n",
    "submissions.  Recall that to\n",
    "locate a file, you need to know the filename and the directory where\n",
    "to find the file.\n",
    "\n",
    "The following piece of code first retrieves the current directory, and\n",
    "then builds a path object from the current working directory plus the\n",
    "filename.\n",
    "\n"
   ]
  },
  {
   "cell_type": "code",
   "execution_count": 1,
   "metadata": {},
   "outputs": [],
   "source": [
    "import pathlib as pl\n",
    "import pandas as pd\n",
    "\n",
    "# define the file and sheetname we want to read. Note that the file\n",
    "# has to be present in the local working directory!\n",
    "fn: str = \"example_file.csv\"  # file name\n",
    "\n",
    "# get the current working directory\n",
    "cwd: pl.Path = pl.Path.cwd()\n",
    "print(f\"the current working directory is\\n \\t {cwd}\\n\")\n",
    "\n",
    "# build the fully qualified file name (i.e. path + filename)\n",
    "fqfn: pl.Path = pl.Path(f\"{cwd}/{fn}\")\n",
    "\n",
    "# This piece of code could have saved me 20 minutes...\n",
    "if not fqfn.exists():  # check if the file is actually there\n",
    "    raise FileNotFoundError(f\"Cannot find file {fqfn}\")\n",
    "else:\n",
    "    print(f\"The fully qualified filename is\\n \\t {fqfn}\\n\")\n",
    "    df: pd.Dataframe = pd.read_csv(fqfn)  # read csv data"
   ]
  },
  {
   "cell_type": "markdown",
   "metadata": {},
   "source": [
    "So try this with a filename you know does not exist to see what will\n",
    "happen!\n",
    "\n",
    "As you can see, there is quite a bit of typing, involved. I thus keep\n",
    "a repository of code snippets I use a lot, so I can simply use\n",
    "cut/copy/paste the next time I need to read a file. You could, e.g., use\n",
    "something like this:\n",
    "\n"
   ]
  },
  {
   "cell_type": "code",
   "execution_count": 1,
   "metadata": {},
   "outputs": [],
   "source": [
    "# this is just a template, it will not run unless\n",
    "# you add useful variable values!\n",
    "import pathlib as pl\n",
    "import pandas as pd\n",
    "\n",
    "fn: str = \"\"  # file name\n",
    "cwd: pl.Path = pl.Path.cwd()  # get the current working directory\n",
    "fqfn: pl.Path = pl.Path(f\"{cwd}/{fn}\")  # fully qualified file name\n",
    "\n",
    "if not fqfn.exists():  # check if file exist\n",
    "    raise FileNotFoundError(f\"Cannot find file {fqfn}\")"
   ]
  },
  {
   "cell_type": "markdown",
   "metadata": {},
   "source": [
    "Collect these snippets in a separate notebook, and they will save you\n",
    "a lot of time in the coming weeks.\n",
    "\n"
   ]
  },
  {
   "cell_type": "markdown",
   "metadata": {},
   "source": [
    "## Working with the pandas series data object\n",
    "\n"
   ]
  },
  {
   "cell_type": "markdown",
   "metadata": {},
   "source": [
    " The Pandas data frame is composed of\n",
    "smaller units, the so-called pandas series object. You can think of\n",
    "them as columns in a spreadsheet.  You already used this data type\n",
    "implicitly in our last module, but here we will explore it more\n",
    "fully. The above code should have created a data frame already.\n",
    "Let's make sure it worked\n",
    "\n"
   ]
  },
  {
   "cell_type": "code",
   "execution_count": 1,
   "metadata": {},
   "outputs": [],
   "source": [
    "display(df.head())"
   ]
  },
  {
   "cell_type": "markdown",
   "metadata": {},
   "source": [
    "Now, let's extract the data from column `A`, and execute the following\n",
    "\n"
   ]
  },
  {
   "cell_type": "code",
   "execution_count": 1,
   "metadata": {},
   "outputs": [],
   "source": [
    "A: pd.Series = df[\"A\"]  # extract column A, and save as pandas data series\n",
    "B: pd.Series = A * 2  # multiply A with 2\n",
    "\n",
    "# now we create a new dataframe from the two pandas series objects if\n",
    "# you don't understand the syntax, go back to the \"other data types\"\n",
    "# module and check out what I am doing here. If you cannot figure it\n",
    "# out, speak up!\n",
    "result: pd.DataFrame = pd.DataFrame({\"A\": A, \"A*2 =\": B})\n",
    "result.head()  # multiply A with 2 and print the result"
   ]
  },
  {
   "cell_type": "markdown",
   "metadata": {},
   "source": [
    "Note in the above example the use of `pd.DataFrame` On the left, it is\n",
    "used as a type-hint, whereas on the right side of the assignment, it is\n",
    "used as a function to create a new data frame from a dictionary.\n",
    "\n",
    "You probably remember that it was not possible to multiply a list with\n",
    "a number because lists can contain numbers, letters, other lists,\n",
    "tuples etc. To do this, you had to write a loop. A Pandas\n",
    "series, on the other hand, can only have one data type per column. In\n",
    "other words, a column can contain strings, integers, floats\n",
    "etc., but all entries in a given column must be of the same\n",
    "type. Since column `A` consists only of numbers, python can directly\n",
    "multiply each element with 2. What happens if you multiply `A*B`? Is the\n",
    "multiplication element by element, or do you get the cross product?\n",
    "What happens if you write `A**B`?  Hurray! no more loops!  (kinda&#x2026;)\n",
    "\n",
    "In a way, python treats a pandas series object like a vector, not\n",
    "unlike Matlab. There is some cool stuff we can do with\n",
    "this. We can e.g., apply a comparison operator to a pandas series\n",
    "\n"
   ]
  },
  {
   "cell_type": "code",
   "execution_count": 1,
   "metadata": {},
   "outputs": [],
   "source": [
    "print(A>2)"
   ]
  },
  {
   "cell_type": "markdown",
   "metadata": {},
   "source": [
    "Now, why would this be useful? Remember that `False` equals zero,\n",
    "whereas `True` equals 1. So if you want to count the number of values\n",
    "in `A` that are larger than 2, you can simply write\n",
    "\n"
   ]
  },
  {
   "cell_type": "code",
   "execution_count": 1,
   "metadata": {},
   "outputs": [],
   "source": [
    "n :int = sum(A>2) \n",
    "print (n)"
   ]
  },
  {
   "cell_type": "markdown",
   "metadata": {},
   "source": [
    "neat!\n",
    "\n"
   ]
  }
 ],
 "metadata": {
  "kernelspec": {
   "display_name": "Python 3 (ipykernel)",
   "language": "python",
   "name": "python3"
  },
  "language_info": {
   "codemirror_mode": {
    "name": "ipython",
    "version": 3
   },
   "file_extension": ".py",
   "mimetype": "text/x-python",
   "name": "python",
   "nbconvert_exporter": "python",
   "pygments_lexer": "ipython3",
   "version": "3.11.5"
  },
  "org": null
 },
 "nbformat": 4,
 "nbformat_minor": 4
}
