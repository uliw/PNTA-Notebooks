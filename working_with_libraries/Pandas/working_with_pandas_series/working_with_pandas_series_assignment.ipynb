{
 "cells": [
  {
   "cell_type": "markdown",
   "metadata": {},
   "source": [
    "## Assignment\n",
    "\n"
   ]
  },
  {
   "cell_type": "markdown",
   "metadata": {},
   "source": [
    "Learning outcomes:\n",
    "\n",
    "-   Practice working with the pandas series object.\n",
    "-   Practice finding online instructions\n",
    "-   Practice working with equations\n",
    "\n"
   ]
  },
  {
   "cell_type": "markdown",
   "metadata": {},
   "source": [
    "### Instructions:\n",
    "\n"
   ]
  },
  {
   "cell_type": "markdown",
   "metadata": {},
   "source": [
    "For each answer, please write self-contained\n",
    "code, that is, it imports all libraries, declares all variables,\n",
    "imports all data, etc., rather than writing code that relies on data\n",
    "imported in a previous cell. Cut/copy/paste is your friend here. Note,\n",
    "your function should be able to deal with arbitrary length series.\n",
    "\n",
    "1.  Use the pathlib library to import the data from `example_file.csv`\n",
    "    as a data frame, and create a pandas-series object for each\n",
    "    column. Set all values in `A` that are smaller than 4, to zero.\n",
    "    Note, do not use a loop (hint: use boolean expressions). Display\n",
    "    the data frame to verify that your operation succeed.\n",
    "\n",
    "2.  Import the data from `example_file.csv` and write a short\n",
    "    function and code snippet which calculates the mean of a Pandas\n",
    "    series containing numbers. Do not use the built-in functions or the\n",
    "    pandas method for mean. Rather use your own code to compute the\n",
    "    $\\mu$ mean as\n",
    "    \n",
    "    \\begin{equation}\n",
    "    \\mu = \\frac{\\sum\\limits_{i=0}^{i=N} X_i}{N}\n",
    "    \\end{equation}\n",
    "    \n",
    "    the capital sigma sign on the right side is the math symbol for a\n",
    "    sum, the subscript `i` refers to the index of a given vector\n",
    "    element, $X_i$ denotes an individual element (i.e. `X[i]`) and N is\n",
    "    equal to the number of elements in the series. In the equation\n",
    "    above I added the index expression to highlight the relation\n",
    "    between the equation and a pandas series, however, often you will\n",
    "    see the abbreviated form, which means the same thing, but is faster\n",
    "    to write\n",
    "    \n",
    "     \\begin{equation}\n",
    "    \\mu = \\frac{\\sum X_i}{N}\n",
    "    \\end{equation}\n",
    "    \n",
    "    call your function and compare the result against the mean values\n",
    "    as returned by the pandas mean method, e.g.:\n",
    "\n"
   ]
  },
  {
   "cell_type": "code",
   "execution_count": 1,
   "metadata": {},
   "outputs": [],
   "source": [
    "print(f\"The mean value of A using my_mean = {my_mean(A)}\")\n",
    "print(f\"The mean value of A using A.mean() = {A.mean()}\")"
   ]
  },
  {
   "cell_type": "markdown",
   "metadata": {},
   "source": [
    "Notes: Your function must not assume a fixed length for the\n",
    "    series. Avoid loops where possible and leverage the ability to\n",
    "    apply operations to all elements of a data series object.\n",
    "\n",
    "3.  As before, but now we will compute the population standard\n",
    "    deviation sigma ($\\sigma$) which is defined as\n",
    "    \n",
    "    \\begin{equation}   \n",
    "     \\sigma = \\sqrt{\\frac{\\sum (X_i - \\mu)^2}{N-1}}\n",
    "    \\end{equation}\n",
    "    \n",
    "    where $\\mu$ is the mean value.  Again, your code should be\n",
    "    self-contained, and compare your result against the builtin\n",
    "    pandas series method `A.std`.  Notes: Your function must not\n",
    "    assume a fixed length for the data series. Avoid loops where\n",
    "    possible and leverage the ability to apply operations to all\n",
    "    elements of a data series object.\n",
    "\n",
    "4.  Use the pathlib library to import the\n",
    "    isotope data  from `Yao_2018_pd_series.xlsx`.  Extract the delta\n",
    "    values as pandas series. Next, use the following two equations to\n",
    "    first split the delta values (`d34S` in the spreadsheet) into $^{32}S$\n",
    "    and $^{34}S$ and append the results to the data frame as two new\n",
    "    columns (`S32` and `S34`). Next, compute the delta values from $^{32}S$\n",
    "    and $^{34}S$,\n",
    "    \n",
    "    \\begin{equation}\n",
    "    ^{32}S = \\frac{1000}{(\\delta^{34}S +1000) \\times R + 1000}\n",
    "    \\end{equation}\n",
    "    \n",
    "    \\begin{equation}\n",
    "    ^{34}S = \\frac{(\\delta^{34}S + 1000) \\times R}{(\\delta^{34}S + 1000) \\times R + 1000}    \t\n",
    "    \\end{equation}\n",
    "    \n",
    "    \\begin{equation}\n",
    "    \\delta^{34}S = \\left(\n",
    "      \\frac{\n",
    "        \\left(\\frac{^{34}S}{^{32}S}\\right) _{Sample}}\n",
    "      {R}\n",
    "       -1\n",
    "      \\right) \\times 1000 \\quad [^0/_{00}]\n",
    "    \\end{equation}\n",
    "    \n",
    "    and append the results to the data frame as a new column called\n",
    "    `delta_new`. Compute the difference between the original and the\n",
    "    new delta (it should be very small or zero). Export the data\n",
    "    frame to a csv file.  Again, do not use loops and import whatever\n",
    "    you need, declare all variables, add docstrings to your function\n",
    "    definitions, use comments, and type hinting. Use an R-value of\n",
    "    `R=0.044162589`. Remember to break down any coding task into a\n",
    "    set of smaller steps that you can develop and test individually.\n",
    "    \n",
    "      Use the following template to organize your code. The example\n",
    "    and limitation lines are optional and mostly apply to functions\n",
    "\n"
   ]
  },
  {
   "cell_type": "code",
   "execution_count": 1,
   "metadata": {},
   "outputs": [],
   "source": [
    "\"\"\" Description:\n",
    "Purpose\n",
    "Example: (provide an example how to call your code)?\n",
    "Author:\n",
    "Date:\n",
    "\"\"\"\n",
    "# ----------- third party library imports ------------------\n",
    "\n",
    "# ----------- functions definitions  -----------------------\n",
    "\n",
    "# ----------- main program ---------------------------------\n",
    "# --- variable declarations\n",
    "\n",
    "# --- code starts here\n",
    "#"
   ]
  },
  {
   "cell_type": "markdown",
   "metadata": {},
   "source": [
    "### Marking Scheme:\n",
    "\n"
   ]
  },
  {
   "cell_type": "markdown",
   "metadata": {},
   "source": [
    "Per question:\n",
    "\n",
    "-   All variables declared and type hinting used throughout 1pt. No partial marks\n",
    "-   Correct use of the pathlib library (including test if file is present) 2 pts\n",
    "-   Code produces correct output 2pt. 1pt if code is sort of correct\n",
    "-   Proper use of comments 1pt.\n",
    "-   Doc strings for functions explain what the function does,\n",
    "    explain all parameters, and explain all return values. 1pt.\n",
    "-   Code is self contained 1pt.\n",
    "-   Max points per question: 6 pts for a total of 6\\*3 = 18 pts\n",
    "-   The last question is 14 pts. See details there.\n",
    "-   Total number of points: 34\n",
    "\n"
   ]
  },
  {
   "cell_type": "markdown",
   "metadata": {},
   "source": [
    "### Submission Instructions\n",
    "\n"
   ]
  },
  {
   "cell_type": "markdown",
   "metadata": {},
   "source": [
    "Create a new (or copy and existing) notebook in your `submissions`\n",
    "folder before editing it. Otherwise, your edits may be overwritten the\n",
    "next time you log into syzygy. Please name your copy\n",
    "\"Assignment-Name-FirstName-LastName\": \n",
    "\n",
    "-   Replace the `Assignment-Name` with the name of the assignment\n",
    "    (i.e., the filename of the respective Jupyter Notebook)\n",
    "-   `FirstName-Last-Name` with your own name.\n",
    "\n",
    "Note: If the notebook contains images, you must also copy the image files!\n",
    "\n",
    "Your notebook/pdf must start with the following lines \n",
    "\n",
    "**Assignment Title**\n",
    "\n",
    "**Date:**\n",
    "\n",
    "**First Name:**\n",
    "\n",
    "**Last Name:**\n",
    "\n",
    "**Student: Id**\n",
    "\n",
    "Before submitting your assignment:\n",
    "\n",
    "-   Check the marking scheme and ensure you have covered all requirements.\n",
    "-   re-read the learning outcomes and verify that you are comfortable\n",
    "    with each concept. If not, please speak up on the discussion board\n",
    "    and ask for further clarification. I can guarantee that if you feel\n",
    "    uncertain about a concept, at least half the class will be in the\n",
    "    same boat. So don't be shy!\n",
    "\n",
    "To submit your assignment, you need to download it as `ipynb` notebook\n",
    "format **and** `pdf` format. The best way to export your notebook as pdf\n",
    "is to use your browser's print function (`Ctrl-P`) and then select\n",
    "`Save as pfd`.  Please submit both files on Quercus. Note that the pdf\n",
    "export can fail if your file contains invalid markup/python code. So\n",
    "you need to check that the pdf export is complete and does not miss\n",
    "any sections. If you have export problems, don't hesitate to contact\n",
    "the course instructor directly.\n",
    "\n",
    "Notebooks typically have empty code cells in which you must enter\n",
    "python code. Please use the respective cell below each question, or\n",
    "create a python cell where necessary. Add text cells to enter your\n",
    "answers where appropriate. Your responses will only count if the code\n",
    "executes without error. It is thus recommended to run your solutions\n",
    "before submitting the assignment.\n",
    "\n",
    "**Note: Unless specifically requested, do not type your answers by**\n",
    "**hand. Instead, write code that produces the answer. Your pdf file**\n",
    "**should show the code and the results of the code execution.**\n",
    "\n"
   ]
  }
 ],
 "metadata": {
  "kernelspec": {
   "display_name": "Python 3",
   "language": "python",
   "name": "python3"
  },
  "language_info": {
   "codemirror_mode": {
    "name": "ipython",
    "version": 3
   },
   "file_extension": ".py",
   "mimetype": "text/x-python",
   "name": "python",
   "nbconvert_exporter": "python",
   "pygments_lexer": "ipython3",
   "version": "3.9.7"
  },
  "org": null
 },
 "nbformat": 4,
 "nbformat_minor": 1
}
