{
 "cells": [
  {
   "cell_type": "markdown",
   "metadata": {},
   "source": [
    "## If Statements Assignment\n",
    "\n"
   ]
  },
  {
   "cell_type": "markdown",
   "metadata": {},
   "source": [
    "As usual, please copy this notebook to your submissions folder before editing\n",
    "it.\n",
    "\n"
   ]
  },
  {
   "cell_type": "markdown",
   "metadata": {},
   "source": [
    "### Learning outcomes\n",
    "\n"
   ]
  },
  {
   "cell_type": "markdown",
   "metadata": {},
   "source": [
    "-   Get comfortable using `if`, `elif` and `else` blocks\n",
    "-   Get comfortable starting and ending code blocks\n",
    "-   Practice multiway branching\n",
    "\n",
    "Note most of the text below renders as a single text cell. Thus it is\n",
    "not easy to answer the questions with more text of your own. However,\n",
    "you can split the existing text. Click the text cell you want to\n",
    "split, position the cursor to where you want the split to occur, and\n",
    "press the following keys simultaneously `shift enter minus` (or use\n",
    "the `Edit` menu). Leave the edit mode with shift enter, and you can\n",
    "now insert a new text cell with your answer below. Please use this\n",
    "method from now on.\n",
    "\n",
    "1.  Write a short code snippet that uses the variable `a`.  If a\n",
    "    equals 3, your code should print `a equals three`. If `a` is larger\n",
    "    than three your code should print `a is larger than 3`, and if `a`\n",
    "    is smaller than 3, your code should print `a is smaller than 3`.\n",
    "    Use three independent if statements to achieve this result. Test\n",
    "    and verify your code with `a` equal to 2, 3, and 4. Correct if\n",
    "    statements 1pt, correct comparison statements 1pt, correct print\n",
    "    statements 1pt, 3 tests 1pt. Total 4 pts.\n",
    "\n",
    "2.  Same as above, but this time use a single if statement with `elif`\n",
    "    and `else` clauses.  Test and verify your code with different\n",
    "    values for `a`. Correct `elif` & `else` statements: 2pts, correct\n",
    "    comparison: 1pt. Total 3 pts\n",
    "\n",
    "3.  Now modify your code in such a way that the comparison is no\n",
    "    longer hard-coded, i.e., use a second variable `b` so that your\n",
    "    comparison is done like `a > b`, etc.. Your print statement should\n",
    "    reflect the dynamic nature of `b`, i.e., it should now print the\n",
    "    value of a and b and their respective relation: `3 equals 3`.\n",
    "    Test and verify your code with different values for `a` and\n",
    "    `b`. Correct if statements & comparison: 2pts, correct print\n",
    "    statements: 1pt. Total 3 pts\n",
    "\n",
    "4.  If you were to execute this code block, what result would you get? Please think it through rather than running the code! (4 pts):\n",
    "    \n",
    "        a = 5\n",
    "        \n",
    "        if (a == 5) :\n",
    "           print(f\"a equals five\")\n",
    "        if a > 3 :\n",
    "           print(f\"a is larger than three\")\n",
    "        if a < 5 :\n",
    "           print(f\"a is smaller than five\")\n",
    "        if a < 10:\n",
    "          print(f\"a is smaller than 10\")\n",
    "\n",
    "5.  How would you need to restructure the above code so that it only\n",
    "    prints the result of the first true comparison (but not that it is\n",
    "    smaller than 10)? Write your code below and test it with `a=3` and `a=9`.  Note, you must keep all comparisons in the code!\n",
    "    This time, your answer should be python code that executes without errors and produces the required results (2 pts).\n",
    "6.  Write if-statement(s) that result in one of the following two\n",
    "    statements depending on the value of `a`. Test your code with\n",
    "    various values of `a` (and make sure to include the numbers 3 and\n",
    "    7 in your test). Correct statements 2pts, tests 1pt. Total 3 pts.\n",
    "    \n",
    "        a is inside the range from 3 to 7\n",
    "        a is outside the range from 3 to 7\n",
    "    \n",
    "    Note: When I say range from 3 to 7, 3 and 7 are part of this range.\n",
    "7.  Do the same as in the above, but this time use a combination of boolean\n",
    "    and comparison operators to create a single if statement that will\n",
    "    create the above output (i.e., you only have one if-block and one\n",
    "    else-block). (3 pts)\n",
    "8.  Without using boolean operators, write some code that tests\n",
    "    whether the value of `a` is in the range between 100 and above 80\n",
    "    (i.e., `<` 100=, but `>80`), in the range between 80 and above 60, and\n",
    "    in the range between 60 and 40.  Your code should print a\n",
    "    warning message if `a` is larger than 100 and smaller than 40. Otherwise, your code should print the bucket (range) `a`\n",
    "    belongs to. Test your code for various values of `a`. Make sure you\n",
    "    test the boundary cases 80, 60, 40, the extreme cases like 110 and\n",
    "    20, and intermediate values like 85, 64, and 55 (8 pts).\n",
    "9.  As in the above, but this time use boolean operators to combine\n",
    "    your comparison operators (8 pts).\n",
    "10. Use the following dictionary that  shows Bob's grades in his two courses:\n",
    "\n"
   ]
  },
  {
   "cell_type": "code",
   "execution_count": 1,
   "metadata": {},
   "outputs": [],
   "source": [
    "d = {\"Bob\": [50, 50]}"
   ]
  },
  {
   "cell_type": "markdown",
   "metadata": {},
   "source": [
    "Add code that determines if Bob failed his first year or not. The\n",
    "condition to pass his first year is that he achieves at least a 50 in\n",
    "at least one course. Test your code with the following\n",
    "values for Bob's grade: `[50,50]`, `[40,50]`, `[50,40]`, and `[40,40]`. (8 pts)\n",
    "\n",
    "Total points: 46\n",
    "\n"
   ]
  },
  {
   "cell_type": "markdown",
   "metadata": {},
   "source": [
    "### Submission Instructions\n",
    "\n"
   ]
  },
  {
   "cell_type": "markdown",
   "metadata": {},
   "source": [
    "Create a new (or copy and existing) notebook in your `submissions`\n",
    "folder before editing it. Otherwise, your edits may be overwritten the\n",
    "next time you log into syzygy. Please name your copy\n",
    "\"Assignment-Name-FirstName-LastName\": \n",
    "\n",
    "-   Replace the `Assignment-Name` with the name of the assignment\n",
    "    (i.e., the filename of the respective Jupyter Notebook)\n",
    "-   `FirstName-Last-Name` with your own name.\n",
    "\n",
    "Note: If the notebook contains images, you must also copy the image files!\n",
    "\n",
    "Your notebook/pdf must start with the following lines \n",
    "\n",
    "**Assignment Title**\n",
    "\n",
    "**Date:**\n",
    "\n",
    "**First Name:**\n",
    "\n",
    "**Last Name:**\n",
    "\n",
    "**Student: Id**\n",
    "\n",
    "Before submitting your assignment:\n",
    "\n",
    "-   Check the marking scheme and ensure you have covered all requirements.\n",
    "-   re-read the learning outcomes and verify that you are comfortable\n",
    "    with each concept. If not, please speak up on the discussion board\n",
    "    and ask for further clarification. I can guarantee that if you feel\n",
    "    uncertain about a concept, at least half the class will be in the\n",
    "    same boat. So don't be shy!\n",
    "\n",
    "To submit your assignment, you need to download it as `ipynb` notebook\n",
    "format **and** `pdf` format. The best way to export your notebook as pdf\n",
    "is to use your browser's print function (`Ctrl-P`) and then select\n",
    "`Save as pfd`.  Please submit both files on Quercus. Note that the pdf\n",
    "export can fail if your file contains invalid markup/python code. So\n",
    "you need to check that the pdf export is complete and does not miss\n",
    "any sections. If you have export problems, don't hesitate to contact\n",
    "the course instructor directly.\n",
    "\n",
    "Notebooks typically have empty code cells in which you must enter\n",
    "python code. Please use the respective cell below each question, or\n",
    "create a python cell where necessary. Add text cells to enter your\n",
    "answers where appropriate. Your responses will only count if the code\n",
    "executes without error. It is thus recommended to run your solutions\n",
    "before submitting the assignment.\n",
    "\n",
    "**Note: Unless specifically requested, do not type your answers by**\n",
    "**hand. Instead, write code that produces the answer. Your pdf file**\n",
    "**should show the code and the results of the code execution.**\n",
    "\n"
   ]
  }
 ],
 "metadata": {
  "kernelspec": {
   "display_name": "Python 3",
   "language": "python",
   "name": "python3"
  },
  "language_info": {
   "codemirror_mode": {
    "name": "ipython",
    "version": 3
   },
   "file_extension": ".py",
   "mimetype": "text/x-python",
   "name": "python",
   "nbconvert_exporter": "python",
   "pygments_lexer": "ipython3",
   "version": "3.9.7"
  },
  "org": null
 },
 "nbformat": 4,
 "nbformat_minor": 1
}
