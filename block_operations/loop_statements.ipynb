{
 "cells": [
  {
   "cell_type": "markdown",
   "metadata": {},
   "source": [
    "## Loop statements\n",
    "\n"
   ]
  },
  {
   "cell_type": "markdown",
   "metadata": {},
   "source": [
    " Coding\n",
    "would be pointless if we had to execute each piece of code\n",
    "manually. Applying some code to each\n",
    "element of a list is where the true power of computing arises. We do\n",
    "this with the so-called loop statements (another type of block\n",
    "statement). Consider the following list\n",
    "\n"
   ]
  },
  {
   "cell_type": "code",
   "execution_count": 1,
   "metadata": {},
   "outputs": [],
   "source": [
    "my_list = [\"Garnet\", \"Apatite\", \"Quartz\", \"Pyrite\"]"
   ]
  },
  {
   "cell_type": "markdown",
   "metadata": {},
   "source": [
    "Your task would be to print out each list element on a line by\n",
    "itself. Yes, you can write four print statements, but this will be\n",
    "tedious if you start dealing with a longer list. It would be a lot\n",
    "simpler if we had a way to tell python to repeat a given action 4\n",
    "times. It would be even better if we could tell python to repeat an activity for\n",
    "every list element.\n",
    "\n"
   ]
  },
  {
   "cell_type": "markdown",
   "metadata": {},
   "source": [
    "### The for-loop\n",
    "\n"
   ]
  },
  {
   "cell_type": "markdown",
   "metadata": {},
   "source": [
    " Repeating a given set of instructions for a known number\n",
    "of repetitions is the domain of the `for loop`.  You may recall that we\n",
    "can access list elements via their index, e.g., to access the second\n",
    "element of a list we can write\n",
    "\n"
   ]
  },
  {
   "cell_type": "code",
   "execution_count": 1,
   "metadata": {},
   "outputs": [],
   "source": [
    "my_list[1]"
   ]
  },
  {
   "cell_type": "markdown",
   "metadata": {},
   "source": [
    "Rather than writing the number one, we can use the value of a variable\n",
    "as index (this is also known as indirection). Doing so has the\n",
    "advantage of changing this value during program execution.\n",
    "\n"
   ]
  },
  {
   "cell_type": "code",
   "execution_count": 1,
   "metadata": {},
   "outputs": [],
   "source": [
    "a = 1\n",
    "my_list[a]"
   ]
  },
  {
   "cell_type": "markdown",
   "metadata": {},
   "source": [
    "In most programming languages, you can solve the task of printing each\n",
    "element of `my_list` by: 1) Establishing `n` as the number of elements\n",
    "in the list; 2) Creating a loop that is executed `n` times; \n",
    "\n",
    "1.  Adding\n",
    "\n",
    "a counter `i` to the loop that increases by one for each iteration of\n",
    "the loop; Access each list element by index using `i` as the index. We\n",
    "can do this in python as well:\n",
    "\n"
   ]
  },
  {
   "cell_type": "code",
   "execution_count": 1,
   "metadata": {},
   "outputs": [],
   "source": [
    "my_list = [\"Garnet\", \"Apatite\", \"Quartz\", \"Pyrite\"]\n",
    "n = len(my_list)  # get the number of elements in my_list\n",
    "\n",
    "# start the loop block\n",
    "for i in range(0,n,1):  # range(start,stop,step)\n",
    "    print(f\"i = {i}, my_list[{i}] = {my_list[i]}\")"
   ]
  },
  {
   "cell_type": "markdown",
   "metadata": {},
   "source": [
    "However, python has a more elegant (aka pythonic way) of looping over\n",
    "a list. Since python knows the type of `my_list`, python knows that\n",
    "this is a datatype with many elements. So we can write:\n",
    "\n"
   ]
  },
  {
   "cell_type": "code",
   "execution_count": 1,
   "metadata": {},
   "outputs": [],
   "source": [
    "my_list = [\"Garnet\", \"Apatite\", \"Quartz\", \"Pyrite\"]\n",
    "for e in my_list:\n",
    "    print(e)"
   ]
  },
  {
   "cell_type": "markdown",
   "metadata": {},
   "source": [
    "In this case, python will go through the list, starting with the first\n",
    "element, then assign the value of the first element to the variable `e`,\n",
    "execute the statements inside the loop block, and then continue with\n",
    "the next list element.\n",
    "\n",
    "Try what happens if you change `my_list` to a tuple or set. Also, try\n",
    "what happens if you set `my_list=12`, and `my_list = \"Hello World\"`\n",
    "\n",
    "And we can use the usual slicing statements to limit which elements\n",
    "the loop acts upon.\n",
    "\n"
   ]
  },
  {
   "cell_type": "code",
   "execution_count": 1,
   "metadata": {},
   "outputs": [],
   "source": [
    "my_string =\"Hello World\"\n",
    "\n",
    "for e in my_string[0:-1:2]:\n",
    "    print(e)"
   ]
  },
  {
   "cell_type": "markdown",
   "metadata": {},
   "source": [
    "### Enumerating loops\n",
    "\n"
   ]
  },
  {
   "cell_type": "markdown",
   "metadata": {},
   "source": [
    "Assume we have two lists (and ignore that this would be easier with a dictionary).\n",
    "To get the corresponding entry in the second list, we will need a counter that keeps track of where in the list we are:\n",
    "\n"
   ]
  },
  {
   "cell_type": "code",
   "execution_count": 1,
   "metadata": {},
   "outputs": [],
   "source": [
    "products = [\"Cheese\", \"Apples\", \"Butter\"]\n",
    "price = [12.03, 4.60, 7.01]\n",
    "i = 0\n",
    "for p in products:\n",
    "    print(f\"{p} = ${price[i]}\")\n",
    "    i = i + 1  # increase the counter by 1"
   ]
  },
  {
   "cell_type": "markdown",
   "metadata": {},
   "source": [
    "another option would be to use the range function\n",
    "\n"
   ]
  },
  {
   "cell_type": "code",
   "execution_count": 1,
   "metadata": {},
   "outputs": [],
   "source": [
    "products = [\"Cheese\", \"Apples\", \"Butter\"]\n",
    "price = [12.03, 4.60, 7.01]\n",
    "n = len(products)\n",
    "for i in range(n):\n",
    "    print(f\"{products[i]} = ${price[i]}\")"
   ]
  },
  {
   "cell_type": "markdown",
   "metadata": {},
   "source": [
    "python offers, however, a more elegant way\n",
    "\n"
   ]
  },
  {
   "cell_type": "code",
   "execution_count": 1,
   "metadata": {},
   "outputs": [],
   "source": [
    "products = [\"Cheese\", \"Apples\", \"Butter\"]\n",
    "price = [12.03, 4.60, 7.01]\n",
    "for i, p in enumerate(products):\n",
    "    print(f\"{p} = ${price[i]}\")"
   ]
  },
  {
   "cell_type": "markdown",
   "metadata": {},
   "source": [
    "#### Dictionaries\n",
    "\n"
   ]
  },
  {
   "cell_type": "markdown",
   "metadata": {},
   "source": [
    "Looping through a dictionary is similar to lists, but we need a way to differentiate between keys and values. This can be achieved with the `items()` method of the dictionary class\n",
    "\n"
   ]
  },
  {
   "cell_type": "code",
   "execution_count": 1,
   "metadata": {},
   "outputs": [],
   "source": [
    "d = {\"Pyrite\" : \"FeS\",\n",
    "     \"Barite\" : \"BaSO4\"}\n",
    "\n",
    "print(d.items())"
   ]
  },
  {
   "cell_type": "markdown",
   "metadata": {},
   "source": [
    "The `items()` method returns a list of tuples, where each tuple\n",
    "consists of the key and the value of a dict entry.\n",
    "\n",
    "We can use this to loop over this list and unpack each tuple into two variables:\n",
    "\n"
   ]
  },
  {
   "cell_type": "code",
   "execution_count": 1,
   "metadata": {},
   "outputs": [],
   "source": [
    "d = {\"Pyrite\" : \"FeS\",\n",
    "     \"Barite\" : \"BaSO4\"}\n",
    "\n",
    "for k, v in d.items():\n",
    "    print(k, v)"
   ]
  },
  {
   "cell_type": "markdown",
   "metadata": {},
   "source": [
    "So for each entry, python assigns the first value to `k` and the\n",
    "second to `v`. This so-called unpacking is a powerful feature. Explore\n",
    "for yourself what happens here:\n",
    "\n"
   ]
  },
  {
   "cell_type": "code",
   "execution_count": 1,
   "metadata": {},
   "outputs": [],
   "source": [
    "d = {\"Pyrite\" : \"FeS\",\n",
    "     \"Barite\" : \"BaSO4\"}\n",
    "\n",
    "a, b = d.items()"
   ]
  },
  {
   "cell_type": "markdown",
   "metadata": {},
   "source": [
    "### While-loops\n",
    "\n"
   ]
  },
  {
   "cell_type": "markdown",
   "metadata": {},
   "source": [
    " The\n",
    "other important loop type is the while loop. This type of loop\n",
    "executes until it is switched off (and if your switch does not work,\n",
    "it will run forever). In other words, while-loops are most useful in\n",
    "combination with if statements.\n",
    "\n",
    "If you get the following joke, you've understood the essence of while-loops.\n",
    "\"A wife asks her programmer husband to get\n",
    "milk while he is out. This was the last she saw of him\". No worries if\n",
    "this makes no sense to you. It soon will!\n",
    "\n",
    "To give a practical example, any ATM is running a while loop that\n",
    "shows the greeting screen. This loop runs until you slide your\n",
    "bank-card into the machine. Then the loop is interrupted, and you are\n",
    "asked to enter your pin. The below example demonstrates this in a\n",
    "simple way.\n",
    "\n"
   ]
  },
  {
   "cell_type": "code",
   "execution_count": 1,
   "metadata": {},
   "outputs": [],
   "source": [
    "# initialize a as True, otherwise the while loop will never execute\n",
    "a = True\n",
    "\n",
    "# do the while loop until a becomes False\n",
    "while a:\n",
    "    # print instructions\n",
    "    print(\"\\n Stop this loop by hitting the s-key\")\n",
    "\n",
    "    # wait for user input\n",
    "    my_input = input(\"Hit any other key to continue:\")\n",
    "\n",
    "    # evaluate input\n",
    "    if my_input == \"s\":\n",
    "        print(f\"\\nYou pressed the '{my_input}' key\")\n",
    "        a = False  # this will stop the while loop\n",
    "    else:\n",
    "        print(f\"\\nYou pressed the '{my_input}' key\")\n",
    "\n",
    "print(\"\\nGood bye\")"
   ]
  },
  {
   "cell_type": "markdown",
   "metadata": {},
   "source": [
    "Once our code reaches line 5, the `while` statement will test if `a`\n",
    "is True or not. If `a = False`, the `while` block is skipped, and the\n",
    "code jumps directly to `print(\"\\nGood bye\")`.\n",
    "\n",
    "If `a = True`, python will enter the `while` block, and go through\n",
    "each statement. Once it reaches the last statement, it will jump back\n",
    "to line 5, test the value of `a` again, and begin the circle anew. This will\n",
    "continue until some code inside the `while` block changes the value of\n",
    "`a` to False. Can you now explain why the wife's husband never returned?\n",
    "\n",
    "While loops can be tricky if you get your logic wrong. Carefully consider this example before you run it.\n",
    "\n"
   ]
  },
  {
   "cell_type": "code",
   "execution_count": 1,
   "metadata": {},
   "outputs": [],
   "source": [
    "s = True # initialize the switch and set it to no\n",
    "n = 0    # a counter\n",
    "my_numbers = list(range(4))\n",
    "while s:\n",
    "    if my_numbers[n] == 3:\n",
    "        print(f\"my_numbers[{n}] = {my_numbers[n]}\")\n",
    "        s = False\n",
    "        n = n + 1"
   ]
  },
  {
   "cell_type": "markdown",
   "metadata": {},
   "source": [
    "So here, the counter is inside the if statement. I.e., it will never\n",
    "increase because `n` will stay zero forever. This might have happened\n",
    "because you missed the flawed logic or your indention accidentally\n",
    "changed. If you execute the above cell, you will start an infinite\n",
    "loop that will run forever (read on to find out how to fix this).\n",
    "\n",
    "Your notebook shows an asterisk while executing your code. So if you accidentally created an infinite loop,\n",
    "you will see something similar to the following screenshot:\n",
    "\n",
    "![img](./Screenshot_20200709_132253.png \"The asterisk to the left indicates that your program is busy\")\n",
    "\n",
    "If this happens, you have to restart your notebook kernel via the kernel menu\n",
    "\n",
    "![img](./Screenshot_20200709_132222.png \"Use the kernel menu, if your code is stuck in an infinite loop\")\n",
    "\n"
   ]
  },
  {
   "cell_type": "markdown",
   "metadata": {},
   "source": [
    "#### Advanced loop features\n",
    "\n"
   ]
  },
  {
   "cell_type": "markdown",
   "metadata": {},
   "source": [
    "Python loops support a couple of features that are not mentioned above. Most\n",
    "of these, you will not need for this course, but you should at least have heard\n",
    "about it.\n",
    "\n",
    "-   The `continue` statement will stop the execution at the current line and jump\n",
    "    back to the header of the loop (i.e., execute the next iteration)\n",
    "-   The `break` statement will jump out of the loop. This is often used with\n",
    "    nested loops\n",
    "-   The `else` statement is run only if the loop ends prematurely. Most useful in\n",
    "    combination with the break statement\n",
    "\n"
   ]
  },
  {
   "cell_type": "markdown",
   "metadata": {},
   "source": [
    "##### List comprehensions\n",
    "\n"
   ]
  },
  {
   "cell_type": "markdown",
   "metadata": {},
   "source": [
    " We already know that python makes\n",
    "it easy to iterate through the elements of a list. We can use this, e.g., to\n",
    "calculate the squares of a given sequence, and save the results into a new list:\n",
    "\n"
   ]
  },
  {
   "cell_type": "code",
   "execution_count": 1,
   "metadata": {},
   "outputs": [],
   "source": [
    "my_list = [1, 2, 3, 4]\n",
    "list_of_squares = []\n",
    "\n",
    "for n in my_list:\n",
    "  list_of_squares.append(n**2)\n",
    "\n",
    "print(list_of_squares)"
   ]
  },
  {
   "cell_type": "markdown",
   "metadata": {},
   "source": [
    "Python provides are a more concise way to do this, called list-comprehension\n",
    "\n"
   ]
  },
  {
   "cell_type": "code",
   "execution_count": 1,
   "metadata": {},
   "outputs": [],
   "source": [
    "my_list = [1, 2, 3, 4]\n",
    "list_of_squares = [n**2 for n in my_list]\n",
    "\n",
    "print(list_of_squares)"
   ]
  },
  {
   "cell_type": "markdown",
   "metadata": {},
   "source": [
    "In the above expression, the first entry is the function that should\n",
    "be executed for each element of `my_list`. I personally and many\n",
    "experienced programmers consider this bad style. It surely will add\n",
    "to your geek credentials but results in hard-to-read code, with\n",
    "no other benefit than saving two lines. But again, you will come\n",
    "across this, so you need to know about it.\n",
    "\n",
    "Also, note that list comprehensions can be combined with conditionals \n",
    "\n",
    "    [f(x) for x in sequence if condition]\n",
    "\n"
   ]
  },
  {
   "cell_type": "markdown",
   "metadata": {},
   "source": [
    "### Using a loop to modify a list\n",
    "\n"
   ]
  },
  {
   "cell_type": "markdown",
   "metadata": {},
   "source": [
    "Looping over list elements with python is straightforward. However,\n",
    "things can get messy if your loop modifies the elements you are\n",
    "looping over. Try this:\n",
    "\n"
   ]
  },
  {
   "cell_type": "code",
   "execution_count": 1,
   "metadata": {},
   "outputs": [],
   "source": [
    "list1 = [ 1, 2, 3, 4]\n",
    "for e in list1:\n",
    "    list1.remove(e)\n",
    "\n",
    "print(list1)"
   ]
  },
  {
   "cell_type": "markdown",
   "metadata": {},
   "source": [
    "As you can see, removing elements from `list1` could really mess\n",
    "with the for statement. So you need to separate the list you are\n",
    "iterating over from the list you are modifying. You can use\n",
    "the list copy method to get a copy of the list.\n",
    "\n",
    "A better way to do this is to create a copy first\n",
    "\n"
   ]
  },
  {
   "cell_type": "code",
   "execution_count": 1,
   "metadata": {},
   "outputs": [],
   "source": [
    "list1 = [ 1, 2, 3, 4]\n",
    "lc = list1.copy()\n",
    "\n",
    "for e in lc:\n",
    "    list1.remove(e)\n",
    "\n",
    "print(list1)"
   ]
  }
 ],
 "metadata": {
  "kernelspec": {
   "display_name": "Python 3",
   "language": "python",
   "name": "python3"
  },
  "language_info": {
   "codemirror_mode": {
    "name": "ipython",
    "version": 3
   },
   "file_extension": ".py",
   "mimetype": "text/x-python",
   "name": "python",
   "nbconvert_exporter": "python",
   "pygments_lexer": "ipython3",
   "version": "3.9.7"
  },
  "org": null
 },
 "nbformat": 4,
 "nbformat_minor": 1
}
