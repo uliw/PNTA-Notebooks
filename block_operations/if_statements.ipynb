{
 "cells": [
  {
   "cell_type": "markdown",
   "metadata": {},
   "source": [
    "## If statements\n",
    "\n"
   ]
  },
  {
   "cell_type": "markdown",
   "metadata": {},
   "source": [
    "The previous section taught you the various methods to\n",
    "store, access, manipulate, and display data. The next big step in\n",
    "learning how to code is to combine these methods to\n",
    "create a program that can achieve a purpose.\n",
    "\n",
    "Creating a program can often be a daunting experience. Often, you\n",
    "won't know where to start, and once you begin, things can get messy\n",
    "pretty quickly. However, similar to hiking, where you may not see the\n",
    "entire way ahead of you, all that is needed is the ability to take\n",
    "the first step, and to have a plan.\n",
    "\n",
    "Consider this case: You have been asked to write a program that will\n",
    "convert a binary number into a decimal number. We can divide this task into three sub-tasks:\n",
    "\n",
    "-   get user input (the binary number)\n",
    "-   convert the number to decimal\n",
    "-   provide user feedback by printing the results\n",
    "\n",
    "You can write (and test) code for the above steps without\n",
    "knowing anything about the other two. In other words, programming is\n",
    "an exercise of dividing a problem into smaller problems that\n",
    "you can tackle step by step.\n",
    "\n",
    "Programming languages thus provide a variety of methods to group\n",
    "statements. The three basic groups shared by almost all languages are:\n",
    "\n",
    "1.  \"if groups\" that allow you to group programming statements\n",
    "    based on a given condition (e.g., if `A` is larger than 10 do this,\n",
    "    else, do that)\n",
    "2.  \"loop groups\" that allow you to repeat programming statements a\n",
    "    given number of times (or until a condition is met)\n",
    "3.  functions allow you to group code statements as well, but this time\n",
    "    the statements inside the function are invisible to the code\n",
    "    outside the function. A good example is the `print()`\n",
    "    function. You, as a user, do not need to know the code of the print\n",
    "    function, you only need to know how to pass a value to the print\n",
    "    function. This shields you from the complexity of how to actually\n",
    "    print characters on the screen. This keeps your code clean, and\n",
    "    reduces complexity.\n",
    "\n",
    "These three methods of grouping computer code allow you to solve pretty\n",
    "much any computing task.  \n",
    "\n",
    " The last\n",
    "module explored the use of comparison operators that return truth\n",
    "values. To branch the sequence of execution in our code depending on a\n",
    "given circumstance, we will need a statement that takes a truth\n",
    "(boolean)  value\n",
    "and allows us to create two groups of code. One gets executed if the\n",
    "statement is true, and another block gets executed when the statement\n",
    "is false.\n",
    "\n",
    "\n",
    "Most programming languages know a variation of the so-called \"if-then-else\"\n",
    "clause. The `if` part expects a truth value and executes the code followed after\n",
    "the `then` in case the value is `True`. In the case of a `False`, it will\n",
    "execute the part after the `else`. This is pretty straightforward, and the only\n",
    "other ingredient needed is a way to group programming code. \n",
    "\n",
    "**In python, all block statements end with a colon, and the code group**\n",
    "**following this block statement has to be indented.** You end the code\n",
    "block by returning to the previous indention level. See this example:\n",
    "\n"
   ]
  },
  {
   "cell_type": "code",
   "execution_count": 1,
   "metadata": {},
   "outputs": [],
   "source": [
    "a = 10\n",
    "\n",
    "# start a new code block\n",
    "if a > 10:  # the result of the comparison is either True or False\n",
    "    # if true, execute this block\n",
    "    message = f\"a = {a} which is larger than 10\"\n",
    "\n",
    "# since the next command is back to the left, it ends the if block\n",
    "else:  # start the else block\n",
    "    # if false, execute this block\n",
    "    message = f\"a = {a} which is euqal or smaller than 10\"\n",
    "\n",
    "print(message)"
   ]
  },
  {
   "cell_type": "markdown",
   "metadata": {},
   "source": [
    "Since the `print(message)` statement is moved back to left, it is not part of\n",
    "the `else` block. Try moving it to the right, and run the above code for\n",
    "`a=10` and `a=12`. Do you understand why there is no result if `a=12`?\n",
    "\n"
   ]
  },
  {
   "cell_type": "markdown",
   "metadata": {},
   "source": [
    "#### Multi-way branching\n",
    "\n"
   ]
  },
  {
   "cell_type": "markdown",
   "metadata": {},
   "source": [
    "  \n",
    "If statements can contain more than one condition. Imagine you get\n",
    "data from some analytical machine that outputs the measured voltage\n",
    "between 0 and 50 volts. You also know that values below 2 and above\n",
    "20 are unreliable, and values larger than 50 indicate a\n",
    "malfunction.\n",
    "\n",
    "You can combine several `if` statements using the `elif` keyword which\n",
    "stands for \"else if\". Check the results of this code against voltage\n",
    "values of 0.2, 4, 22, and 55.\n",
    "\n"
   ]
  },
  {
   "cell_type": "code",
   "execution_count": 1,
   "metadata": {},
   "outputs": [],
   "source": [
    "voltage = 12\n",
    "\n",
    "if voltage < 2:\n",
    "    print(f\"Your sample is to small\")\n",
    "elif voltage > 2 and voltage < 20:\n",
    "    print(f\"Voltage = {voltage}V\")\n",
    "elif voltage > 20 and voltage < 50:\n",
    "    print(f\"Your sample is to big\")\n",
    "elif voltage > 50:\n",
    "    print(\"---------------------------------\")\n",
    "    print(f\"\\n\\nAttention: Instrument malfunction!\\n\\n\")\n",
    "    print(\"---------------------------------\")\n",
    "else:\n",
    "    print(f\"You should never see this\")"
   ]
  },
  {
   "cell_type": "markdown",
   "metadata": {},
   "source": [
    "Note: Python 3.10 now supports the `match` statement, which is more\n",
    "elegant. However, at present, your notebooks run on python 3.9. See\n",
    "[https://www.python.org/dev/peps/pep-0635/>](https://www.python.org/dev/peps/pep-0635/>)for more details.\n",
    "\n"
   ]
  },
  {
   "cell_type": "markdown",
   "metadata": {},
   "source": [
    "#### Take a pass\n",
    "\n"
   ]
  },
  {
   "cell_type": "markdown",
   "metadata": {},
   "source": [
    "Sometimes it is useful to do nothing. The following code is perfectly\n",
    "fine, but we have seen that the `not` operator can be confusing\n",
    "(especially in more complex examples).\n",
    "\n"
   ]
  },
  {
   "cell_type": "code",
   "execution_count": 1,
   "metadata": {},
   "outputs": [],
   "source": [
    "a = 12\n",
    "\n",
    "if not a == 12:\n",
    "    print(a)"
   ]
  },
  {
   "cell_type": "markdown",
   "metadata": {},
   "source": [
    "Using the `pass` statement, we can rewrite this as\n",
    "\n"
   ]
  },
  {
   "cell_type": "code",
   "execution_count": 1,
   "metadata": {},
   "outputs": [],
   "source": [
    "a = 12\n",
    "\n",
    "if a == 12:\n",
    "    pass\n",
    "else:\n",
    "    print(a)"
   ]
  },
  {
   "cell_type": "markdown",
   "metadata": {},
   "source": [
    "A bit wordy but much easier to read.\n",
    "\n",
    "Obviously, with a bit of thinking, we could have written this more succinctly as\n",
    "\n"
   ]
  },
  {
   "cell_type": "code",
   "execution_count": 1,
   "metadata": {},
   "outputs": [],
   "source": [
    "a = 12\n",
    "\n",
    "if a != 12:\n",
    "    print(a)"
   ]
  },
  {
   "cell_type": "markdown",
   "metadata": {},
   "source": [
    "#### Nested blocks\n",
    "\n"
   ]
  },
  {
   "cell_type": "markdown",
   "metadata": {},
   "source": [
    "\n",
    "Code blocks can be nested into each other. We could, e.g., rewrite the above voltage example as\n",
    "\n"
   ]
  },
  {
   "cell_type": "code",
   "execution_count": 1,
   "metadata": {},
   "outputs": [],
   "source": [
    "voltage = 0.1\n",
    "if voltage < 50:\n",
    "    if voltage <= 20:\n",
    "        if voltage > 2:\n",
    "            print(f\"Voltage = {voltage}V\")\n",
    "        else:\n",
    "            print(f\"Your sample is to small\")\n",
    "    else:\n",
    "        print(f\"Your sample is to big\")\n",
    "else:\n",
    "    print(\"---------------------------------\")\n",
    "    print(f\"\\n\\nAttention: Instrument malfunction!\\n\\n\")\n",
    "    print(\"---------------------------------\")"
   ]
  },
  {
   "cell_type": "markdown",
   "metadata": {},
   "source": [
    "As you can see, the nested block is shifted to another indentation\n",
    "level to the right, which means that it will only be executed if the\n",
    "second if condition is true. Note that this code is functionally\n",
    "equivalent to the example before but that it is much harder to figure\n",
    "out what it does.  Similar to joining comparison operators with logic\n",
    "operators, it pays to think about the required logic carefully and\n",
    "simplify it as much as possible.\n",
    "\n"
   ]
  },
  {
   "cell_type": "markdown",
   "metadata": {},
   "source": [
    "#### Pitfalls\n",
    "\n"
   ]
  },
  {
   "cell_type": "markdown",
   "metadata": {},
   "source": [
    "\n",
    " The execution\n",
    "of multi-way branching statements stops with the first true\n",
    "condition. As such, conditional statements that follow afterward are\n",
    "not tested. Care is needed in designing such statements. In the\n",
    "following example, the second condition is never met, so you would\n",
    "never know that `a` is bigger than 7.\n",
    "\n"
   ]
  },
  {
   "cell_type": "code",
   "execution_count": 1,
   "metadata": {},
   "outputs": [],
   "source": [
    "a = 12\n",
    "if a > 5:\n",
    "    print(\"a is bigger than 5\")\n",
    "elif a > 7:\n",
    "    print(\"a is also bigger than 7\")\n",
    "else:\n",
    "    print(f\"a={a}\")"
   ]
  },
  {
   "cell_type": "markdown",
   "metadata": {},
   "source": [
    "#### Ternary Statements\n",
    "\n"
   ]
  },
  {
   "cell_type": "markdown",
   "metadata": {},
   "source": [
    "\n",
    "Python supports an abbreviated form of writing logic and conditional\n",
    "expressions. I think they are bad style because it is not\n",
    "immediately obvious what the code is trying to achieve. However, you\n",
    "should be at least aware that this kind of syntax exists:\n",
    "\n"
   ]
  },
  {
   "cell_type": "code",
   "execution_count": 1,
   "metadata": {},
   "outputs": [],
   "source": [
    "a = ''\n",
    "b = 'Some text'\n",
    "c = \"more text\"\n",
    "x = a or b or c or None\n",
    "print(x)"
   ]
  },
  {
   "cell_type": "markdown",
   "metadata": {},
   "source": [
    "This assigns the value of the first non-empty object to x. Similarly, you can\n",
    "write\n",
    "\n"
   ]
  },
  {
   "cell_type": "code",
   "execution_count": 1,
   "metadata": {},
   "outputs": [],
   "source": [
    "a = 13\n",
    "b = 5\n",
    "x = 16 if a > 12 else 22\n",
    "print(x)"
   ]
  },
  {
   "cell_type": "markdown",
   "metadata": {},
   "source": [
    "explore this for various values of `a`. If you find this confusing, be my guest, but remember where to look it up if you come across a ternary statement.\n",
    "\n",
    "BTW, why am I so obsessed with clarity versus brevity? As a\n",
    "programmer, you will spend 90% of your time looking at code, trying to\n",
    "figure out what is happening in front of you. Only a small fraction of\n",
    "your time is spent creating code. There are, in fact, powerful\n",
    "and elegant programming languages out there. But they never gained\n",
    "popularity because it is hard to understand what the program is\n",
    "doing. A good example is IMB's APL (Advanced Programming\n",
    "Language). The following is a complete APL program that implements  [Conway's Game of Life](https://en.wikipedia.org/wiki/Conway%27s_Game_of_Life). \n",
    "\n",
    "![img](./Screenshot_20200708_102345.png)\n",
    "Pretty slick, but good luck understanding how this works.\n",
    "\n"
   ]
  }
 ],
 "metadata": {
  "kernelspec": {
   "display_name": "Python 3",
   "language": "python",
   "name": "python3"
  },
  "language_info": {
   "codemirror_mode": {
    "name": "ipython",
    "version": 3
   },
   "file_extension": ".py",
   "mimetype": "text/x-python",
   "name": "python",
   "nbconvert_exporter": "python",
   "pygments_lexer": "ipython3",
   "version": "3.9.7"
  },
  "org": null
 },
 "nbformat": 4,
 "nbformat_minor": 1
}
