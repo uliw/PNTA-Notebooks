{
 "cells": [
  {
   "cell_type": "markdown",
   "id": "999e853b-071f-4ece-a3ea-6cdfa646dd36",
   "metadata": {},
   "source": [
    "## If statements\n",
    "\n"
   ]
  },
  {
   "cell_type": "markdown",
   "id": "f6755586-2cd4-4bd0-b3c2-e1f2f77be933",
   "metadata": {},
   "source": [
    "The previous section taught you the various methods to\n",
    "store, access, manipulate, and display data. The next big step in\n",
    "learning how to code is to combine these methods to\n",
    "create a program that can achieve a purpose.\n",
    "\n",
    "Creating a program can often be a daunting experience. Often, you\n",
    "won't know where to start, and once you begin, things can get messy\n",
    "pretty quickly. However, similar to hiking, where you may not see the\n",
    "entire way ahead of you, all that is needed is the ability to take\n",
    "the first step, and to have a plan.\n",
    "\n",
    "Consider this case: You have been asked to write a program that will\n",
    "convert a binary number into a decimal number. We can divide this task into three sub-tasks:\n",
    "\n",
    "-   get user input (the binary number)\n",
    "-   convert the number to decimal\n",
    "-   provide user feedback by printing the results\n",
    "\n",
    "You can write (and test) code for the above steps without\n",
    "knowing anything about the other two. In other words, programming is\n",
    "an exercise of dividing a problem into smaller problems that\n",
    "you can tackle step by step.\n",
    "\n",
    "Programming languages thus provide a variety of methods to group\n",
    "statements. The three basic groups shared by almost all languages are:\n",
    "\n",
    "1.  \"if groups\" that allow you to group programming statements\n",
    "    based on a given condition (e.g., if `A` is larger than 10 do this,\n",
    "    else, do that)\n",
    "2.  \"loop groups\" that allow you to repeat programming statements a\n",
    "    given number of times (or until a condition is met)\n",
    "3.  functions allow you to group code statements as well, but this time\n",
    "    the statements inside the function are invisible to the code\n",
    "    outside the function. A good example is the `print()`\n",
    "    function. You, as a user, do not need to know the code of the print\n",
    "    function, you only need to know how to pass a value to the print\n",
    "    function. This shields you from the complexity of how to actually\n",
    "    print characters on the screen. This keeps your code clean, and\n",
    "    reduces complexity.\n",
    "\n",
    "These three methods of grouping computer code allow you to solve pretty\n",
    "much any computing task.  \n",
    "The last module explored the use of comparison operators that return truth values. To branch the sequence of execution in our code depending on a given circumstance, we will need a statement that takes a truth (boolean) value and allows us to create two groups of code. One gets executed if the statement is true, and another block gets executed when the statement is false.\n",
    "\n",
    "Most programming languages know a variation of the so-called \"if-then-else\" clause. The `if` part expects a truth value and executes the code followed after the `then` in case the value is `True`. In the case of a `False`, it will execute the part after the `else`. This is pretty straightforward, and the only other ingredient needed is a way to group programming code.\n",
    "\n",
    "**In python, all block statements end with a colon, and the code group** following this block statement has to be indented.\\* You end the code block by returning to the previous indention level. See this example:\n",
    "\n"
   ]
  },
  {
   "cell_type": "code",
   "execution_count": 1,
   "id": "c0ca8d6d-f408-41da-9c1c-9bbcc987db80",
   "metadata": {},
   "outputs": [],
   "source": [
    "a = 10\n",
    "\n",
    "# start a new code block\n",
    "if a > 10:  # the result of the comparison is either True or False\n",
    "    # if true, execute this block\n",
    "    message = f\"a = {a} which is larger than 10\"\n",
    "\n",
    "# since the next command is back to the left, it ends the if block\n",
    "else:  # start the else block\n",
    "    # if false, execute this block\n",
    "    message = f\"a = {a} which is euqal or smaller than 10\"\n",
    "\n",
    "print(message)"
   ]
  },
  {
   "cell_type": "markdown",
   "id": "7ffba735-c9f4-43b1-b8fd-fca84ac74819",
   "metadata": {},
   "source": [
    "Since the `print(message)` statement is moved back to left, it is not part of the `else` block. Try moving it to the right, and run the above code for `a=10` and `a=12`. Do you understand why there is no result if `a=12`?\n",
    "\n"
   ]
  },
  {
   "cell_type": "markdown",
   "id": "82ac67d2-50c4-41ca-bd67-790d5cbf5674",
   "metadata": {},
   "source": [
    "#### Multi-way branching\n",
    "\n"
   ]
  },
  {
   "cell_type": "markdown",
   "id": "f9a4e6cb-34b2-4ccf-b071-0c88ffbb7ace",
   "metadata": {},
   "source": [
    "If statements can contain more than one condition. Imagine you get data from some analytical machine that outputs the measured voltage between 0 and 50 volts. You also know that values below 2 and above 20 are unreliable, and values larger than 50 indicate a malfunction.\n",
    "\n",
    "You can combine several `if` statements using the `elif` keyword which stands for \"else if\". Check the results of this code against voltage values of 0.2, 4, 22, and 55.\n",
    "\n"
   ]
  },
  {
   "cell_type": "code",
   "execution_count": 1,
   "id": "464bf343-33db-4ff6-9c7e-5775496494af",
   "metadata": {},
   "outputs": [],
   "source": [
    "voltage = 12\n",
    "\n",
    "if voltage < 2:\n",
    "    print(f\"Your sample is to small\")\n",
    "elif voltage > 2 and voltage < 20:\n",
    "    print(f\"Voltage = {voltage}V\")\n",
    "elif voltage > 20 and voltage < 50:\n",
    "    print(f\"Your sample is to big\")\n",
    "elif voltage > 50:\n",
    "    print(\"---------------------------------\")\n",
    "    print(f\"\\n\\nAttention: Instrument malfunction!\\n\\n\")\n",
    "    print(\"---------------------------------\")\n",
    "else:\n",
    "    print(f\"You should never see this\")"
   ]
  },
  {
   "cell_type": "markdown",
   "id": "1e5ca41a-627e-4d58-b499-b592f9e57513",
   "metadata": {},
   "source": [
    "Note: Python 3.10 introduced the  `match` statement. While powerful, its use is non-trivial and we will not use it in this course.\n",
    "\n"
   ]
  },
  {
   "cell_type": "markdown",
   "id": "a6e32c1a-e96a-4c13-b3d9-93f73970cb43",
   "metadata": {},
   "source": [
    "#### Take a pass\n",
    "\n"
   ]
  },
  {
   "cell_type": "markdown",
   "id": "0945302b-f6c5-4f70-b6fc-22de80ca4291",
   "metadata": {},
   "source": [
    "Sometimes it is useful to do nothing. The following code is perfectly fine, but\n",
    "we have seen that the `not` operator can be confusing (especially in more complex\n",
    "examples).\n",
    "\n"
   ]
  },
  {
   "cell_type": "code",
   "execution_count": 1,
   "id": "c4879a5c-b94f-43ea-ba32-225247f79aba",
   "metadata": {},
   "outputs": [],
   "source": [
    "a = 12\n",
    "\n",
    "if not a == 12:\n",
    "    print(a)"
   ]
  },
  {
   "cell_type": "markdown",
   "id": "eaa63c79-4233-40b5-adab-17c29f9963e8",
   "metadata": {},
   "source": [
    "Using the `pass` statement, we can rewrite this as\n",
    "\n"
   ]
  },
  {
   "cell_type": "code",
   "execution_count": 1,
   "id": "46c46e63-83c4-4820-9789-3bdbd161c152",
   "metadata": {},
   "outputs": [],
   "source": [
    "a = 12\n",
    "\n",
    "if a == 12:\n",
    "    pass\n",
    "else:\n",
    "    print(a)"
   ]
  },
  {
   "cell_type": "markdown",
   "id": "7f28bacd-ee10-4abc-84f3-4eb464937798",
   "metadata": {},
   "source": [
    "A bit wordy but much easier to read.\n",
    "\n",
    "Note: There is also the ellipsis `...`  but this typically indicates that more code is to follow at a later time whereas =pass = explicitly indicates that nothing further will happen here.  \n",
    "\n",
    "More importantly, with a bit of thinking, we could have written the above statement more succinctly as\n",
    "\n"
   ]
  },
  {
   "cell_type": "code",
   "execution_count": 1,
   "id": "2621f250-faad-4865-9e24-26881cc28672",
   "metadata": {},
   "outputs": [],
   "source": [
    "a = 12\n",
    "\n",
    "if a != 12:\n",
    "    print(a)"
   ]
  },
  {
   "cell_type": "markdown",
   "id": "aa11e8cb-06ee-4e0c-9a78-c0b77a527f4e",
   "metadata": {},
   "source": [
    "#### Nested blocks\n",
    "\n"
   ]
  },
  {
   "cell_type": "markdown",
   "id": "796681ee-90ad-47eb-8423-aee8849646a6",
   "metadata": {},
   "source": [
    "Code blocks can be nested into each other. We could, e.g., rewrite the above voltage example as\n",
    "\n"
   ]
  },
  {
   "cell_type": "code",
   "execution_count": 1,
   "id": "29a4c12b-193b-41c9-b6eb-2b54807b3885",
   "metadata": {},
   "outputs": [],
   "source": [
    "voltage = 0.1\n",
    "if voltage < 50:\n",
    "    if voltage <= 20:\n",
    "        if voltage > 2:\n",
    "            print(f\"Voltage = {voltage}V\")\n",
    "        else:\n",
    "            print(f\"Your sample is to small\")\n",
    "    else:\n",
    "        print(f\"Your sample is to big\")\n",
    "else:\n",
    "    print(\"---------------------------------\")\n",
    "    print(f\"\\n\\nAttention: Instrument malfunction!\\n\\n\")\n",
    "    print(\"---------------------------------\")"
   ]
  },
  {
   "cell_type": "markdown",
   "id": "15fd1aab-9d99-4be4-bea3-d756b43f8bba",
   "metadata": {},
   "source": [
    "As you can see, the nested block is shifted to another indentation level to the right, which means that it will only be executed if the second if condition is true. Note that this code is functionally equivalent to the example before but that it is much harder to figure out what it does. Similar to joining comparison operators with logic operators, it pays to think about the required logic carefully and simplify it as much as possible.\n",
    "\n"
   ]
  },
  {
   "cell_type": "markdown",
   "id": "7fa1e835-0328-4bb5-b702-05142d642bb4",
   "metadata": {},
   "source": [
    "#### Pitfalls\n",
    "\n"
   ]
  },
  {
   "cell_type": "markdown",
   "id": "5e8c1cd2-7791-46c7-8a81-353f3e01908f",
   "metadata": {},
   "source": [
    "The execution of multi-way branching statements stops with the first true condition. As such, conditional statements that follow afterward are not tested. Care is needed in designing such statements. In the following example, the second condition is never met, so you would never know that `a` is bigger than 7.\n",
    "\n"
   ]
  },
  {
   "cell_type": "code",
   "execution_count": 1,
   "id": "8b28ab2e-997b-44b2-ab4e-b1fb97f6b62a",
   "metadata": {},
   "outputs": [],
   "source": [
    "a = 12\n",
    "if a > 5:\n",
    "    print(\"a is bigger than 5\")\n",
    "elif a > 7:\n",
    "    print(\"a is also bigger than 7\")\n",
    "else:\n",
    "    print(f\"a={a}\")"
   ]
  },
  {
   "cell_type": "markdown",
   "id": "0a725f4d-cf7d-4979-a298-bfe0dafb65ca",
   "metadata": {},
   "source": [
    "#### Ternary Statements\n",
    "\n"
   ]
  },
  {
   "cell_type": "markdown",
   "id": "c4ef7d42-4958-48dc-948e-fc8f39ad3ce6",
   "metadata": {},
   "source": [
    "Python supports an abbreviated form of writing logic and conditional expressions. I think they are bad style because it is not immediately obvious what the code is trying to achieve. However, you should be at least aware that this kind of syntax exists:\n",
    "\n"
   ]
  },
  {
   "cell_type": "code",
   "execution_count": 1,
   "id": "a5b571c8-253b-4c10-bfb0-ac247a9de7c9",
   "metadata": {},
   "outputs": [],
   "source": [
    "a = ''\n",
    "b = 'Some text'\n",
    "c = \"more text\"\n",
    "x = a or b or c or None\n",
    "print(x)"
   ]
  },
  {
   "cell_type": "markdown",
   "id": "7a0642c7-fdfc-4d4d-b397-88aaa980193e",
   "metadata": {},
   "source": [
    "This assigns the value of the first non-empty object to x. Similarly, you can write\n",
    "\n"
   ]
  },
  {
   "cell_type": "code",
   "execution_count": 1,
   "id": "7d250481-c212-40f3-a904-e6035d3ecb28",
   "metadata": {},
   "outputs": [],
   "source": [
    "a = 13\n",
    "b = 5\n",
    "x = 16 if a > 12 else 22\n",
    "print(x)"
   ]
  },
  {
   "cell_type": "markdown",
   "id": "f87c49a8-a72b-48eb-a55a-293ba1ed06c2",
   "metadata": {},
   "source": [
    "explore this for various values of `a`. If you find this confusing, be my guest, but remember where to look it up if you come across a ternary statement.\n",
    "\n",
    "BTW, why am I so obsessed with clarity versus brevity? As a programmer, you will spend 90% of your time looking at code, trying to figure out what is happening in front of you. Only a small fraction of your time is spent creating code. There are, in fact, powerful and elegant programming languages out there. But they never gained popularity because it is hard to understand what the program is doing. A good example is IMB's APL (Advanced Programming Language). The following is a complete APL program that implements [Conway's Game of Life](https://en.wikipedia.org/wiki/Conway%27s_Game_of_Life).\n",
    "\n",
    "$$life \\leftarrow\\left\\{\\uparrow 1 \\omega V . \\wedge 3 \\quad 4=+/,^{-1} 1 0 1 \\circ . \\Theta{}^{- } 1 0 1 \\circ . Ф \\subset \\omega\\right\\}$$\n",
    "\n",
    "Pretty slick, but good luck understanding how this works.\n",
    "\n"
   ]
  }
 ],
 "metadata": {
  "kernelspec": {
   "display_name": "Python 3 (ipykernel)",
   "language": "python",
   "name": "python3"
  },
  "language_info": {
   "codemirror_mode": {
    "name": "ipython",
    "version": 3
   },
   "file_extension": ".py",
   "mimetype": "text/x-python",
   "name": "python",
   "nbconvert_exporter": "python",
   "pygments_lexer": "ipython3",
   "version": "3.13.1"
  },
  "org": null
 },
 "nbformat": 4,
 "nbformat_minor": 5
}
