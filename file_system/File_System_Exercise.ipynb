{
 "cells": [
  {
   "cell_type": "markdown",
   "metadata": {},
   "source": [
    "## ESS245 Computational Geology: A1-File System Exercise\n",
    "\n"
   ]
  },
  {
   "cell_type": "markdown",
   "metadata": {},
   "source": [
    "Cellphones and modern operating systems more or less hide the actual\n",
    "\n",
    "structure where and how your files are stored.  While this course aims\n",
    "to stay away from operating system dependent content, you will need to\n",
    "be able to download a file, find it, and upload it again.\n",
    "\n",
    "The major elements of a file system are \n",
    "\n",
    "1.  The file system root. This is where it all begins.\n",
    "2.  File system folders (or directories). Directories typically\n",
    "    contain other directories or files. However, they can be empty as\n",
    "    well\n",
    "3.  Individual files. There are different file types, some are files\n",
    "    which you can execute (aka programs), others are word files or\n",
    "     \n",
    "     images. On most\n",
    "    operating systems, the file type is indicated by the so called\n",
    "    \"extension\". E.g., on a windows computer, the firefox executable\n",
    "    file is usually called `firexfox.exe`, where `.exe` indicates\n",
    "    that this is file is program. On a Mac, the extension `.dmg` is\n",
    "    used. Word files usually carry the extension `.docx`, and images\n",
    "    are usually differentiated by the image type (e.g., `.jpg`,\n",
    "    `.gif`, `.png`, `.tiff`, etc., etc.)\n",
    "\n",
    "File systems are typically hierarchical. The file system root contains\n",
    "folders which itself contain folders or files. This allows us to\n",
    "organize our files systematically. On my computer, the file\n",
    "system hierarchy looks like the one you see in Fig.[7](#org55a6a2e). On your\n",
    "computer, the names and the locations will be different, but you will\n",
    "find that your file system follows a similar tree Structure:\n",
    "\n",
    "![img](./Pictures/100002010000035F0000035D143C03BB8B0CB57B.png \"Note that the names and structure will be different on your Computer\")\n",
    "\n"
   ]
  }
 ],
 "metadata": {
  "kernelspec": {
   "display_name": "Python 3",
   "language": "python",
   "name": "python3"
  },
  "language_info": {
   "codemirror_mode": {
    "name": "ipython",
    "version": 3
   },
   "file_extension": ".py",
   "mimetype": "text/x-python",
   "name": "python",
   "nbconvert_exporter": "python",
   "pygments_lexer": "ipython3",
   "version": "3.9.7"
  },
  "org": null
 },
 "nbformat": 4,
 "nbformat_minor": 1
}
