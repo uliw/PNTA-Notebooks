{
 "cells": [
  {
   "cell_type": "markdown",
   "metadata": {},
   "source": [
    "### Assignment\n",
    "\n"
   ]
  },
  {
   "cell_type": "markdown",
   "metadata": {},
   "source": [
    "#### Checking type\n",
    "\n"
   ]
  },
  {
   "cell_type": "markdown",
   "metadata": {},
   "source": [
    "Use this sequence of numbers (\"1 2 3 4\") to create a\n",
    "\n",
    "-   the integer number 1234 called `my_int`\n",
    "-   the floating point number 1.234 called `my_float`\n",
    "-   a list called `my__list`\n",
    "-   a string called `my_string`\n",
    "-   a tuple called `my_tuple`\n",
    "-   a set called `my_set`\n",
    "-   \n",
    "\n",
    "6 pts\n",
    "\n"
   ]
  },
  {
   "cell_type": "code",
   "execution_count": 1,
   "metadata": {},
   "outputs": [],
   "source": [
    "# add your statements below"
   ]
  },
  {
   "cell_type": "markdown",
   "metadata": {},
   "source": [
    "Next let's verify that you created the correct variable type. There are two ways to do this. The first approach uses the python command `type()`. For each of the above variables write a print statement which outputs the name, type and value of the variable similar to the following example (6 pts)\n",
    "\n",
    "    The variable my__int is of type int and equals 1234\n",
    "\n",
    "Note that I don't want you to write `print(\"The variable my__int is of\n",
    "type int and equals 1234\")` rather use a print statement with\n",
    "f-strings where `type` and value are inserted in the appropriate\n",
    "places. Please use the correct format modifiers to obtain `1.234`\n",
    "rather than `1.23400000` (2 pts)\n",
    "\n",
    "The second way to verify your variable types will only work inside\n",
    "jupyter Notebooks. Here we leverage a so called ipython magic\n",
    "command. Magic commands are not part of the python language, rather\n",
    "they are part of your IDE (Integrated Development Environment). Magic commands are prefixed by `%` Run the following:\n",
    "\n"
   ]
  },
  {
   "cell_type": "code",
   "execution_count": 1,
   "metadata": {},
   "outputs": [],
   "source": [
    "%whos"
   ]
  },
  {
   "cell_type": "markdown",
   "metadata": {},
   "source": [
    "this will be handy at times. You can get a list of all magic commands\n",
    "by running `%magic`, but most of these are unimportant in the context\n",
    "of this course.\n",
    "\n"
   ]
  },
  {
   "cell_type": "markdown",
   "metadata": {},
   "source": [
    "#### Selecting the right type\n",
    "\n"
   ]
  },
  {
   "cell_type": "markdown",
   "metadata": {},
   "source": [
    "For the next two problems you have to convert the list data into a\n",
    "suitable data type to solve the respective tasks. \n",
    "\n",
    "1.  You have a python list of 200 students names (Family Names\n",
    "    only). You want to quickly test, if one or more students share the\n",
    "    name Family Name. Can you think of a super simple way (2 python\n",
    "    commands will suffice) to see if all Family names are unique? Try\n",
    "    your approach here with the provided `student_list` (4 pts)\n",
    "\n"
   ]
  },
  {
   "cell_type": "code",
   "execution_count": 1,
   "metadata": {},
   "outputs": [],
   "source": [
    "# note, in order to avoid typing all the commas and quotation marks\n",
    "# I simply define a single string and then use the split method to\n",
    "# return a list of strings\n",
    "student_list = \"Meir Jones Doe Maier Meier McDonald Meir\".split()"
   ]
  },
  {
   "cell_type": "markdown",
   "metadata": {},
   "source": [
    "1.  You have two sets mineral data from two different field\n",
    "    regions. You wan to quickly know which minerals are common to both\n",
    "    regions (2pts), and which minerals are specific to `region_A`\n",
    "    (2pts) and which are specific to `region_B` (2pts)\n",
    "\n"
   ]
  },
  {
   "cell_type": "code",
   "execution_count": 1,
   "metadata": {},
   "outputs": [],
   "source": [
    "region_A = \"Actinolite Adamite Aegirine Albite Alforsite Altaite Antigorite Amosite Beryl\".split()\n",
    "region_B = \"Albite Alforsite Altaite Antigorite Amosite  Blödite Boehmite Boracite\".split()"
   ]
  },
  {
   "cell_type": "markdown",
   "metadata": {},
   "source": [
    "#### Dictionaries\n",
    "\n"
   ]
  },
  {
   "cell_type": "markdown",
   "metadata": {},
   "source": [
    "Write python code which creates a dictionary which contains the mineral name as key (e.g., Barite, and the chemical formula as value (e.g., BaSO4). Your dictionary should contain data for Barite, Pyrite, and Gypsum (3pts). Write proper print statements with f-strings which display the mineral name and chemical composition according to this template (3pts):\n",
    "\n",
    "    The chemical formula for Barite is BaSO4\n",
    "\n"
   ]
  },
  {
   "cell_type": "code",
   "execution_count": 1,
   "metadata": {},
   "outputs": [],
   "source": []
  },
  {
   "cell_type": "markdown",
   "metadata": {},
   "source": [
    "### Advanced question\n",
    "\n"
   ]
  },
  {
   "cell_type": "markdown",
   "metadata": {},
   "source": [
    "Next, we will extend our dictionary to also hold additional information, in this case, the location of the respective wikipedia page. So your print output would be:\n",
    "\n",
    "    The chemical formula for Barite is BaSO4, for more information see\n",
    "    https://en.wikipedia.org/wiki/Baryte\n",
    "\n"
   ]
  },
  {
   "cell_type": "code",
   "execution_count": 1,
   "metadata": {},
   "outputs": [],
   "source": []
  },
  {
   "cell_type": "markdown",
   "metadata": {},
   "source": [
    "Consider how you would need to structure your dictionary to hold more\n",
    "than one value per key, and how would you query this information? 3\n",
    "pts for the correct print statements, 6 pts for the correct\n",
    "dictionary.\n",
    "\n",
    "Total points: 39\n",
    "\n"
   ]
  },
  {
   "cell_type": "markdown",
   "metadata": {},
   "source": [
    "### Submission Instructions\n",
    "\n"
   ]
  },
  {
   "cell_type": "markdown",
   "metadata": {},
   "source": [
    "Create a new (or copy and existing) notebook in your `submissions`\n",
    "folder before editing it. Otherwise, your edits may be overwritten the\n",
    "next time you log into syzygy. Please name your copy\n",
    "\"Assignment-Name-FirstName-LastName\": \n",
    "\n",
    "-   Replace the `Assignment-Name` with the name of the assignment\n",
    "    (i.e., the filename of the respective Jupyter Notebook)\n",
    "-   `FirstName-Last-Name` with your own name.\n",
    "\n",
    "Your notebook/pdf must start with the following lines \n",
    "\n",
    "**Assignment Title**\n",
    "\n",
    "**Date:**\n",
    "\n",
    "**First Name:**\n",
    "\n",
    "**Last Name:**\n",
    "\n",
    "**Student: Id**\n",
    "\n",
    "Before submitting your assignment, re-read the learning outcomes and\n",
    "verify that you are comfortable which each concept. If not, please\n",
    "speak up on the discussion board and ask for further clarification. I\n",
    "can guarantee that you if you feel uncertain about a concept, at least\n",
    "half the class will be in the same boat. So don't be shy!\n",
    "\n",
    "To submit your assignment, you need to download it `ipyn` notebook\n",
    "format **and** `pdf` format. Please submit both files on Quercus. Note\n",
    "that the pdf export can fail if your file contains invalid\n",
    "markup/python code. So you need to check that the pdf export is\n",
    "complete and does not miss any sections. If you have export problems,\n",
    "please contact the course instructor directly.\n",
    "\n",
    "Notebooks typically have empty code cells in which you have to enter\n",
    "python code. Please use the respective cell below each question, or\n",
    "create a python cell where necessary. Add text cells to enter your\n",
    "answers where appropriate. Your answers will only count if the code\n",
    "executes without error. It is thus recommended to run your solutions\n",
    "before submitting the assignment.\n",
    "\n",
    "**Note: Do not type your answers by hand. Rather, write code which**\n",
    "**produces the answer, and your pdf should show the code as well as**\n",
    "**the results of the code execution!**\n",
    "\n"
   ]
  }
 ],
 "metadata": {
  "kernelspec": {
   "display_name": "Python 3",
   "language": "python",
   "name": "python3"
  },
  "language_info": {
   "codemirror_mode": {
    "name": "ipython",
    "version": 3
   },
   "file_extension": ".py",
   "mimetype": "text/x-python",
   "name": "python",
   "nbconvert_exporter": "python",
   "pygments_lexer": "ipython3",
   "version": "3.8.5"
  },
  "org": null
 },
 "nbformat": 4,
 "nbformat_minor": 1
}
