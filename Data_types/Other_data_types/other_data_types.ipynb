{
 "cells": [
  {
   "cell_type": "markdown",
   "metadata": {},
   "source": [
    "## Other Data Types\n",
    "\n"
   ]
  },
  {
   "cell_type": "markdown",
   "metadata": {},
   "source": [
    "Python knows a variety of data types, many of which we may never\n",
    "use. However, the most important ones should at least be mentioned:\n",
    "\n"
   ]
  },
  {
   "cell_type": "markdown",
   "metadata": {},
   "source": [
    "### Vectors versus Lists\n",
    "\n"
   ]
  },
  {
   "cell_type": "markdown",
   "metadata": {},
   "source": [
    "If you have used matlab before, you will be familiar with\n",
    "vectors. Unlike matlab, python does not have a native vector type.\n",
    "Lists, can contain almost anything (e.g., other list, strings, and any\n",
    "of the types below).  Vectors, however, can only contain numbers and\n",
    "support mathematical methods (i.e., multiplying two vectors will give\n",
    "you the cross product). We will learn how to use vectors in a later\n",
    "module.  \n",
    "\n"
   ]
  },
  {
   "cell_type": "markdown",
   "metadata": {},
   "source": [
    "### Tuples\n",
    "\n"
   ]
  },
  {
   "cell_type": "markdown",
   "metadata": {},
   "source": [
    " \n",
    "Python tuples are a special version of a list, which won't allow you\n",
    "to modify the value of a list element. We define a tuple by declaring\n",
    "the list with regular brackets rather than square brackets.\n",
    "\n"
   ]
  },
  {
   "cell_type": "code",
   "execution_count": 1,
   "metadata": {},
   "outputs": [],
   "source": [
    "my_list = [1, 2, 4]       # a regular list\n",
    "my_tuple_list = (1, 2, 3) # a tuple list"
   ]
  },
  {
   "cell_type": "markdown",
   "metadata": {},
   "source": [
    "We access elements of a tuple via index or range operations similar to\n",
    "regular list\n",
    "\n"
   ]
  },
  {
   "cell_type": "code",
   "execution_count": 1,
   "metadata": {},
   "outputs": [],
   "source": [
    "print(my_tuple_list[1]) # note the square brackets for the index expression!"
   ]
  },
  {
   "cell_type": "markdown",
   "metadata": {},
   "source": [
    "however, unlike lists, **you cannot change the values in a tuple!**\n",
    "\n"
   ]
  },
  {
   "cell_type": "code",
   "execution_count": 1,
   "metadata": {},
   "outputs": [],
   "source": [
    "my_tuple_list[1] = 3"
   ]
  },
  {
   "cell_type": "markdown",
   "metadata": {},
   "source": [
    "While you cannot change the value of a tuple, it is possible to join two tuples to create a **new** tuple.\n",
    "\n"
   ]
  },
  {
   "cell_type": "code",
   "execution_count": 1,
   "metadata": {},
   "outputs": [],
   "source": [
    "my_first_tuple = (1, 2, 3)\n",
    "my_second_tuple = (3, 8, 7)\n",
    "new_tuple = my_first_tuple + my_second_tuple\n",
    "print(new_tuple)\n",
    "\n",
    "# or replace a tuple\n",
    "my_first_tuple = my_first_tuple + my_second_tuple\n",
    "print(my_first_tuple)"
   ]
  },
  {
   "cell_type": "markdown",
   "metadata": {},
   "source": [
    "This is because tuples are an immutable type (similar to strings). So\n",
    "you can create them, you can delete them and you can re-assign\n",
    "them. But you cannot change the values of the tuple elements.\n",
    "\n"
   ]
  },
  {
   "cell_type": "markdown",
   "metadata": {},
   "source": [
    "### Sets\n",
    "\n"
   ]
  },
  {
   "cell_type": "markdown",
   "metadata": {},
   "source": [
    "\n",
    "Sets are more like regular lists, but are declared with curly braces.\n",
    "Unlike lists you can only add unique\n",
    "elements. If there are duplicates, they will simply be ignored.\n",
    "\n"
   ]
  },
  {
   "cell_type": "code",
   "execution_count": 1,
   "metadata": {},
   "outputs": [],
   "source": [
    "my_set = {1, 2, 3, 3}\n",
    "print(my_set)"
   ]
  },
  {
   "cell_type": "markdown",
   "metadata": {},
   "source": [
    "Another important difference is that sets are not indexed. I.e. you\n",
    "cannot write `my_set[1]` Set elements can be added, removed, and\n",
    "changed. Furthermore, sets provide for all sorts of exciting\n",
    "operations (i.e., union, difference, intersection, subset etc.). A practical\n",
    "example how to use sets would be the following case. You have the list\n",
    "of students enrolled in ESS224H1 Introduction To Mineralogy And\n",
    "Petrology, and the list off students who are enrolled in ESS262H1\n",
    "Earth System Processes. If both are a set, you can use a single\n",
    "command to find out who is enrolled in both courses:\n",
    "\n"
   ]
  },
  {
   "cell_type": "code",
   "execution_count": 1,
   "metadata": {},
   "outputs": [],
   "source": [
    "ESS224 = {\"Maria\", \"Stuart\", \"Andy\", \"Drew\"}\n",
    "ESS262 = {\"James\", \"Mark\", \"Alex\", \"Maria\", \"Silvy\", \"Stuart\"}\n",
    "ESS224.intersection(ESS262)"
   ]
  },
  {
   "cell_type": "markdown",
   "metadata": {},
   "source": [
    "or, imagine that you have two e-mail lists, and you want to join both\n",
    "list and you ant to make sure that people do not receive the e-mail in duplicate\n",
    "\n"
   ]
  },
  {
   "cell_type": "code",
   "execution_count": 1,
   "metadata": {},
   "outputs": [],
   "source": [
    "ESS224 = {\"Maria\", \"Stuart\", \"Andy\", \"Drew\"}\n",
    "ESS262 = {\"James\", \"Mark\", \"Alex\", \"Maria\", \"Silvy\", \"Stuart\"}\n",
    "print(ESS224.union(ESS262))"
   ]
  },
  {
   "cell_type": "markdown",
   "metadata": {},
   "source": [
    "### Dictionaries\n",
    "\n"
   ]
  },
  {
   "cell_type": "markdown",
   "metadata": {},
   "source": [
    "\n",
    "  Dictionaries are a\n",
    " datatype which enable you to look up values based on a key, rather\n",
    " then index. Each dictionary entry consists of a key-value pair. The\n",
    " key can be a number, a string, or tuple, and the value can be pretty\n",
    " much anything (e.g., a value, a string, a list, another\n",
    " dictionary&#x2026;). Let's consider this simple example:\n",
    "\n"
   ]
  },
  {
   "cell_type": "code",
   "execution_count": 1,
   "metadata": {},
   "outputs": [],
   "source": [
    "in_class_quiz = {\"Domenica\" : 72,\n",
    "                 \"Brian\" : 77,\n",
    "                 \"George\" : 95,\n",
    "                 \"Liz\" : 81}"
   ]
  },
  {
   "cell_type": "markdown",
   "metadata": {},
   "source": [
    "Note that dictionaries use curly braces similar to sets, but their\n",
    "internal structure is different.\n",
    "\n",
    "We can query the dictionary to see how individual students performed\n",
    "in the quiz. However, rather than referring to the result by\n",
    "a numeric index, we use the key\n",
    "\n"
   ]
  },
  {
   "cell_type": "code",
   "execution_count": 1,
   "metadata": {},
   "outputs": [],
   "source": [
    "print(in_class_quiz[\"Brian\"])"
   ]
  },
  {
   "cell_type": "markdown",
   "metadata": {},
   "source": [
    "Note that the key needs to be unique, otherwise, you will override the\n",
    "earlier definition.\n",
    "\n"
   ]
  },
  {
   "cell_type": "code",
   "execution_count": 1,
   "metadata": {},
   "outputs": [],
   "source": [
    "in_class_quiz = {\"Domenica\" : 72,\n",
    "                 \"Brian\" : 77,\n",
    "                 \"George\" : 95,\n",
    "                 \"Brian\" : 50,  # Brian appears twice, so this entry overwrites the earlier one\n",
    "                 \"Liz\" : 81}\n",
    "print(in_class_quiz[\"Brian\"])"
   ]
  },
  {
   "cell_type": "markdown",
   "metadata": {},
   "source": [
    "similar to lists, we can change/update individual values by referring to\n",
    "their key.\n",
    "\n"
   ]
  },
  {
   "cell_type": "code",
   "execution_count": 1,
   "metadata": {},
   "outputs": [],
   "source": [
    "in_class_quiz[\"Brian\"] = 70\n",
    "print(in_class_quiz[\"Brian\"])"
   ]
  },
  {
   "cell_type": "markdown",
   "metadata": {},
   "source": [
    "### Random bits an pieces\n",
    "\n"
   ]
  },
  {
   "cell_type": "markdown",
   "metadata": {},
   "source": [
    "All of these datatypes are ultimately ways of storing list-type elements. One of the most often use operation on a list, is to determine the number of list elements. The python function =len() will do exactly this\n",
    "\n"
   ]
  },
  {
   "cell_type": "code",
   "execution_count": 1,
   "metadata": {},
   "outputs": [],
   "source": [
    "s = \"Test\"\n",
    "l = [1, 2, 3]\n",
    "s = {1 ,2}\n",
    "print(len(s))\n",
    "print(len(l))\n",
    "print(len(s))"
   ]
  },
  {
   "cell_type": "markdown",
   "metadata": {},
   "source": [
    "You may have stumbled upon this before, but it is possible to convert many of these datatypes into another data type\n",
    "\n"
   ]
  },
  {
   "cell_type": "code",
   "execution_count": 1,
   "metadata": {},
   "outputs": [],
   "source": [
    "t = (1, 2 , 3, 3)\n",
    "l = list(t)\n",
    "s = set(l)\n",
    "print(t)\n",
    "print(l)\n",
    "print(s)"
   ]
  }
 ],
 "metadata": {
  "kernelspec": {
   "display_name": "Python 3",
   "language": "python",
   "name": "python3"
  },
  "language_info": {
   "codemirror_mode": {
    "name": "ipython",
    "version": 3
   },
   "file_extension": ".py",
   "mimetype": "text/x-python",
   "name": "python",
   "nbconvert_exporter": "python",
   "pygments_lexer": "ipython3",
   "version": "3.8.5"
  },
  "org": null
 },
 "nbformat": 4,
 "nbformat_minor": 1
}
