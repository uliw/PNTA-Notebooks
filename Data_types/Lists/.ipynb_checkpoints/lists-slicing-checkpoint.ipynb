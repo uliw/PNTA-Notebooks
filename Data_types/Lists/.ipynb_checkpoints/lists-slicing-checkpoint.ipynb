{
 "cells": [
  {
   "cell_type": "markdown",
   "metadata": {},
   "source": [
    "## Lists\n",
    "\n"
   ]
  },
  {
   "cell_type": "markdown",
   "metadata": {},
   "source": [
    " So\n",
    "far, we only considered variables which hold a single value. However,\n",
    "the true power of programming stems from the fact that you apply a\n",
    "given procedure over and over. As such, python provides for a variety\n",
    "of data-types  which can hold more than\n",
    "one value.\n",
    "\n",
    "Lists basically hold a sequence of numbers. However, lists are not\n",
    "restricted to numbers, they can contain numbers, letters, words, and\n",
    "even other lists.  You can also mix and match these things in the same\n",
    "list. For the sake of simplicity, we will stick to numbers here,\n",
    "though.\n",
    "\n",
    "Let's create a list: \n",
    "\n"
   ]
  },
  {
   "cell_type": "code",
   "execution_count": 1,
   "metadata": {},
   "outputs": [],
   "source": [
    "my_list = [1 2 3]"
   ]
  },
  {
   "cell_type": "markdown",
   "metadata": {},
   "source": [
    "please execute this block.\n",
    "\n",
    "ugh, this fails, you need to separate list items with commas!\n",
    "\n"
   ]
  },
  {
   "cell_type": "code",
   "execution_count": 1,
   "metadata": {},
   "outputs": [
    {
     "name": "stdout",
     "output_type": "stream",
     "text": [
      "# Out [2]:"
     ]
    }
   ],
   "source": [
    "my_list = [1, 2, 3]"
   ]
  },
  {
   "cell_type": "markdown",
   "metadata": {},
   "source": [
    "why is there no output?\n",
    "\n",
    "The above statements assign values to a variable, however, the\n",
    "assignment itself is not an operation that yields a result. All it\n",
    "does, is to create a list. If you want to see the list, you need to\n",
    "use the print function  (we will\n",
    "explore the print function in greater detail in a later chapter).\n",
    "\n"
   ]
  },
  {
   "cell_type": "code",
   "execution_count": 1,
   "metadata": {},
   "outputs": [
    {
     "name": "stdout",
     "output_type": "stream",
     "text": [
      "# Out [3]: \n",
      "# output\n",
      "[1, 2, 3]"
     ]
    }
   ],
   "source": [
    "my_list = [1, 2, 3]\n",
    "print(my_list)"
   ]
  },
  {
   "cell_type": "markdown",
   "metadata": {},
   "source": [
    "You may have noticed that in the previous modules, most variable names\n",
    "were a single letter, whereas here I use a compound word. Personally,\n",
    "I try to use a single letter or single words for simple variables\n",
    "which only contain a single value, whereas compound variables use a\n",
    "two letter name. You may also notice that I prefixed the variable with\n",
    "the word `my`. This is simply to avoid potential overlap with builtin\n",
    "python functions (`list` is a bit ambiguous this way).\n",
    "\n"
   ]
  },
  {
   "cell_type": "markdown",
   "metadata": {},
   "source": [
    "#### Take me home:\n",
    "\n"
   ]
  },
  {
   "cell_type": "markdown",
   "metadata": {},
   "source": [
    "-   You create lists by enclosing a sequence of numbers into square brackets\n",
    "    -   Individual list entries must be separated by a comma\n",
    "    -   Avoid the letters O, l, in variable names as they are easily\n",
    "        confused with the numbers zero and one.\n",
    "\n"
   ]
  },
  {
   "cell_type": "markdown",
   "metadata": {},
   "source": [
    "### Accessing list elements\n",
    "\n"
   ]
  },
  {
   "cell_type": "markdown",
   "metadata": {},
   "source": [
    "#### Single list elements\n",
    "\n"
   ]
  },
  {
   "cell_type": "markdown",
   "metadata": {},
   "source": [
    "\n",
    "Consider the following list:\n",
    "\n"
   ]
  },
  {
   "cell_type": "code",
   "execution_count": 1,
   "metadata": {},
   "outputs": [],
   "source": [
    "my_list=[1.12, 3.2, 1.45, 12.01, 1.12, 3.2, 1.45, 12.01]"
   ]
  },
  {
   "cell_type": "markdown",
   "metadata": {},
   "source": [
    "In real life, lists are often rather long, and we only want to see\n",
    "certain elements of it. Say you only want to see the second element of\n",
    "this list, so we can write\n",
    "\n"
   ]
  },
  {
   "cell_type": "code",
   "execution_count": 1,
   "metadata": {},
   "outputs": [
    {
     "name": "stdout",
     "output_type": "stream",
     "text": [
      "# Out [3]: \n",
      "# output\n",
      "3.2"
     ]
    }
   ],
   "source": [
    "print(my_list[1])"
   ]
  },
  {
   "cell_type": "markdown",
   "metadata": {},
   "source": [
    "The number in the square bracket is called the index and refers to\n",
    "position of the list element inside the list. Why do we see the 2<sup>nd</sup>\n",
    "element of this list, even so the index is `1`?\n",
    "\n",
    "This is because python starts counting at zero. So to see the first\n",
    "list element you would need to write `my_list[0]` (try this in the\n",
    "above code cell for yourself). Most programming languages behave this\n",
    "way (the notable exception is Matlab).\n",
    "\n"
   ]
  },
  {
   "cell_type": "markdown",
   "metadata": {},
   "source": [
    "#### Accessing a range of elements (slicing)\n",
    "\n"
   ]
  },
  {
   "cell_type": "markdown",
   "metadata": {},
   "source": [
    "\n",
    " If we want to see several\n",
    "elements of a list (a so called slice), we can specify a range.\n",
    "\n"
   ]
  },
  {
   "cell_type": "code",
   "execution_count": 1,
   "metadata": {},
   "outputs": [
    {
     "name": "stdout",
     "output_type": "stream",
     "text": [
      "# Out [6]: \n",
      "# output\n",
      "[1.45, 12.01]"
     ]
    }
   ],
   "source": [
    "print(my_list[2:4])"
   ]
  },
  {
   "cell_type": "markdown",
   "metadata": {},
   "source": [
    "So rather than specifying a list index, we provide a range expression\n",
    "`2:4` which you can read as `start:stop`. Compare the result of in\n",
    "the above statement which the actual list. Which index positions are\n",
    "actually retrieved by this operation. Do you understand why there are\n",
    "only two values in the result? If you need to think about this for\n",
    "more than 5 minutes, start talking to your peers, and if you still\n",
    "can't figure it out, talk to TA or the instructor.\n",
    "\n"
   ]
  },
  {
   "cell_type": "markdown",
   "metadata": {},
   "source": [
    "#### Accessing the last element(s) in a list\n",
    "\n"
   ]
  },
  {
   "cell_type": "markdown",
   "metadata": {},
   "source": [
    "Sometimes, we have a-priory knowledge of how many list elements there\n",
    "are, sometimes we don't. In this case We could use a python function\n",
    "to query the length of a list (i.e., `len(my_list)`). However, we can\n",
    "do this more elegantly with range expressions:\n",
    "\n"
   ]
  },
  {
   "cell_type": "code",
   "execution_count": 1,
   "metadata": {},
   "outputs": [
    {
     "name": "stdout",
     "output_type": "stream",
     "text": [
      "# Out [7]: \n",
      "# output\n",
      "12.01\n",
      "1.45\n",
      "[3.2, 1.45]\n",
      "[3.2, 1.45, 12.01]"
     ]
    }
   ],
   "source": [
    "print(my_list[-1])    # the last element in the list\n",
    "print(my_list[-2])    # the second last\n",
    "print(my_list=[-3:-1]) # the third and second last!\n",
    "print(my_list[-3:])   # the last 3"
   ]
  },
  {
   "cell_type": "markdown",
   "metadata": {},
   "source": [
    "If you are really on the ball, you noticed that `-3:-1` and `-3:` give\n",
    "different results, and you now know why (it is the same answer as in\n",
    "the previous section). If this is still confusing, please find out\n",
    "from your peers, and if this does not help, flag down a TA or the\n",
    "instructor.\n",
    "\n"
   ]
  },
  {
   "cell_type": "markdown",
   "metadata": {},
   "source": [
    "#### Other list slices\n",
    "\n"
   ]
  },
  {
   "cell_type": "markdown",
   "metadata": {},
   "source": [
    "In the previous example, we have seen that the colon separates the\n",
    "beginning and end values of a list range, and that if we omit the\n",
    "number, it will default to the max index. The same is true for the\n",
    "starting index\n",
    "\n"
   ]
  },
  {
   "cell_type": "code",
   "execution_count": 1,
   "metadata": {},
   "outputs": [
    {
     "name": "stdout",
     "output_type": "stream",
     "text": [
      "# Out [8]: \n",
      "# output\n",
      "[1.12, 3.2, 1.45]\n",
      "[1.12, 3.2, 1.45]\n",
      "[1.12, 3.2, 1.45, 12.01, 1.12, 3.2, 1.45, 12.01]"
     ]
    }
   ],
   "source": [
    "print(my_list[0:3]) # will print the first 3 values\n",
    "print(my_list[:3])  # this is the same\n",
    "print(my_list[:])   # will print the whole list"
   ]
  },
  {
   "cell_type": "markdown",
   "metadata": {},
   "source": [
    "last but not least, we can add a third argument to the range, to tell python to only access every n-th element (`start:stop:step-size`)\n",
    "\n"
   ]
  },
  {
   "cell_type": "code",
   "execution_count": 1,
   "metadata": {},
   "outputs": [
    {
     "name": "stdout",
     "output_type": "stream",
     "text": [
      "# Out [9]: \n",
      "# output\n",
      "[1.12, 1.45, 1.12, 1.45]\n",
      "[1.12, 1.45, 1.12, 1.45]\n",
      "[1.12, 1.45, 1.12, 1.45]"
     ]
    }
   ],
   "source": [
    "print(my_list[0:-1:2]) # every second element  until the second last starting with the first\n",
    "print(my_list[1::2])   # every second element including the last, starting with the second"
   ]
  },
  {
   "cell_type": "markdown",
   "metadata": {},
   "source": [
    "and we can extend this to display the list in reverse. I.e., we\n",
    "specify the higher index value as start value and the lower index\n",
    "value as a stop value, and then we use a negative step size (this is\n",
    "important!)\n",
    "\n"
   ]
  },
  {
   "cell_type": "code",
   "execution_count": 1,
   "metadata": {},
   "outputs": [
    {
     "name": "stdout",
     "output_type": "stream",
     "text": [
      "# Out [8]: \n",
      "# output\n",
      "[3.2, 1.12, 12.01, 1.45, 3.2]\n",
      "[3.2, 1.12, 12.01, 1.45, 3.2, 1.12]\n",
      "[12.01, 1.45, 3.2, 1.12, 12.01, 1.45, 3.2, 1.12]\n",
      "[12.01, 1.45, 3.2, 1.12, 12.01, 1.45, 3.2, 1.12]"
     ]
    }
   ],
   "source": [
    "print(my_list[-3:0:-1]) # start with the 3rd last element going  backwards to the 2n element\n",
    "print(my_list[-3::-1])  # start with the 3rd last element going  backwards to the 1st element\n",
    "print(my_list[-1::-1])  # Show the entire list backwards\n",
    "print(my_list[::-1])    # Same but sthorter"
   ]
  },
  {
   "cell_type": "markdown",
   "metadata": {},
   "source": [
    "If you do not understand why the first results omit the 1<sup>st</sup> list\n",
    "element, please speak up now.\n",
    "\n"
   ]
  }
 ],
 "metadata": {
  "kernelspec": {
   "display_name": "Python 3",
   "language": "python",
   "name": "python3"
  },
  "language_info": {
   "codemirror_mode": {
    "name": "ipython",
    "version": 3
   },
   "file_extension": ".py",
   "mimetype": "text/x-python",
   "name": "python",
   "nbconvert_exporter": "python",
   "pygments_lexer": "ipython3",
   "version": "3.8.5"
  },
  "org": null
 },
 "nbformat": 4,
 "nbformat_minor": 1
}
