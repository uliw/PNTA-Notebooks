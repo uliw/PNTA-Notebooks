{
 "cells": [
  {
   "cell_type": "markdown",
   "metadata": {},
   "source": [
    "## Lists\n",
    "\n"
   ]
  },
  {
   "cell_type": "markdown",
   "metadata": {},
   "source": [
    "**Note 1:** This notebook contains several code blocks. The idea is that\n",
    "you execute these code blocks as you read through the text. So treat\n",
    "this notebook as an interactive tutorial rather than a static\n",
    "test. This mode of reading will be the default from now on.\n",
    "\n",
    "**Note 2:** If you accidentally modify notebook content, go to `File` ->\n",
    "`Revert to Checkpoint`, and select the last checkpoint. The system\n",
    "should create a checkpoint the first time you open a notebook. If you\n",
    "accidentally delete a notebook, use the link posted in the assignment,\n",
    "and restore the notebook.\n",
    "\n",
    "**Note 3:** Checkpoints are a powerful feature. When you work on your\n",
    "assignments, create them every so often so that you do not lose your\n",
    "work. It is good coding practice to create a new checkpoint whenever\n",
    "you solve a minor milestone and before you tackle the following problem.\n",
    "\n",
    " So\n",
    "far, we only considered variables which hold a single value. However,\n",
    "the true power of programming stems from the fact that you apply a\n",
    "given procedure over and over. As such, python provides various\n",
    "data-types  that can hold more than one\n",
    "value.\n",
    "\n",
    "Lists hold a sequence of numbers. However, lists are not\n",
    "restricted to numbers; they can contain numbers, letters, words, and\n",
    "even other lists.  You can also mix and match these things in the same\n",
    "list. For the sake of simplicity, we will stick to numbers here,\n",
    "though.\n",
    "\n",
    "Let's create a list: \n",
    "\n"
   ]
  },
  {
   "cell_type": "code",
   "execution_count": 1,
   "metadata": {},
   "outputs": [],
   "source": [
    "my_list = [1 2 3]"
   ]
  },
  {
   "cell_type": "markdown",
   "metadata": {},
   "source": [
    "Please execute this block.\n",
    "\n",
    "Ugh, this fails! You need to separate list items with commas!\n",
    "\n"
   ]
  },
  {
   "cell_type": "code",
   "execution_count": 1,
   "metadata": {},
   "outputs": [],
   "source": [
    "my_list = [1, 2, 3]"
   ]
  },
  {
   "cell_type": "markdown",
   "metadata": {},
   "source": [
    "Why is there no output?\n",
    "\n",
    "The above statements assign values to a variable. However, the\n",
    "assignment itself is not an operation that yields a result. All it\n",
    "does is create a list. If you want to see the list, you need to\n",
    "use the print function  (we will\n",
    "explore the print function in greater detail later on).\n",
    "\n"
   ]
  },
  {
   "cell_type": "code",
   "execution_count": 1,
   "metadata": {},
   "outputs": [],
   "source": [
    "my_list = [1, 2, 3]\n",
    "print(my_list)"
   ]
  },
  {
   "cell_type": "markdown",
   "metadata": {},
   "source": [
    "You may have noticed that in the previous modules, most variable names\n",
    "were single letters, whereas here, I use a compound word. Personally,\n",
    "I try to use a single letter or words for simple variables\n",
    "that only contain a single value, whereas compound variables use a\n",
    "two-letter name. You may also notice that I prefixed the variable with\n",
    "the word `my`. This avoids potential overlap with builtin\n",
    "python functions (e.g., `list()` which is a builtin function).\n",
    "\n"
   ]
  },
  {
   "cell_type": "markdown",
   "metadata": {},
   "source": [
    "### Accessing list elements\n",
    "\n"
   ]
  },
  {
   "cell_type": "markdown",
   "metadata": {},
   "source": [
    "#### Single list elements\n",
    "\n"
   ]
  },
  {
   "cell_type": "markdown",
   "metadata": {},
   "source": [
    "\n",
    "Consider the following list:\n",
    "\n"
   ]
  },
  {
   "cell_type": "code",
   "execution_count": 1,
   "metadata": {},
   "outputs": [],
   "source": [
    "my_list=[1.12, 3.2, 1.45, 12.01, 1.12, 3.2, 1.45, 12.01]"
   ]
  },
  {
   "cell_type": "markdown",
   "metadata": {},
   "source": [
    "In real life, lists are often rather long, and we only want to see\n",
    "certain elements of it. Say you only want to see the second element of\n",
    "this list, so we can write\n",
    "\n"
   ]
  },
  {
   "cell_type": "code",
   "execution_count": 1,
   "metadata": {},
   "outputs": [],
   "source": [
    "print(my_list[1])"
   ]
  },
  {
   "cell_type": "markdown",
   "metadata": {},
   "source": [
    "The number in the square bracket is called the index and refers to\n",
    "the position of the list element inside the list. Why do we see the 2<sup>nd</sup>\n",
    "element of this list, even so, the index is `1`?\n",
    "\n",
    "This is because python starts counting at zero. So to see the first\n",
    "list element, you would need to write `my_list[0]` (try this in the\n",
    "above code cell for yourself). Most programming languages behave this\n",
    "way (the notable exception is Matlab).\n",
    "\n"
   ]
  },
  {
   "cell_type": "markdown",
   "metadata": {},
   "source": [
    "#### Accessing a range of elements (slicing)\n",
    "\n"
   ]
  },
  {
   "cell_type": "markdown",
   "metadata": {},
   "source": [
    "\n",
    " If we want to see several\n",
    "elements of a list (a so-called slice), we can specify a range.\n",
    "\n"
   ]
  },
  {
   "cell_type": "code",
   "execution_count": 1,
   "metadata": {},
   "outputs": [],
   "source": [
    "print(my_list[2:4])"
   ]
  },
  {
   "cell_type": "markdown",
   "metadata": {},
   "source": [
    "So rather than specifying a list index, we provide a range expression\n",
    "`2:4` which you can read as `start:stop`. Compare the result in\n",
    "the above statement which the actual list. Which index positions are\n",
    "retrieved by this operation? Do you understand why there are\n",
    "only two values in the result? If you need to think about this for\n",
    "more than 5 minutes, start talking to your peers, and if you still\n",
    "can't figure it out, talk to TA or the instructor.\n",
    "\n"
   ]
  },
  {
   "cell_type": "markdown",
   "metadata": {},
   "source": [
    "#### Accessing the last element(s) in a list\n",
    "\n"
   ]
  },
  {
   "cell_type": "markdown",
   "metadata": {},
   "source": [
    "Sometimes, we have a-priory knowledge of how many list elements there\n",
    "are, sometimes we don't. In this case, we could use a python function\n",
    "to query the length of a list (i.e., `len(my_list)`). However, we can\n",
    "do this more elegantly with range expressions:\n",
    "\n"
   ]
  },
  {
   "cell_type": "code",
   "execution_count": 1,
   "metadata": {},
   "outputs": [],
   "source": [
    "print(my_list[-1])    # the last element in the list\n",
    "print(my_list[-2])    # the second last\n",
    "print(my_list[-3:-1]) # the third and second last!\n",
    "print(my_list[-3:])   # the last 3"
   ]
  },
  {
   "cell_type": "markdown",
   "metadata": {},
   "source": [
    "If you are really on the ball, you noticed that `-3:-1` and `-3:` give\n",
    "different results and, you now why (it is the same answer as in\n",
    "the previous section). If this is still confusing, please find out\n",
    "from your peers, and if this does not help, flag down a TA or the\n",
    "instructor.\n",
    "\n"
   ]
  },
  {
   "cell_type": "markdown",
   "metadata": {},
   "source": [
    "#### Other list slices\n",
    "\n"
   ]
  },
  {
   "cell_type": "markdown",
   "metadata": {},
   "source": [
    "In the previous example, we have seen that the colon separates the\n",
    "beginning and end values of a list range, and that if we omit the\n",
    "number, it will default to the max index. The same is true for the\n",
    "starting index\n",
    "\n"
   ]
  },
  {
   "cell_type": "code",
   "execution_count": 1,
   "metadata": {},
   "outputs": [],
   "source": [
    "print(my_list[0:3]) # will print the first 3 values\n",
    "print(my_list[:3])  # this is the same\n",
    "print(my_list[:])   # will print the whole list"
   ]
  },
  {
   "cell_type": "markdown",
   "metadata": {},
   "source": [
    "Last but not least, we can add a third argument to the range\n",
    "expression that tells python to only access every n-th element\n",
    "(`start:stop:step-size`)\n",
    "\n"
   ]
  },
  {
   "cell_type": "code",
   "execution_count": 1,
   "metadata": {},
   "outputs": [],
   "source": [
    "print(my_list[0:-1:2]) # every second element  until the second last starting with the first\n",
    "print(my_list[1::2])   # every second element including the last, starting with the second"
   ]
  },
  {
   "cell_type": "markdown",
   "metadata": {},
   "source": [
    "We can extend this syntax to display the list in reverse. I.e., we\n",
    "specify the higher index value as the start value, and the lower index\n",
    "value as a stop value, and then we use a negative step size (this is\n",
    "important!)\n",
    "\n"
   ]
  },
  {
   "cell_type": "code",
   "execution_count": 1,
   "metadata": {},
   "outputs": [],
   "source": [
    "print(my_list[-3:0:-1]) # start with the 3rd last element going  backwards to the 2n element\n",
    "print(my_list[-3::-1])  # start with the 3rd last element going  backwards to the 1st element\n",
    "print(my_list[-1::-1])  # Show the entire list backwards\n",
    "print(my_list[::-1])    # Same but sthorter"
   ]
  },
  {
   "cell_type": "markdown",
   "metadata": {},
   "source": [
    "If you do not understand why the first results omit the 1<sup>st</sup> list\n",
    "element, please speak up now.\n",
    "\n"
   ]
  },
  {
   "cell_type": "markdown",
   "metadata": {},
   "source": [
    "#### Take me home:\n",
    "\n"
   ]
  },
  {
   "cell_type": "markdown",
   "metadata": {},
   "source": [
    "A summary of essential concepts in the above chapter\n",
    "\n",
    "-   You create lists by enclosing a sequence of list elements into square brackets\n",
    "-   A comma must separate individual list entries\n",
    "-   Avoid the letters O or l in variable names as they are easily\n",
    "    confused with the numbers zero and one.\n",
    "-   Avoid overwriting built-in python functions by prepending `my_` to\n",
    "    your variable names. With time you will get the hang of it which\n",
    "    names are being used by python(e.g., print, list, dict, float,\n",
    "    etc.) and which names are safe to use (e.g., `i`, `class_list` etc.).\n",
    "-   We can access list elements by providing a single index number\n",
    "-   We can access multiple list elements by providing a range expression [start:stop:step]\n",
    "-   The index of the first list element is zero. The index of the last list element is -1\n",
    "\n"
   ]
  }
 ],
 "metadata": {
  "kernelspec": {
   "display_name": "Python 3 (ipykernel)",
   "language": "python",
   "name": "python3"
  },
  "language_info": {
   "codemirror_mode": {
    "name": "ipython",
    "version": 3
   },
   "file_extension": ".py",
   "mimetype": "text/x-python",
   "name": "python",
   "nbconvert_exporter": "python",
   "pygments_lexer": "ipython3",
   "version": "3.11.5"
  },
  "org": null
 },
 "nbformat": 4,
 "nbformat_minor": 4
}
