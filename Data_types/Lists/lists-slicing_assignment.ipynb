{
 "cells": [
  {
   "cell_type": "markdown",
   "metadata": {},
   "source": [
    "## Assignment\n",
    "\n"
   ]
  },
  {
   "cell_type": "markdown",
   "metadata": {},
   "source": [
    "Note: It may be easiest if you copy this entire notebook to your\n",
    "submission folder and add title and id etc. rather than the other way\n",
    "round. \n",
    "\n",
    "Adding information is easily done by splitting an existing text cell\n",
    "into two cells. After copying this notebook, click on this text cell\n",
    "and place the cursor after the last sentence. Now select Edit-> Split\n",
    "Cell (or hit `Ctrl-Shift-Minus`).\n",
    "\n"
   ]
  },
  {
   "cell_type": "markdown",
   "metadata": {},
   "source": [
    "### Learning Outcomes\n",
    "\n"
   ]
  },
  {
   "cell_type": "markdown",
   "metadata": {},
   "source": [
    "-   Learn how to split a text cell into two\n",
    "-   Create lists\n",
    "-   Access list elements\n",
    "-   Get comfortable selecting subsets from list-type variables using\n",
    "    slicing syntax\n",
    "\n"
   ]
  },
  {
   "cell_type": "markdown",
   "metadata": {},
   "source": [
    "### Questions\n",
    "\n"
   ]
  },
  {
   "cell_type": "markdown",
   "metadata": {},
   "source": [
    "Execute the following block so that `my_list` becomes known in your\n",
    "local Jupyter session.\n",
    "\n"
   ]
  },
  {
   "cell_type": "code",
   "execution_count": 1,
   "metadata": {},
   "outputs": [],
   "source": [
    "my_list = [3, 4, 5, 12, 0, 11, 1, 2, 9, 8, 7, 13, 10]"
   ]
  },
  {
   "cell_type": "markdown",
   "metadata": {},
   "source": [
    "Add a textbox here, and explain why the above statement does not\n",
    "produce any output. 2 pts\n",
    "\n",
    "Write a python statement that prints the last four elements of\n",
    "`my_list` 1pt\n",
    "\n"
   ]
  },
  {
   "cell_type": "code",
   "execution_count": 1,
   "metadata": {},
   "outputs": [],
   "source": [
    "# Add your code here"
   ]
  },
  {
   "cell_type": "markdown",
   "metadata": {},
   "source": [
    "Write a python statement that shows every 3rd element of `my_list`\n",
    "starting with the third element in the list. 2 pts\n",
    "\n"
   ]
  },
  {
   "cell_type": "code",
   "execution_count": 1,
   "metadata": {},
   "outputs": [],
   "source": [
    "# Add your code here"
   ]
  },
  {
   "cell_type": "markdown",
   "metadata": {},
   "source": [
    "Write a python statement that shows every second element of the last 6\n",
    "elements in `my_list` 2 pts. Note, consider splitting this into two\n",
    "steps: 1) Where you first select the last six elements and save them\n",
    "into a new list; 2) Then write a statement that selects every second\n",
    "element. You can also chain list-slicing commands, e.g.,\n",
    "`my_list[1:4][::2]`. In this case, you first specify a list from index\n",
    "1 to 4, and then select every second element. Note that the expected\n",
    "answer starts with the number 9.\n",
    "\n"
   ]
  },
  {
   "cell_type": "code",
   "execution_count": 1,
   "metadata": {},
   "outputs": [],
   "source": [
    "# Add your code here"
   ]
  },
  {
   "cell_type": "markdown",
   "metadata": {},
   "source": [
    "Write a python statement that shows every second element of the last\n",
    "six elements in `my_list` in reverse order 3 pts (i.e., you count\n",
    "backwards from the last six list elements, and then start with the\n",
    "second last element of this sub list). This time, chain your slicing\n",
    "statements as in the example above.\n",
    "\n"
   ]
  },
  {
   "cell_type": "code",
   "execution_count": 1,
   "metadata": {},
   "outputs": [],
   "source": [
    "# Add your code here"
   ]
  },
  {
   "cell_type": "markdown",
   "metadata": {},
   "source": [
    "What is the shortest slicing notation to show all values of `my_list` in reverse order? 2 pts\n",
    "\n"
   ]
  },
  {
   "cell_type": "code",
   "execution_count": 1,
   "metadata": {},
   "outputs": [],
   "source": [
    "# Add your code here"
   ]
  },
  {
   "cell_type": "markdown",
   "metadata": {},
   "source": [
    "Add a textbox below, and explain why the next two\n",
    "statements do not produce the same result 2 pts\n",
    "\n"
   ]
  },
  {
   "cell_type": "code",
   "execution_count": 1,
   "metadata": {},
   "outputs": [],
   "source": [
    "print(my_list[0:])\n",
    "print(my_list[0:-1])"
   ]
  },
  {
   "cell_type": "markdown",
   "metadata": {},
   "source": [
    "What is wrong with this python statement below? 1 pt\n",
    "\n",
    "    my_list = [1 2 3]\n",
    "\n",
    "Add a python statement below That shows the first three words of `ml` (1 pt)\n",
    "\n"
   ]
  },
  {
   "cell_type": "code",
   "execution_count": 1,
   "metadata": {},
   "outputs": [],
   "source": [
    "ml = [\"This\", \"is\", \"a\", \"short\", \"sentence\"]"
   ]
  },
  {
   "cell_type": "markdown",
   "metadata": {},
   "source": [
    "#### Advanced question\n",
    "\n"
   ]
  },
  {
   "cell_type": "markdown",
   "metadata": {},
   "source": [
    "Add a python statement that will use chained slicing syntax to extract the\n",
    "first and the last element of the first list in the list of lists. Assume that the sub-list length is 3. (3 pts)\n",
    "\n"
   ]
  },
  {
   "cell_type": "code",
   "execution_count": 1,
   "metadata": {},
   "outputs": [],
   "source": [
    "ml = [[1, 2, 3], [4, 5, 6], [7, 8, 9]]"
   ]
  },
  {
   "cell_type": "markdown",
   "metadata": {},
   "source": [
    "### Marking Scheme\n",
    "\n"
   ]
  },
  {
   "cell_type": "markdown",
   "metadata": {},
   "source": [
    "Total points: 23\n",
    "\n",
    "-   19 pts for the questions\n",
    "-   2 pts for correct notebook formatting\n",
    "-   2 pts for correct notebook name\n",
    "\n"
   ]
  },
  {
   "cell_type": "markdown",
   "metadata": {},
   "source": [
    "### Submission Instructions\n",
    "\n"
   ]
  },
  {
   "cell_type": "markdown",
   "metadata": {},
   "source": [
    "Create a new (or copy and existing) notebook in your `submissions`\n",
    "folder before editing it. Otherwise, your edits may be overwritten the\n",
    "next time you log into syzygy. Please name your copy\n",
    "\"Assignment-Name-FirstName-LastName\": \n",
    "\n",
    "-   Replace the `Assignment-Name` with the name of the assignment\n",
    "    (i.e., the filename of the respective Jupyter Notebook)\n",
    "-   `FirstName-Last-Name` with your own name.\n",
    "\n",
    "Your notebook/pdf must start with the following lines \n",
    "\n",
    "**Assignment Title**\n",
    "\n",
    "**Date:**\n",
    "\n",
    "**First Name:**\n",
    "\n",
    "**Last Name:**\n",
    "\n",
    "**Student: Id**\n",
    "\n",
    "Before submitting your assignment, re-read the learning outcomes and\n",
    "verify that you are comfortable which each concept. If not, please\n",
    "speak up on the discussion board and ask for further clarification. I\n",
    "can guarantee that you if you feel uncertain about a concept, at least\n",
    "half the class will be in the same boat. So don't be shy!\n",
    "\n",
    "To submit your assignment, you need to download it `ipyn` notebook\n",
    "format **and** `pdf` format. Please submit both files on Quercus. Note\n",
    "that the pdf export can fail if your file contains invalid\n",
    "markup/python code. So you need to check that the pdf export is\n",
    "complete and does not miss any sections. If you have export problems,\n",
    "please contact the course instructor directly.\n",
    "\n",
    "Notebooks typically have empty code cells in which you have to enter\n",
    "python code. Please use the respective cell below each question, or\n",
    "create a python cell where necessary. Add text cells to enter your\n",
    "answers where appropriate. Your answers will only count if the code\n",
    "executes without error. It is thus recommended to run your solutions\n",
    "before submitting the assignment.\n",
    "\n",
    "**Note: Do not type your answers by hand. Rather, write code which**\n",
    "**produces the answer, and your pdf should show the code as well as**\n",
    "**the results of the code execution!**\n",
    "\n"
   ]
  }
 ],
 "metadata": {
  "kernelspec": {
   "display_name": "Python 3",
   "language": "python",
   "name": "python3"
  },
  "language_info": {
   "codemirror_mode": {
    "name": "ipython",
    "version": 3
   },
   "file_extension": ".py",
   "mimetype": "text/x-python",
   "name": "python",
   "nbconvert_exporter": "python",
   "pygments_lexer": "ipython3",
   "version": "3.9.7"
  },
  "org": null
 },
 "nbformat": 4,
 "nbformat_minor": 1
}
