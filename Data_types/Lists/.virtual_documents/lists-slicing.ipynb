





my_list = [1 2 3]





my_list = [1, 2, 3]





my_list = [1, 2, 3]
print(my_list)














my_list=[1.12, 3.2, 1.45, 12.01, 1.12, 3.2, 1.45, 12.01]





print(my_list[1])











print(my_list[2:4])











print(my_list[-1])    # the last element in the list
print(my_list[-2])    # the second last
print(my_list[-3:-1]) # the third and second last!
print(my_list[-3:])   # the last 3











print(my_list[0:3]) # will print the first 3 values
print(my_list[:3])  # this is the same
print(my_list[:])   # will print the whole list





print(my_list[0:-1:2]) # every second element  until the second last starting with the first
print(my_list[1::2])   # every second element including the last, starting with the second





print(my_list[-3:0:-1]) # start with the 3rd last element going  backwards to the 2n element
print(my_list[-3::-1])  # start with the 3rd last element going  backwards to the 1st element
print(my_list[-1::-1])  # Show the entire list backwards
print(my_list[::-1])    # Same but sthorter









