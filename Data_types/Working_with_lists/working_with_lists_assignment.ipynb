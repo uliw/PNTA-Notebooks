{
 "cells": [
  {
   "cell_type": "markdown",
   "metadata": {},
   "source": [
    "## Assignment\n",
    "\n"
   ]
  },
  {
   "cell_type": "markdown",
   "metadata": {},
   "source": [
    "As usual, copy this notebook to your private directory, and add your\n",
    "personal header before working through this assignment.\n",
    "\n"
   ]
  },
  {
   "cell_type": "markdown",
   "metadata": {},
   "source": [
    "### Learning outcomes\n",
    "\n"
   ]
  },
  {
   "cell_type": "markdown",
   "metadata": {},
   "source": [
    "-   know how to query object methods\n",
    "-   understand the difference between object methods and functions\n",
    "-   understand the difference between methods that operate **IN PLACE** and functions that return a modified copy\n",
    "    of an object\n",
    "\n"
   ]
  },
  {
   "cell_type": "markdown",
   "metadata": {},
   "source": [
    "### Questions\n",
    "\n"
   ]
  },
  {
   "cell_type": "markdown",
   "metadata": {},
   "source": [
    "Execute the following block so that `my_list` becomes known in your\n",
    "local Jupyter session.\n",
    "\n"
   ]
  },
  {
   "cell_type": "code",
   "execution_count": 1,
   "metadata": {},
   "outputs": [],
   "source": [
    "my_list = [3, 4, 5, 12, 0, 11, 1, 2, 9, 8, 7, 13, 10]"
   ]
  },
  {
   "cell_type": "markdown",
   "metadata": {},
   "source": [
    "Add a text block below this paragraph where you enumerate (i.e., a\n",
    "numbered list) all user-visible methods of the `my_list` object that\n",
    "have the **IN PLACE** warning in their help text (if in doubt, consult\n",
    "your working with lists module on how to find out about this). There is\n",
    "no need to add a code cell; just list what you find (3 pts).\n",
    "\n",
    "Add a code block that will create a sorted copy of `my_list` using a\n",
    "python function (as opposed to a list method). Print the list to\n",
    "verify that it has been sorted (4 pts).\n",
    "\n",
    "Add code below that returns a sorted copy (not reference) of `my_list`, but this time\n",
    "use list method(s) rather than a function (4 pts).\n",
    "\n"
   ]
  },
  {
   "cell_type": "code",
   "execution_count": 1,
   "metadata": {},
   "outputs": [],
   "source": [
    "my_list = [3, 4, 5, 12, 0, 11, 1, 2, 9, 8, 7, 13, 10]"
   ]
  },
  {
   "cell_type": "markdown",
   "metadata": {},
   "source": [
    "Add a code block below that displays `my_list` in reverse order\n",
    "without affecting the actual ordering of `my_list` (2 pts). Add a\n",
    "second line that uses a list method to sort the contents of\n",
    "`my_list`. (2 pts). Total: 4 pts\n",
    "\n",
    "Execute the following statement, and add a python statement that\n",
    "counts the occurrences of the number five in `long_list`). 1 pt\n",
    "\n"
   ]
  },
  {
   "cell_type": "code",
   "execution_count": 1,
   "metadata": {},
   "outputs": [],
   "source": [
    "long_list = [2, 2, 5, 5, 0, 3, 3, 4, 3, 2, 4, 2, 4, 3, 3, 4, 2, 1, 5,\n",
    "             3, 0, 4, 4, 2, 4, 1, 1, 2, 1, 2, 0, 0, 0, 4, 2, 5, 5, 5, 0, 3, 4, 3,\n",
    "             3, 5, 3, 5, 2, 1, 0, 3, 3, 3, 0, 2, 3, 5, 4, 4, 4, 1, 5, 5, 5, 3, 5,\n",
    "             3, 0, 1, 1, 1, 4, 4, 0, 2, 2, 1, 4, 4, 3, 2, 0, 1, 1, 0, 3, 3, 0, 3,\n",
    "             0, 3, 4, 2, 3, 0, 2, 3, 5, 0, 4, 5]"
   ]
  },
  {
   "cell_type": "markdown",
   "metadata": {},
   "source": [
    "Write a python statement that returns the position (index) of the first occurrence of the number three. 2 pts\n",
    "\n",
    "Create a copy of `a` and reverse the copy, then print both variables\n",
    "(see below). Your results should look like the comment in the code box\n",
    "below. 2 pts\n",
    "\n"
   ]
  },
  {
   "cell_type": "code",
   "execution_count": 1,
   "metadata": {},
   "outputs": [],
   "source": [
    "a = [3, 4, 5, 12]\n",
    "# print(a)\n",
    "# print(b)\n",
    "# should result in\n",
    "# 3, 4, 5, 12\n",
    "# 12, 5, 4, 3"
   ]
  },
  {
   "cell_type": "markdown",
   "metadata": {},
   "source": [
    "Write a python statement which adds the elements of `b` to `a` 2 pts\n",
    "\n",
    "Write a statement that removes the second occurrence of the number\n",
    "twelve in `a` 2 pts\n",
    "\n",
    "Write a statement that uses a different method than in the previous\n",
    "question to remove the first occurrence of the number twelve in `a`\n",
    "2 pts\n",
    "\n",
    "Write a statement that inserts the number twelve into `a` at the same\n",
    "position where you deleted it in the previous question. 2 pts\n",
    "\n",
    "Explain the difference between `extend()` and `append()` 4 pts.\n",
    "\n",
    "Explain in your own words what happens when you execute the following (4 pts)\n",
    "\n"
   ]
  },
  {
   "cell_type": "code",
   "execution_count": 1,
   "metadata": {},
   "outputs": [],
   "source": [
    "a = [1, 2, 3,]\n",
    "a + 2 * a"
   ]
  },
  {
   "cell_type": "markdown",
   "metadata": {},
   "source": [
    "Write a python statement that prints `a` in reverse order without\n",
    "using a list method or function. 2 pts\n",
    "\n"
   ]
  },
  {
   "cell_type": "markdown",
   "metadata": {},
   "source": [
    "### Advanced questions (9 pts)\n",
    "\n"
   ]
  },
  {
   "cell_type": "markdown",
   "metadata": {},
   "source": [
    "### 9 pts\n",
    "\n"
   ]
  },
  {
   "cell_type": "markdown",
   "metadata": {},
   "source": [
    "In computing, one often needs a so called buffer. This is a space where we, e.g., store measurement values from an analytical instrument. Often, the values arrive faster than we can process them, but them, there is pause. So wee need to temporarily store the results in such a way, that we can accommodate the first 1000 values, but once the buffer is full, we start discarding the oldest data. This principle is called first in, last out (FIFO). Using only the **knowledge learned so far**, write a one line statement that realizes the FIFO principle with a list: E.g.\n",
    "\n",
    "    a = [0, 0, 0, 0] # this is our empty buffer\n",
    "    \n",
    "    12 is the first value arriving in the buffer, so it now reads\n",
    "    [12, 0, 0, 0] # note that the buffer length has not changed,\n",
    "    rather we deleted the right most element \n",
    "    \n",
    "    -2 is next value arriving from our instrument, so now the buffer \n",
    "    looks like this\n",
    "    [-2, 12, 0, 0]\n",
    "\n",
    "Here is a code template. Add a one-line python statement that removes the last list element, shifts all remaining list elements to the right, and adds the new value as the first element in the revised list, so that the new buffer state is `[12, 0, 1, 3]`\n",
    "\n"
   ]
  },
  {
   "cell_type": "code",
   "execution_count": 1,
   "metadata": {},
   "outputs": [],
   "source": [
    "a = [0, 1, 3, 4] # buffer of length 4\n",
    "print(a)\n",
    "v = 12 # new value arriving from analytical equipment\n",
    "# add your one line statement below this comment\n",
    "\n",
    "print(a) # verify your result"
   ]
  },
  {
   "cell_type": "markdown",
   "metadata": {},
   "source": [
    "### 2\n",
    "\n"
   ]
  },
  {
   "cell_type": "markdown",
   "metadata": {},
   "source": [
    "Consider the following two lists:\n",
    "\n"
   ]
  },
  {
   "cell_type": "code",
   "execution_count": 1,
   "metadata": {},
   "outputs": [],
   "source": [
    "a = [1, 2, 3]\n",
    "b = ['John', 'Anna', 'George']"
   ]
  },
  {
   "cell_type": "markdown",
   "metadata": {},
   "source": [
    "find a python expression that combines the two lists into a single\n",
    "list and prints the result as `[(1, 'John'), (2, 'Anna'), (3,\n",
    "'George')]` This is not in the textbook and requires that you do some\n",
    "sleuthing on your own. I am looking for a one-liner solution involving no more than two python function calls (excluding the\n",
    "print statement). Note do not spend more than 30 minutes on this task\n",
    "unless you have nothing else to do.\n",
    "\n",
    "**Hint** If your statement seems correct but does not print a list, google how the statement has changed from python 2.x to python 3.x\n",
    "\n"
   ]
  },
  {
   "cell_type": "markdown",
   "metadata": {},
   "source": [
    "### Marking Scheme\n",
    "\n"
   ]
  },
  {
   "cell_type": "markdown",
   "metadata": {},
   "source": [
    "Total points: 49\n",
    "\n",
    "-   Points as listed in each question 47 pts\n",
    "-   Correct naming scheme 2 pts\n",
    "\n"
   ]
  },
  {
   "cell_type": "markdown",
   "metadata": {},
   "source": [
    "### Submission Instructions\n",
    "\n"
   ]
  },
  {
   "cell_type": "markdown",
   "metadata": {},
   "source": [
    "Create a new (or copy and existing) notebook in your `submissions`\n",
    "folder before editing it. Otherwise, your edits may be overwritten the\n",
    "next time you log into syzygy. Please name your copy `assignment-name-firstname-lastname` \n",
    "\n",
    "-   Replace the `assignment-name` with the name of the assignment\n",
    "    (i.e., the filename of the respective Jupyter Notebook)\n",
    "-   `firstname-lastname` with your own name.\n",
    "\n",
    "Note: If the notebook contains images, you must also copy the image files!\n",
    "\n",
    "Your notebook/pdf must start with the following lines :\n",
    "\n",
    "**ESS245: Assignment Title**\n",
    "\n",
    "**Date:**\n",
    "\n",
    "**First Name:**\n",
    "\n",
    "**Last Name:**\n",
    "\n",
    "**Student: Id**\n",
    "\n",
    "Before submitting your assignment:\n",
    "\n",
    "-   Check the marking scheme and ensure you have covered all requirements.\n",
    "-   Re-read the learning outcomes and verify that you are comfortable\n",
    "    with each concept. If not, please speak up on the discussion board\n",
    "    and ask for further clarification. I can guarantee that if you feel\n",
    "    uncertain about a concept, at least half the class will be in the\n",
    "    same boat. So don't be shy!\n",
    "\n",
    "To submit your assignment, you need to download it as `ipynb` notebook\n",
    "format **and** `pdf` format. **To export your notebook as pdf\n",
    "use your browser's print function (`Ctrl-P`) and then select**\n",
    "`Save as pdf`.  In the past, this worked best with Chrome or Firefox.\n",
    "\n",
    " Please submit **both files** on Quercus. Note that the pdf\n",
    "export can fail if your file contains invalid markup/python code. So\n",
    "you need to check that the pdf export is complete and does not miss\n",
    "any sections. If you have export problems, don't hesitate to contact\n",
    "the course instructor directly.\n",
    "\n",
    "Notebooks typically have empty code cells in which you must enter\n",
    "python code. Please use the respective cell below each question, or\n",
    "create a python cell where necessary. Add text cells to enter your\n",
    "answers where appropriate. Your responses will only count if the code\n",
    "executes without error. It is thus recommended to run your solutions\n",
    "before submitting the assignment.\n",
    "\n",
    "**Note: Unless specifically requested, do not type your answers by**\n",
    "**hand. Instead, write code that produces the answer. Your pdf file**\n",
    "**should show the code and the results of the code execution.**\n",
    "\n"
   ]
  }
 ],
 "metadata": {
  "kernelspec": {
   "display_name": "Python 3 (ipykernel)",
   "language": "python",
   "name": "python3"
  },
  "language_info": {
   "codemirror_mode": {
    "name": "ipython",
    "version": 3
   },
   "file_extension": ".py",
   "mimetype": "text/x-python",
   "name": "python",
   "nbconvert_exporter": "python",
   "pygments_lexer": "ipython3",
   "version": "3.11.5"
  },
  "org": null
 },
 "nbformat": 4,
 "nbformat_minor": 4
}
