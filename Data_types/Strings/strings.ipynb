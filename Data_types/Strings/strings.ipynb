{
 "cells": [
  {
   "cell_type": "markdown",
   "metadata": {},
   "source": [
    "## Strings\n",
    "\n"
   ]
  },
  {
   "cell_type": "markdown",
   "metadata": {},
   "source": [
    "\n",
    " Previously, we explored how\n",
    "numbers are stored in memory. This was achieved by changing a number\n",
    "from its representation in the decimal system to the binary system.\n",
    "\n",
    "There is no simple way to do the same for letters\n",
    " and symbols\n",
    ". However, nothing prevents us from mapping\n",
    "letters to numbers and then storing the number. The only extra step\n",
    "required is to tell the program that this number is meant to be a\n",
    "letter. Python will then use a lookup table to figure out which letter\n",
    "to print as output. Obviously, this will only work if everyone agrees\n",
    "to use the same lookup table&#x2026;\n",
    "\n",
    "We can use the `chr()` function to show the character associated with\n",
    "a given number   \\index{number to\n",
    "ASCII}\n",
    "\n"
   ]
  },
  {
   "cell_type": "code",
   "execution_count": 1,
   "metadata": {},
   "outputs": [],
   "source": [
    "print(chr(65))"
   ]
  },
  {
   "cell_type": "markdown",
   "metadata": {},
   "source": [
    "But how do we tell python that a given value should be interpreted as\n",
    "a character? Using `chr()` each time we want to see a character\n",
    "would be tedious.\n",
    "\n",
    "In our last module, we discovered that each variable is assigned a\n",
    "type (int, float, etc.). These assignments are done when you assign a\n",
    "value to the variable. E.g., if you type `a=12` python will assign an\n",
    "integer-type. If you type `a=12.1` python will assign an float-type.\n",
    "\n",
    "However, we can't simply write `a=b` to assign the letter `b` to the\n",
    "variable `a` because `b` could also be the name of a variable. Most\n",
    "programming languages thus use quotation marks to indicate that you\n",
    "are assigning a character to a variable. Consider the following\n",
    "\n"
   ]
  },
  {
   "cell_type": "code",
   "execution_count": 1,
   "metadata": {},
   "outputs": [],
   "source": [
    "b = 12     # the value of the variable b is 12\n",
    "print(b)\n",
    "a = b      # the value of the variable a is 12\n",
    "print(a)\n",
    "a = \"b\"    # the value of the variable a is the letter b\n",
    "print(a)\n",
    "print(\"a\") # print the character \"a\""
   ]
  },
  {
   "cell_type": "markdown",
   "metadata": {},
   "source": [
    "you can use either single quotation marks or double ones\n",
    "\n"
   ]
  },
  {
   "cell_type": "code",
   "execution_count": 1,
   "metadata": {},
   "outputs": [],
   "source": [
    "a = 'b'  # OK\n",
    "print(a)\n",
    "a = \"b\"  # OK\n",
    "print(a)"
   ]
  },
  {
   "cell_type": "markdown",
   "metadata": {},
   "source": [
    "but this will not work\n",
    "\n"
   ]
  },
  {
   "cell_type": "code",
   "execution_count": 1,
   "metadata": {},
   "outputs": [],
   "source": [
    "a = \"a'"
   ]
  },
  {
   "cell_type": "markdown",
   "metadata": {},
   "source": [
    "Lastly, We can use the `ord()` function to show which number belongs\n",
    "to a given letter   \\index{ASCII to\n",
    "number}\n",
    "\n"
   ]
  },
  {
   "cell_type": "code",
   "execution_count": 1,
   "metadata": {},
   "outputs": [],
   "source": [
    "print(ord(\"a\"))"
   ]
  },
  {
   "cell_type": "markdown",
   "metadata": {},
   "source": [
    "### The ASCII table\n",
    "\n"
   ]
  },
  {
   "cell_type": "markdown",
   "metadata": {},
   "source": [
    " ASCII stands for \"American Standard Code for\n",
    "Information Interchange\" and defines a way to map characters to\n",
    "numbers (see the below table for a short excerpt).\n",
    "\n",
    "| Dec|Hex|Char|Description|\n",
    "|---|---|---|---|\n",
    "| 65|41|A|Capital A|\n",
    "| 66|42|B|Capital B|\n",
    "| 67|43|C|Capital C|\n",
    "| 68|44|D|Capital D|\n",
    "| 69|45|E|Capital E|\n",
    "| 70|46|F|Capital F|\n",
    "| 71|47|G|Capital G|\n",
    "| 72|48|H|Capital H|\n",
    "| 73|49|I|Capital I|\n",
    "\n",
    "The complete table is available at [https://en.wikipedia.org/wiki/ASCII](https://en.wikipedia.org/wiki/ASCII)\n",
    "The ASCII standard is the oldest and most widely accepted way to map\n",
    "characters to numbers. However, due to its age and country of origin,\n",
    "it comes with considerable limitations. It was initially designed to\n",
    "store text characters with a bit-width of 1 byte. I.e., with numbers\n",
    "between 0 and 255. This implies that there are insufficient mappings\n",
    "to consider special characters, like umlauts, let alone other\n",
    "alphabets.\n",
    "\n",
    "  It is only recently that a globally\n",
    "accepted mapping between numbers and text has become available\n",
    "([https://en.wikipedia.org/wiki/Unicode](https://en.wikipedia.org/wiki/Unicode)), but even there, different\n",
    "variants exist, and not every operating system supports them\n",
    "similarly. This is one of the reasons why we will only use letters\n",
    "that are defined in the original ASCII-table.\n",
    "\n",
    "Fun fact: The name of the artificial intelligence in the movie \"2001,\n",
    "A Space Odyssey\" was HAL. This name was derived by subtracting 1 from\n",
    "the ASCII values of IBM.\n",
    "\n"
   ]
  },
  {
   "cell_type": "markdown",
   "metadata": {},
   "source": [
    "### Strings\n",
    "\n"
   ]
  },
  {
   "cell_type": "markdown",
   "metadata": {},
   "source": [
    " Working with\n",
    "single letters is not convenient. Thus, every computer language knows\n",
    "about sequences of letters, which are called strings. We can think of\n",
    "strings simply as a special type of list. It should, therefore, be no\n",
    "problem for you to print, e.g., the 3<sup>rd</sup> letter of this string.\n",
    "\n"
   ]
  },
  {
   "cell_type": "code",
   "execution_count": 1,
   "metadata": {},
   "outputs": [],
   "source": [
    "a = \"This is an example of a string\"\n",
    "print(a)\n",
    "# now print the 3rd letter of this string"
   ]
  },
  {
   "cell_type": "markdown",
   "metadata": {},
   "source": [
    "Unlike lists, you cannot modify elements of a string (i.e., they are immutable):\n",
    "\n"
   ]
  },
  {
   "cell_type": "code",
   "execution_count": 1,
   "metadata": {},
   "outputs": [],
   "source": [
    "a = \"Joe\"\n",
    "a = \"Jessie\" # this is ok\n",
    "a[2] = \"x\"   # this will not work"
   ]
  },
  {
   "cell_type": "markdown",
   "metadata": {},
   "source": [
    "Similarly to lists, you can work with ranges and query a\n",
    "string object to see which methods it provides. We can do this with the `dir()` function as follows:\n",
    "\n"
   ]
  },
  {
   "cell_type": "code",
   "execution_count": 1,
   "metadata": {},
   "outputs": [],
   "source": [
    "a = \"Joe\"\n",
    "dir(a)"
   ]
  },
  {
   "cell_type": "markdown",
   "metadata": {},
   "source": [
    "Remember that any names that start with an underscore are best\n",
    "ignored, unless you want to change the internals of the python\n",
    "language.\n",
    "\n",
    "You can get further information on these methods with the `help()`\n",
    "function by combining the variable name with the method name, e.g.,\n",
    "\n"
   ]
  },
  {
   "cell_type": "code",
   "execution_count": 1,
   "metadata": {},
   "outputs": [],
   "source": [
    "a = \"Joe\"\n",
    "help(a.upper)"
   ]
  },
  {
   "cell_type": "markdown",
   "metadata": {},
   "source": [
    "## Other Data Types\n",
    "\n"
   ]
  },
  {
   "cell_type": "markdown",
   "metadata": {},
   "source": [
    "Python knows various data types, many of which we may never\n",
    "use. However, the most important ones should at least be mentioned:\n",
    "\n"
   ]
  },
  {
   "cell_type": "markdown",
   "metadata": {},
   "source": [
    "### Vectors versus Lists\n",
    "\n"
   ]
  },
  {
   "cell_type": "markdown",
   "metadata": {},
   "source": [
    "If you have used matlab before, you will be familiar with\n",
    "vectors. Unlike matlab, python does not have a native vector type.\n",
    "Lists can contain almost anything (e.g., other lists, strings, and any\n",
    "of the types below).  Vectors, however, can only contain numbers and\n",
    "support mathematical methods (i.e., multiplying two vectors will give\n",
    "you the cross product). We will learn how to use vectors in a later\n",
    "module.  \n",
    "\n"
   ]
  },
  {
   "cell_type": "markdown",
   "metadata": {},
   "source": [
    "### Tuples\n",
    "\n"
   ]
  },
  {
   "cell_type": "markdown",
   "metadata": {},
   "source": [
    "\n",
    "Python tuples are a special version of a list that won't allow you\n",
    "to modify the value of a list element. We define a tuple by declaring\n",
    "the list with regular brackets rather than square brackets.\n",
    "\n"
   ]
  },
  {
   "cell_type": "code",
   "execution_count": 1,
   "metadata": {},
   "outputs": [],
   "source": [
    "my_list = [1, 2, 4]       # a regular list\n",
    "my_tuple = (1, 2, 3) # a tuple list"
   ]
  },
  {
   "cell_type": "markdown",
   "metadata": {},
   "source": [
    "We access elements of a tuple via index or range operations similar to\n",
    "regular list\n",
    "\n"
   ]
  },
  {
   "cell_type": "code",
   "execution_count": 1,
   "metadata": {},
   "outputs": [],
   "source": [
    "print(my_tuple[1]) # note the square brackets for the index expression!"
   ]
  },
  {
   "cell_type": "markdown",
   "metadata": {},
   "source": [
    "however, unlike lists, **you cannot change the values in a tuple!**\n",
    "\n"
   ]
  },
  {
   "cell_type": "code",
   "execution_count": 1,
   "metadata": {},
   "outputs": [],
   "source": [
    "my_tuple[1] = 3"
   ]
  },
  {
   "cell_type": "markdown",
   "metadata": {},
   "source": [
    "While you cannot change the value of a tuple, it is possible to join two tuples to create a **new** tuple.\n",
    "\n"
   ]
  },
  {
   "cell_type": "code",
   "execution_count": 1,
   "metadata": {},
   "outputs": [],
   "source": [
    "my_first_tuple = (1, 2, 3)\n",
    "my_second_tuple = (3, 8, 7)\n",
    "new_tuple = my_first_tuple + my_second_tuple\n",
    "print(new_tuple)\n",
    "\n",
    "# or replace a existing tuple\n",
    "my_first_tuple = my_first_tuple + my_second_tuple\n",
    "print(my_first_tuple)"
   ]
  },
  {
   "cell_type": "markdown",
   "metadata": {},
   "source": [
    "Tuples are an immutable type (similar to strings). So you can create\n",
    "them, you can delete them, and you can re-assign them. But you cannot\n",
    "change the values of the tuple elements.\n",
    "\n"
   ]
  },
  {
   "cell_type": "markdown",
   "metadata": {},
   "source": [
    "### Sets\n",
    "\n"
   ]
  },
  {
   "cell_type": "markdown",
   "metadata": {},
   "source": [
    "\n",
    "Sets are declared with curly braces. Unlike lists, you can only add unique\n",
    "elements. If there are duplicates, they will simply be ignored.\n",
    "\n"
   ]
  },
  {
   "cell_type": "code",
   "execution_count": 1,
   "metadata": {},
   "outputs": [],
   "source": [
    "my_set = {1, 2, 3, 3}\n",
    "print(my_set)"
   ]
  },
  {
   "cell_type": "markdown",
   "metadata": {},
   "source": [
    "Another critical difference is that sets are not indexed. I.e., you\n",
    "cannot write `my_set[1]`. Set elements can be added, removed, and\n",
    "changed. Furthermore, sets provide all sorts of exciting\n",
    "operations (i.e., union, difference, intersection, subset, etc.). A practical\n",
    "example of how to use sets would be the following case. You have the list\n",
    "of students enrolled in ESS224H1 Introduction To Mineralogy And\n",
    "Petrology, and the list of students who are enrolled in ESS262H1\n",
    "Earth System Processes. If both are a set, you can use a single\n",
    "command to find out which students are enrolled in both courses:\n",
    "\n"
   ]
  },
  {
   "cell_type": "code",
   "execution_count": 1,
   "metadata": {},
   "outputs": [],
   "source": [
    "ESS224 = {\"Maria\", \"Stuart\", \"Andy\", \"Drew\"}\n",
    "ESS262 = {\"James\", \"Mark\", \"Alex\", \"Maria\", \"Silvy\", \"Stuart\"}\n",
    "ESS224.intersection(ESS262)"
   ]
  },
  {
   "cell_type": "markdown",
   "metadata": {},
   "source": [
    "or, imagine that you have two e-mail lists, and you want to join both\n",
    "list and you ant to make sure that people do not receive the e-mail in duplicate\n",
    "\n"
   ]
  },
  {
   "cell_type": "code",
   "execution_count": 1,
   "metadata": {},
   "outputs": [],
   "source": [
    "ESS224 = {\"Maria\", \"Stuart\", \"Andy\", \"Drew\"}\n",
    "ESS262 = {\"James\", \"Mark\", \"Alex\", \"Maria\", \"Silvy\", \"Stuart\"}\n",
    "print(ESS224.union(ESS262))"
   ]
  },
  {
   "cell_type": "markdown",
   "metadata": {},
   "source": [
    "### Dictionaries\n",
    "\n"
   ]
  },
  {
   "cell_type": "markdown",
   "metadata": {},
   "source": [
    "\n",
    "  Dictionaries are a\n",
    " datatype that enables you to look up values based on a key rather\n",
    " than an index. Each dictionary entry consists of a key-value pair. The\n",
    " key can be a number, a string, or tuple, and the value can be pretty\n",
    " much anything (e.g., a value, a string, a list, another\n",
    " dictionary, etc.). Let's consider this simple example:\n",
    "\n"
   ]
  },
  {
   "cell_type": "code",
   "execution_count": 1,
   "metadata": {},
   "outputs": [],
   "source": [
    "in_class_quiz = {\"Domenica\" : 72,\n",
    "                 \"Brian\" : 77,\n",
    "                 \"George\" : 95,\n",
    "                 \"Liz\" : 81}"
   ]
  },
  {
   "cell_type": "markdown",
   "metadata": {},
   "source": [
    "Note that dictionaries use curly braces similar to sets, but\n",
    "the internal structure is different.\n",
    "\n",
    "We can query the dictionary to see how individual students performed\n",
    "in the quiz. However, rather than referring to the result by\n",
    "a numeric index, we use the key\n",
    "\n"
   ]
  },
  {
   "cell_type": "code",
   "execution_count": 1,
   "metadata": {},
   "outputs": [],
   "source": [
    "print(in_class_quiz[\"Brian\"])"
   ]
  },
  {
   "cell_type": "markdown",
   "metadata": {},
   "source": [
    "Note that the key needs to be unique otherwise, you will override the\n",
    "earlier definition.\n",
    "\n"
   ]
  },
  {
   "cell_type": "code",
   "execution_count": 1,
   "metadata": {},
   "outputs": [],
   "source": [
    "in_class_quiz = {\"Domenica\" : 72,\n",
    "                 \"Brian\" : 77,\n",
    "                 \"George\" : 95,\n",
    "                 \"Brian\" : 50,  # Brian appears twice, so this entry overwrites the earlier one\n",
    "                 \"Liz\" : 81}\n",
    "print(in_class_quiz[\"Brian\"])"
   ]
  },
  {
   "cell_type": "markdown",
   "metadata": {},
   "source": [
    "similar to lists, we can change/update individual values by referring to\n",
    "their key.\n",
    "\n"
   ]
  },
  {
   "cell_type": "code",
   "execution_count": 1,
   "metadata": {},
   "outputs": [],
   "source": [
    "in_class_quiz[\"Brian\"] = 70\n",
    "print(in_class_quiz[\"Brian\"])"
   ]
  },
  {
   "cell_type": "markdown",
   "metadata": {},
   "source": [
    "### Random bits and pieces\n",
    "\n"
   ]
  },
  {
   "cell_type": "markdown",
   "metadata": {},
   "source": [
    "All of these data types are ultimately ways of storing list-type\n",
    "elements. One of the most often used operations on a list is\n",
    "determining the number of list elements. The python function `len()`\n",
    "will do exactly this\n",
    "\n"
   ]
  },
  {
   "cell_type": "code",
   "execution_count": 1,
   "metadata": {},
   "outputs": [],
   "source": [
    "s = \"Test\"\n",
    "l = [1, 2, 3]\n",
    "s = {1 ,2}\n",
    "print(len(s))\n",
    "print(len(l))\n",
    "print(len(s))"
   ]
  },
  {
   "cell_type": "markdown",
   "metadata": {},
   "source": [
    "You may have stumbled upon this before, but it is possible to convert\n",
    "many of these datatypes into another data type:\n",
    "\n"
   ]
  },
  {
   "cell_type": "code",
   "execution_count": 1,
   "metadata": {},
   "outputs": [],
   "source": [
    "t = (1, 2 , 3, 3)\n",
    "l = list(t)\n",
    "s = set(l)\n",
    "print(t)\n",
    "print(l)\n",
    "print(s)"
   ]
  }
 ],
 "metadata": {
  "kernelspec": {
   "display_name": "Python 3",
   "language": "python",
   "name": "python3"
  },
  "language_info": {
   "codemirror_mode": {
    "name": "ipython",
    "version": 3
   },
   "file_extension": ".py",
   "mimetype": "text/x-python",
   "name": "python",
   "nbconvert_exporter": "python",
   "pygments_lexer": "ipython3",
   "version": "3.9.7"
  },
  "org": null
 },
 "nbformat": 4,
 "nbformat_minor": 1
}
