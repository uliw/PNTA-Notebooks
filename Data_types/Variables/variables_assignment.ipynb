{
 "cells": [
  {
   "cell_type": "markdown",
   "metadata": {},
   "source": [
    "## A# 3: Variables (39 pts)\n",
    "\n"
   ]
  },
  {
   "cell_type": "markdown",
   "metadata": {},
   "source": [
    "Note: For assignments like this that contain a lot of questions, it is\n",
    "best to copy this assignment file into your private folder, and then\n",
    "add the usual header (Name etc) data. Add your answers as new cells\n",
    "below each of the questions.\n",
    "\n"
   ]
  },
  {
   "cell_type": "markdown",
   "metadata": {},
   "source": [
    "### Learning Outcomes:\n",
    "\n"
   ]
  },
  {
   "cell_type": "markdown",
   "metadata": {},
   "source": [
    "-   Recap storing numbers\n",
    "-   play with the various ways to assign a value to a variable\n",
    "-   explore the difference between variable assignment and the equal sign in symbolic math\n",
    "-   gain a basic understanding of the python error message format\n",
    "-   understand how python treats operator precedence\n",
    "\n"
   ]
  },
  {
   "cell_type": "markdown",
   "metadata": {},
   "source": [
    "### Storing numbers (16 pts)\n",
    "\n"
   ]
  },
  {
   "cell_type": "markdown",
   "metadata": {},
   "source": [
    "How far can you count if your computer has registers of the following widths (assume unsigned integer format)\n",
    "\n",
    "-   1 byte\n",
    "-   2 byte\n",
    "-   4 byte\n",
    "-   8 byte\n",
    "\n",
    "Insert a new a text cell below this cell, and use it to record your results. For\n",
    "numbers greater than 1000, please use scientific notation with 4\n",
    "digits after the period, and the exponent should be a multiple of 3 (i.e., `1000 = 1E3`, `1000,000 = 1E6` . If\n",
    "you don't know how to convert a number to scientific notation, please\n",
    "ask on piazza. 4 pts per answer\n",
    "\n"
   ]
  },
  {
   "cell_type": "markdown",
   "metadata": {},
   "source": [
    "### Assigning a value to a variable (8 pts)\n",
    "\n"
   ]
  },
  {
   "cell_type": "markdown",
   "metadata": {},
   "source": [
    "Add a **text** cell and cut copy paste this text\n",
    "\n",
    "    # Assume that \n",
    "    a = 4\n",
    "    \n",
    "    # if you now write\n",
    "    a = a + 1\n",
    "\n",
    "Describe in your own words what you would get if you were to\n",
    "execute print(a) afterward.  Please consider this first without\n",
    "executing the code. Write down your expected result, and explain why you\n",
    "expected this. 4 pts\n",
    "\n",
    "Next, add a `python 3` cell to your notebook and execute the above code,\n",
    "followed by a new text cell where you write down the expected value\n",
    "versus the observed value. Can you explain your results?  And if you\n",
    "can't explain it, could you speculate? Please write down your\n",
    "thoughts. 4 pts\n",
    "\n"
   ]
  },
  {
   "cell_type": "markdown",
   "metadata": {},
   "source": [
    "### Error Messages (4 pts)\n",
    "\n"
   ]
  },
  {
   "cell_type": "markdown",
   "metadata": {},
   "source": [
    "Execute this code\n",
    "\n",
    "    a = 4\n",
    "    b = 5\n",
    "    c = 10\n",
    "    a = (a / b) * c\n",
    "    print(a)\n",
    "\n",
    "Copy this example (mark and left click the text and select the\n",
    "\"copy\" symbol from the menu bar; left click on your text cell and\n",
    "select the paste symbol from the menu bar to copy the code cell. In\n",
    "this new code cell, replace `print(a)` with `print(A)` and execute\n",
    "your code. Please do so before you continue to read.\n",
    "\n",
    "Add a text cell and describe the results of your experiment. Are\n",
    "variable names case specific or not? Mark your findings in **BOLD!** 2 pts\n",
    "\n",
    "This is likely also your first encounter with python-error\n",
    "messages. They do look a bit cryptic but are often quite\n",
    "useful. Let's take a closer look to understand what happened here:\n",
    "\n",
    "When you hit `shift+enter`, you send the commands you have typed into\n",
    "the code cell to the python interpreter. This is just another computer\n",
    "program that will read your commands and try to make sense of\n",
    "it. Before running your code, the interpreter will do some sanity\n",
    "checks, and in the above case, it finds that the variable \"A\" was\n",
    "never defined. It thus prints:\n",
    "\n",
    "1.  a red box\n",
    "2.  the type of error, in this case, \"NameError\" and some context:\n",
    "3.  The cell in which the error occurred\n",
    "4.  The line in which the error occurred\n",
    "5.  the last couple of lines before the error occurred\n",
    "6.  and if you are lucky, some useful information on why the error occurred\n",
    "\n",
    "In your assignment, add a text cell below the code cell with the\n",
    "error, with the following content (note, you create linebreaks by\n",
    "adding two spaces at the end of each line)\n",
    "\n",
    "    ErrorName  = \n",
    "    Cell Number = \n",
    "    Line Number where the error occurred = \n",
    "    Explanation of error type = \n",
    "\n",
    "and add the data you get from the actual error message after the equal\n",
    "signs. If you have difficulties seeing the various elements above,\n",
    "please talk to the TA or instructor. 4 pts\n",
    "\n"
   ]
  },
  {
   "cell_type": "markdown",
   "metadata": {},
   "source": [
    "### Operator Precedence (6 pts)\n",
    "\n"
   ]
  },
  {
   "cell_type": "markdown",
   "metadata": {},
   "source": [
    "You will probably remember from high school that it makes a difference\n",
    "whether you write `2*(3+1)` or `(2*3)+1` because expressions with an\n",
    "exponent take precedence over multiplications or divisions, and those\n",
    "take precedence over additions and subtractions.\n",
    "\n",
    "Add a python cell for each of the following tests:\n",
    "\n",
    "-   addition versus multiplication\n",
    "-   addition versus taking the power (see example below)\n",
    "-   multiplication versus taking the power\n",
    "\n",
    "and populate them with code that explores\n",
    "whether the python interpreter is aware of those rules or not. One\n",
    "cell for each rule, and explain your results and what you make of\n",
    "it. E.g., you can write \n",
    "\n",
    "    when I execute \n",
    "    \n",
    "    1 + 2 ** 3  # 2**3 = 2 to the power of 3\n",
    "    \n",
    "    I get the result of XXX. I should get YYY. Therefore I conclude that python is \n",
    "    clueless about the fact that multiplicationss trump additions.\n",
    "    \n",
    "    Or, I get ZZZ which is expected results, which shows thath python knows the rules.\n",
    "\n",
    "2 pts each = 6 pts\n",
    "\n"
   ]
  },
  {
   "cell_type": "markdown",
   "metadata": {},
   "source": [
    "### Submission instructions (5pts)\n",
    "\n"
   ]
  },
  {
   "cell_type": "markdown",
   "metadata": {},
   "source": [
    "Create a new (or copy and existing) notebook in your `submissions`\n",
    "folder before editing it. Otherwise, your edits may be overwritten the\n",
    "next time you log into syzygy. Please name your copy `assignment-name-firstname-lastname` \n",
    "\n",
    "-   Replace the `assignment-name` with the name of the assignment\n",
    "    (i.e., the filename of the respective Jupyter Notebook)\n",
    "-   `firstname-lastname` with your own name.\n",
    "\n",
    "Note: If the notebook contains images, you must also copy the image files!\n",
    "\n",
    "Your notebook/pdf must start with the following lines :\n",
    "\n",
    "**ESS245: Assignment Title**\n",
    "\n",
    "**Date:**\n",
    "\n",
    "**First Name:**\n",
    "\n",
    "**Last Name:**\n",
    "\n",
    "**Student: Id**\n",
    "\n",
    "Before submitting your assignment:\n",
    "\n",
    "-   Check the marking scheme and ensure you have covered all requirements.\n",
    "-   Re-read the learning outcomes and verify that you are comfortable\n",
    "    with each concept. If not, please speak up on the discussion board\n",
    "    and ask for further clarification. I can guarantee that if you feel\n",
    "    uncertain about a concept, at least half the class will be in the\n",
    "    same boat. So don't be shy!\n",
    "\n",
    "To submit your assignment, you need to download it as `ipynb` notebook\n",
    "format **and** `pdf` format. **To export your notebook as pdf\n",
    "use your browser's print function (`Ctrl-P`) and then select**\n",
    "`Save as pdf`.  In the past, this worked best with Chrome or Firefox.\n",
    "\n",
    " Please submit **both files** on Quercus. Note that the pdf\n",
    "export can fail if your file contains invalid markup/python code. So\n",
    "you need to check that the pdf export is complete and does not miss\n",
    "any sections. If you have export problems, don't hesitate to contact\n",
    "the course instructor directly.\n",
    "\n",
    "Notebooks typically have empty code cells in which you must enter\n",
    "python code. Please use the respective cell below each question, or\n",
    "create a python cell where necessary. Add text cells to enter your\n",
    "answers where appropriate. Your responses will only count if the code\n",
    "executes without error. It is thus recommended to run your solutions\n",
    "before submitting the assignment.\n",
    "\n",
    "**Note: Unless specifically requested, do not type your answers by**\n",
    "**hand. Instead, write code that produces the answer. Your pdf file**\n",
    "**should show the code and the results of the code execution.**\n",
    "\n"
   ]
  },
  {
   "cell_type": "markdown",
   "metadata": {},
   "source": [
    "### Marking scheme:\n",
    "\n"
   ]
  },
  {
   "cell_type": "markdown",
   "metadata": {},
   "source": [
    "1.  3 points if the filename follows the filename Template\n",
    "    (capitalization, spaces, and dashes, 1pt each)\n",
    "2.  2 points if your formatting is as requested (i.e., correct use of\n",
    "    markdown syntax)\n",
    "\n",
    "Note that for most 2 point answers, I will mark as follows: 100%  if\n",
    "experiments and explanations are correct. 50% if incorrect\n",
    "experiment or unreasonable explanation. 0 pts of nothing makes sense\n",
    "\n"
   ]
  }
 ],
 "metadata": {
  "kernelspec": {
   "display_name": "Python 3 (ipykernel)",
   "language": "python",
   "name": "python3"
  },
  "language_info": {
   "codemirror_mode": {
    "name": "ipython",
    "version": 3
   },
   "file_extension": ".py",
   "mimetype": "text/x-python",
   "name": "python",
   "nbconvert_exporter": "python",
   "pygments_lexer": "ipython3",
   "version": "3.11.5"
  },
  "org": null
 },
 "nbformat": 4,
 "nbformat_minor": 4
}
