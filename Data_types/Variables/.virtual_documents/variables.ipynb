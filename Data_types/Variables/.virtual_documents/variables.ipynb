





a = 4





print(a)





a=4
b=5
c=10
(a/b)*c





a = 12
b = 4
a = b
print(a)


a = 12
b = 4
b = a
print(b)











1 + 1 # Addition
8 / 4 # division
2 * 3 # multiplication
3 ** 2 # 3 to the power of 2
9 ** 0.5 # the square root of 9 (you remember that from school do you?)

















%load_ext pycodestyle_magic
a = [1, 2, 3]
print(f"length of a = {len(a)}")

len(12) 

len = 12
print(f"length of a = {len(a)}")



