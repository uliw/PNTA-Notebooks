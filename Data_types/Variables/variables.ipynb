{
 "cells": [
  {
   "cell_type": "markdown",
   "metadata": {},
   "source": [
    "## Variables\n",
    "\n"
   ]
  },
  {
   "cell_type": "markdown",
   "metadata": {},
   "source": [
    "\n",
    "A computer is a device that can store and manipulate data\n",
    "(information). Before we learn the basics of data\n",
    "manipulation, we need to understand how data is stored.\n",
    "\n",
    "On its most basic level, a computer resembles a library (you have been\n",
    "to the library, right?). There are vast amounts of storage space, a\n",
    "catalog where we can look up where a specific book is stored, a librarian who will move books around and do other maintenance tasks,\n",
    "and a user who manipulates the information in those books, and who\n",
    "might writes a new book that eventually goes back into the library.\n",
    "\n",
    "Books can be found using a rather specific way of writing their\n",
    "address in the library storage which, e.g., could read \n",
    "`QA76.17.C4672012`.\n",
    "\n",
    "Similarly, the information in a computer can be retrieved by using equally\n",
    "cryptic schemes, e.g., `0x5560b128f480`. The `0x` at the beginning\n",
    "tells us that this is a number to the base of 16, which after\n",
    "conversion into our 10-based system indicates that the\n",
    "respective data is stored in the 93873777472640<sup>th</sup> memory\n",
    "cell. It is cumbersome to keep these alphanumeric sequences\n",
    "in mind. This is where variables come into play. Rather then saying\n",
    "store the number 4 at location `0x5560b128f480` we can simply say\n",
    "\"assign the value of 4 to the variable a\". Let's try this and execute\n",
    "the following statement doing a left-click in the following cell, and\n",
    "hit `shift+enter`\n",
    "\n"
   ]
  },
  {
   "cell_type": "code",
   "execution_count": 1,
   "metadata": {},
   "outputs": [],
   "source": [
    "a = 4"
   ]
  },
  {
   "cell_type": "markdown",
   "metadata": {},
   "source": [
    "This will produce no output, but you will have assigned the value of 4\n",
    "to the variable `a`. Let's verify that this assignment did succeed. We\n",
    "can do so by asking the python interpreter to print the value\n",
    "of a. Execute this cell, and you should see the result printed below\n",
    "this cell\n",
    "\n"
   ]
  },
  {
   "cell_type": "code",
   "execution_count": 1,
   "metadata": {},
   "outputs": [],
   "source": [
    "print(a)"
   ]
  },
  {
   "cell_type": "markdown",
   "metadata": {},
   "source": [
    "Go ahead and try this\n",
    "\n"
   ]
  },
  {
   "cell_type": "code",
   "execution_count": 1,
   "metadata": {},
   "outputs": [],
   "source": [
    "a=4\n",
    "b=5\n",
    "c=10\n",
    "(a/b)*c"
   ]
  },
  {
   "cell_type": "markdown",
   "metadata": {},
   "source": [
    "So far, this seems straightforward, and it likely reminds you of\n",
    "symbolic math you've learned in your school years. While there are\n",
    "computing environments that can do symbolic math \n",
    ", the above example is an entirely different beast. In symbolic\n",
    "math, the expression `a = b` is equal to the expression `b = a`. Not\n",
    "so in coding, try the following code cells\n",
    "\n"
   ]
  },
  {
   "cell_type": "code",
   "execution_count": 1,
   "metadata": {},
   "outputs": [],
   "source": [
    "a = 12\n",
    "b = 4\n",
    "a = b\n",
    "print(a)"
   ]
  },
  {
   "cell_type": "code",
   "execution_count": 1,
   "metadata": {},
   "outputs": [],
   "source": [
    "a = 12\n",
    "b = 4\n",
    "b = a\n",
    "print(b)"
   ]
  },
  {
   "cell_type": "markdown",
   "metadata": {},
   "source": [
    "Remember that writing `a = 4` means take the value of 4, store it into memory, and give this\n",
    "memory location the name \"a\". A better way would be `a<- 4` \n",
    "\n",
    "Likewise the expression `a + a` means retrieve the value stored at\n",
    "location \"a\" and add the value stored at location\n",
    "\"a\". So the \"a\" is merely a reference to a memory location.  Note that\n",
    "there is nothing specific about calling this \"a\", You could equally\n",
    "write `myfirstvariablename = 4` but it is a lot of typing.\n",
    "\n"
   ]
  },
  {
   "cell_type": "markdown",
   "metadata": {},
   "source": [
    "### Operators\n",
    "\n"
   ]
  },
  {
   "cell_type": "markdown",
   "metadata": {},
   "source": [
    "\n",
    "The `+` sign is called an operator. There are quite a few operators, but\n",
    "we will likely get away with the basics ones\n",
    "\n"
   ]
  },
  {
   "cell_type": "code",
   "execution_count": 1,
   "metadata": {},
   "outputs": [],
   "source": [
    "1 + 1 # Addition\n",
    "8 / 4 # division\n",
    "2 * 3 # multiplication\n",
    "3 ** 2 # 3 to the power of 2\n",
    "9 ** 0.5 # the square root of 9 (you remember that from school do you?)"
   ]
  },
  {
   "cell_type": "markdown",
   "metadata": {},
   "source": [
    "So by now, you have learned three very fundamental skills:\n",
    "\n",
    "1.  Assigning a label and value to a memory location\n",
    "2.  Retrieving value from a memory location using the label as\n",
    "    reference\n",
    "3.  Doing some simple operations on variables and numbers\n",
    "4.  And if you paid attention, how to add a comment into your python\n",
    "    code\n",
    "\n"
   ]
  },
  {
   "cell_type": "markdown",
   "metadata": {},
   "source": [
    "### Variable names\n",
    "\n"
   ]
  },
  {
   "cell_type": "markdown",
   "metadata": {},
   "source": [
    " In principle, python\n",
    "variables can have any name you like. However, all variables:\n",
    "\n",
    "1.  Must start with a letter\n",
    "2.  can only contain letters, numbers, and underscores\n",
    "    (i.e., no blank spaces or special symbols)\n",
    "3.  You cannot use the minus sign (or dash) to make a compound\n",
    "    name. Compound names should always be connected by an\n",
    "    underscore. i.e., `student_id` rather than `student-id` which would\n",
    "    be interpreted as `student` minus `id`\n",
    "4.  Python programs also use CamelCase  capitalization, i.e., `StudentId`\n",
    "\n"
   ]
  },
  {
   "cell_type": "markdown",
   "metadata": {},
   "source": [
    "#### Beware of built in names\n",
    "\n"
   ]
  },
  {
   "cell_type": "markdown",
   "metadata": {},
   "source": [
    "`len()` is python function. Alas, you can write `len = 4` and you will see no error message., but `len` will no longer do what it is supposed to do\n",
    "\n"
   ]
  },
  {
   "cell_type": "code",
   "execution_count": 1,
   "metadata": {},
   "outputs": [],
   "source": [
    "a = [1, 2, 3]\n",
    "print(f\"length of a = {len(a)}\")\n",
    "\n",
    "len = 12\n",
    "print(f\"length of a = {len(a)}\")"
   ]
  },
  {
   "cell_type": "markdown",
   "metadata": {},
   "source": [
    "While bad style, this is no problem, as long as you do not use the function `len()` This  will get better with experience, but until then, I recommend prefixing variables with `my` e.g., `my_len`. There are also tools which will detect naming conflicts (so called linters) but they are not installed on syzygy.\n",
    "\n",
    "In addition, I recommend adhering to the following guidelines:\n",
    "\n",
    "1.  Avoid variable names that are too general or too wordy. E.g.,\n",
    "    rather than `my_first_variable` call it `length` or any other\n",
    "    descriptive term.\n",
    "2.  Avoid letters like `I` or `O` where it is hard to know whether you\n",
    "    mean lowercase `i`, upper case `I`, or the number `1`, similarly,\n",
    "    `O` is easily confused with zero.\n",
    "3.  Never use special characters or foreign alphabets (more on this later)\n",
    "4.  I prefer variable names in lower case, it is less effort to type these.\n",
    "5.  And it is always a good idea to add some comments which explain\n",
    "    what your variable means (more on this later).\n",
    "6.  If in doubt, google \"Python Naming Conventions\".\n",
    "\n"
   ]
  }
 ],
 "metadata": {
  "kernelspec": {
   "display_name": "Python 3 (ipykernel)",
   "language": "python",
   "name": "python3"
  },
  "language_info": {
   "codemirror_mode": {
    "name": "ipython",
    "version": 3
   },
   "file_extension": ".py",
   "mimetype": "text/x-python",
   "name": "python",
   "nbconvert_exporter": "python",
   "pygments_lexer": "ipython3",
   "version": "3.11.5"
  },
  "org": null
 },
 "nbformat": 4,
 "nbformat_minor": 4
}
