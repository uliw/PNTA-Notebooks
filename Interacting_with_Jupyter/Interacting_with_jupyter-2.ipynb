{
 "cells": [
  {
   "cell_type": "markdown",
   "metadata": {},
   "source": [
    "## ESS245 Computational Geology: Interacting with Jupyter 2\n",
    "\n"
   ]
  },
  {
   "cell_type": "markdown",
   "metadata": {},
   "source": [
    "Since Jupyter notebooks will be the primary tool, we use in this\n",
    "course, and the dominant format for your assignment submissions, we\n",
    "will explore their use in greater detail in the following.\n",
    "\n",
    "A Jupyter notebook has three principal elements see Fig.[nbexample](nbexample)\n",
    "\n",
    "1.  Text areas (often referred to as cells). You can edit these text-cells.\n",
    "2.  Code blocks (or code cells). These contain computer code which can\n",
    "    be executed. You can edit and execute these cells.\n",
    "3.  Result Blocks, which contain the output produced by a code\n",
    "    block. Results blocks cannot be edited. However, you can select and\n",
    "    copy them.\n",
    "\n",
    "![img](./Tianshi/TL-fig-003.png \"An example of a Jupyter notebook (.ipynb file) including text areas, code blocks and result blocks. After double left click on the cell, the cell will be ready for editing (and the bar will change to green)\")\n",
    "\n",
    "If you are still reading this as pdf, please switch to the notebook\n",
    "version of this very text, by following this link\n",
    "[https://utoronto.syzygy.ca/jupyter/hub/user-redirect/git-pull?repo=https://github.com/uliw/PNTA-Notebooks&urlpath=tree/PNTA-Notebooks//Interacting_with_Jupyter/Interacting_with_jupyter-2.ipynb&branch=main](https://utoronto.syzygy.ca/jupyter/hub/user-redirect/git-pull?repo=https://github.com/uliw/PNTA-Notebooks&urlpath=tree/PNTA-Notebooks//Interacting_with_Jupyter/Interacting_with_jupyter-2.ipynb&branch=main)\n",
    "\n",
    "Now, you can follow the instructions below:\n",
    "\n",
    "If you do a single left click with your mouse on this text, you will\n",
    "see that this cell is now drawn with a blue border. This indicates that the cell has been selected.\n",
    "(see Fig.[nbselected](nbselected)). \n",
    "\n",
    "![img](./figures/Screenshot_20200527_133749.png \"A single click will select a notebook cell, which is indicated by the blue border to left.\")\n",
    "\n",
    "If you double left click on this cell, you will see that the cell\n",
    "background changes to gray, and the text will be rendered in a\n",
    "typewriter font. This indicates that you are now in editing mode. You\n",
    "can leave the editing mode any time by hitting `Shift-Enter`.\n",
    "\n",
    "![img](./figures/Screenshot_20200527_133820.png \"A double click on any cell, will active the editing mode. You can leave the editing mode any time by hitting `shift-Enter`.\")\n",
    "\n",
    "Also, most of the usual keyboard shortcuts will work:\n",
    "\n",
    "-   Ctrl-z = undo\n",
    "-   Ctrl-c = copy\n",
    "-   Ctrl-x = cut\n",
    "-   Ctrl-v = insert\n",
    "\n"
   ]
  },
  {
   "cell_type": "markdown",
   "metadata": {},
   "source": [
    "### Potential Problems\n",
    "\n"
   ]
  },
  {
   "cell_type": "markdown",
   "metadata": {},
   "source": [
    "Sometimes, it can happen that you loose the connection to the Jupyter\n",
    "server. This is indicated by the red `Not Connected` icon in the\n",
    "status bar (see Fig.[noconn](noconn)).  This is usually caused by a firewall\n",
    "rule. Please speak to a TA or the instructor to resolve this issue.\n",
    "\n",
    "![img](./figures/Screenshot_20200527_134756.png \"The red `not connected` icon indicates that you lost connection to your Jupyter Server. This is usually caused by a firewall rule. Please speak to a TA or the instructor to resolve this issue.\")\n",
    "\n"
   ]
  },
  {
   "cell_type": "markdown",
   "metadata": {},
   "source": [
    "### Formatting Text\n",
    "\n"
   ]
  },
  {
   "cell_type": "markdown",
   "metadata": {},
   "source": [
    "Before exploring how-to-use Jupyter notebooks to run python code,\n",
    "let's explore how to format the text in the text cells. Create  a\n",
    "new notebook in your `My_stuff` folder. You can do this via the drop\n",
    "down list called `New` in the upper right corner, and then select\n",
    "`Python 3`, and rename the new file. These steps should now pose no\n",
    "problem to you. If they do, please speak up!\n",
    "\n",
    "Once you new notebook is open, it will look like\n",
    "Fig. [nbfirst](nbfirst). Notice the text `In [ ]:` on the left side. This\n",
    "tells you that this a code cell which expects python code. So before\n",
    "we start playing with text, we need to change the cell type (see Fig. [celltype](celltype))\n",
    "\n",
    "![img](./figures/Screenshot_20200527_145057.png \"The default view when opening a new notebook. Note the text `In [ ]:` on the left side. This tells you that this is a code cell which expects python code.\")\n",
    "\n",
    "Use the dropdown menu to change the cell type to `markdown`.\n",
    "\n",
    "![img](./figures/Screenshot_20200527_150324.png \"Use the dropdown menu to change the cell type to `markdown`\")\n",
    "\n",
    "Once you have changed the cell to markdown, you will note that the `In\n",
    "[ ]:` text on the left is now gone.\n",
    "\n",
    "Next copy the following lines into your new note book cell:\n",
    "\n"
   ]
  },
  {
   "cell_type": "markdown",
   "metadata": {},
   "source": [
    "### This is a second level heading\n",
    "\n"
   ]
  },
  {
   "cell_type": "markdown",
   "metadata": {},
   "source": [
    "This is **bold** text\n",
    "\n",
    "1.  This is a simple list\n",
    "    -   First list entry\n",
    "    -   Second list entry\n",
    "2.  This is the 3rd entry in the enumerated list and has no other\n",
    "    purpose than just being the 3rd entry.\n",
    "\n",
    "You will notice that the formatting has been lost. Go back to these\n",
    "instructions, activate editing mode, and explore how to create the\n",
    "formatting you see (see Fig.[mdsyntax](mdsyntax)) . Now go to your new\n",
    "notebook, and apply the `mark down` syntax in your own notebook.\n",
    ". Remember that you can leave the\n",
    "edit mode any time by hitting `Shift+Enter`.\n",
    "\n",
    "![img](./figures/Screenshot_20200527_153811.png \"Here you can see how to format your text with `mark down` syntax\")\n",
    "\n",
    "You may have noted that the list nesting is achieved by merely\n",
    "indenting the text after \"This is a simple list\". There are many more\n",
    "formatting options, but for this course, we likely won't need them,\n",
    "but feel free to have a look at [this link](https://guides.github.com/features/mastering-markdown/).\n",
    "\n",
    "**Last but not least** save your edits by clicking on the floppy disk\n",
    "icon in the upper left corner. This will create a checkpoint, so that\n",
    "you can return to this version at any time!\n",
    "\n"
   ]
  },
  {
   "cell_type": "markdown",
   "metadata": {},
   "source": [
    "### Adding Code cells\n",
    "\n"
   ]
  },
  {
   "cell_type": "markdown",
   "metadata": {},
   "source": [
    "Now let's try adding a code cell below the text cell and enter a\n",
    "trivial statement like `1 + 1` and hit `Shift+Enter` and you should\n",
    "see the result being displayed below the code cell (hopefully it is\n",
    "2). Go ahead and edit your code cell (e.g., 1+3) and hit `Shift+Enter`\n",
    "again. The result should change accordingly (see Fig.[codesnap](codesnap))\n",
    "\n",
    "![img](./figures/Screenshot_20200527_161029.png \"Example of a trivial python statement\")\n",
    "\n",
    "**Note that your edits are not auto-saved! Yo need to explicitly use the\n",
    "floppy disk icon (leftmost, directly under `File`) to save your work!**\n",
    "\n"
   ]
  },
  {
   "cell_type": "markdown",
   "metadata": {},
   "source": [
    "### Downloading your notebook\n",
    "\n"
   ]
  },
  {
   "cell_type": "markdown",
   "metadata": {},
   "source": [
    "All of your assignments will have to be submitted on Quercus. In order\n",
    "to mark your assignments, you need to submit a pdf copy, as well as\n",
    "the actual notebook file. This is easily done via the `File` dialogue\n",
    "(see Fig. [fdialog](fdialog))\n",
    "\n",
    "![img](./figures/Screenshot_20200527_161555.png \"You can download the notebook in a variety of formats.\")\n",
    "\n"
   ]
  },
  {
   "cell_type": "markdown",
   "metadata": {},
   "source": [
    "### Recap\n",
    "\n"
   ]
  },
  {
   "cell_type": "markdown",
   "metadata": {},
   "source": [
    "In this module, you learned how-to:\n",
    "\n",
    "1.  Create a notebook\n",
    "2.  Save a notebook\n",
    "3.  Download a notebook\n",
    "4.  Create text cells\n",
    "5.  Edit and format text cells\n",
    "6.  Create code cells\n",
    "7.  Execute code in a code cell\n",
    "8.  Add a new code cell\n",
    "\n"
   ]
  }
 ],
 "metadata": {
  "kernelspec": {
   "display_name": "Python 3",
   "language": "python",
   "name": "python3"
  },
  "language_info": {
   "codemirror_mode": {
    "name": "ipython",
    "version": 3
   },
   "file_extension": ".py",
   "mimetype": "text/x-python",
   "name": "python",
   "nbconvert_exporter": "python",
   "pygments_lexer": "ipython3",
   "version": "3.9.7"
  },
  "org": null
 },
 "nbformat": 4,
 "nbformat_minor": 1
}
