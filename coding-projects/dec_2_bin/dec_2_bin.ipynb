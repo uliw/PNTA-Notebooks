{
 "cells": [
  {
   "cell_type": "markdown",
   "metadata": {},
   "source": [
    "## Decimal to Binary Conversion\n",
    "\n"
   ]
  },
  {
   "cell_type": "markdown",
   "metadata": {},
   "source": [
    "### Learning outcomes\n",
    "\n"
   ]
  },
  {
   "cell_type": "markdown",
   "metadata": {},
   "source": [
    "-   Practice code design, i.,e. how loops, if statements and counters come together to achieve a more complex functionality\n",
    "-   Improve your confidence using loops and functions\n",
    "-   Practice debugging\n",
    "-   Practice the use of type hints and doc-strings\n",
    "\n"
   ]
  },
  {
   "cell_type": "markdown",
   "metadata": {},
   "source": [
    "### Instructions\n",
    "\n"
   ]
  },
  {
   "cell_type": "markdown",
   "metadata": {},
   "source": [
    "Your code should ask for user input until the user types the character\n",
    "\"s\". See this example session:\n",
    "\n",
    "    Please enter a positive integer number or 's' to end program\n",
    "    \n",
    "    123\n",
    "    \n",
    "    Converting 123 into binary notation yields 1111011\n",
    "    \n",
    "    s\n",
    "    \n",
    "    Good bye!\n",
    "\n",
    "Once you have the user input, test whether the input is positive and of type\n",
    "integer. For this, you can use the string method isdigit, i.e., define `s` as\n",
    "`s = \"123\"` and then call `s.isdigit()`.  Test this right here with a\n",
    "variety of values (include negative numbers and float numbers).\n",
    "\n"
   ]
  },
  {
   "cell_type": "code",
   "execution_count": 1,
   "metadata": {},
   "outputs": [],
   "source": [
    "s :str = \"123\""
   ]
  },
  {
   "cell_type": "markdown",
   "metadata": {},
   "source": [
    "Next, you need to convert the string to an integer number. This should be done without using the built-in function `int()`. Instead, create your own function that converts each string element into the corresponding integer (again, without using `int()`).\n",
    "\n",
    "If the input is of type integer and positive.  For any other input,\n",
    "print an error message and request new input.  Next, call your\n",
    "function (e.g., `dec_2_bin()`) that converts from integer to\n",
    "binary. In other words, you will need the following ingredients:\n",
    "\n",
    "-   A while loop that handles the user input\n",
    "-   A function which converts from integer to binary and return the\n",
    "    binary value to the calling code as string. Your function cannot use the\n",
    "    builtin python function `bin()`.\n",
    "\n",
    "Again, you have used all required techniques previously. The challenge with\n",
    "this assignment is to derive an algorithm (sequence of python commands, e.g., loops, counters, if-statements etc.)  that converts a decimal\n",
    "number into its binary form. Remember to test each of these\n",
    "components individually before assembling the whole program!\n",
    "\n"
   ]
  },
  {
   "cell_type": "markdown",
   "metadata": {},
   "source": [
    "### Some pointers\n",
    "\n"
   ]
  },
  {
   "cell_type": "markdown",
   "metadata": {},
   "source": [
    "This program can not use the built-in integer to binary\n",
    "conversion (`bin()`). Rather I want you to be creative with loops and string\n",
    "manipulation. You may recall that binary numbers are calculated to the\n",
    "base of 2.\n",
    "\n",
    "| Base|2|2|2|2|2|\n",
    "|---|---|---|---|---|---|\n",
    "| Exponent|4|3|2|1|0|\n",
    "|---|---|---|---|---|---|\n",
    "| Expression|2<sup>4</sup>|2<sup>3</sup>|2<sup>2</sup>|2<sup>1</sup>|2<sup>0</sup>|\n",
    "|---|---|---|---|---|---|\n",
    "| Result|16|8|4|2|1|\n",
    "|---|---|---|---|---|---|\n",
    "| Binary Number|0|1|0|0|1|\n",
    "\n",
    "so the decimal number 9, is equal to the sum\n",
    "\n",
    "    0 * 16 = 0\n",
    "    1 * 8  = 8\n",
    "    0 * 4  = 0\n",
    "    0 * 2  = 0\n",
    "    1 * 1  = 1\n",
    "    ----------\n",
    "    Total  = 9 or 01001 in binary form\n",
    "\n",
    "So if you want to go the other way round, you need to first design a\n",
    "loop that finds the biggest exponent n to the base of 2 (i.e. 2<sup>n</sup>) that you can\n",
    "fit in the given number. In the above example, your biggest `n` would\n",
    "be 3. \n",
    "\n",
    "Once you know your biggest exponent (2<sup>3</sup> in the above example), you need to find the next smaller exponent\n",
    "(in the above example 2<sup>1</sup>). You continue this until your exponent `n = 0`.  It is possible to do this with a recursive function, but here you should use a loop instead.\n",
    "\n",
    "To achieve this, you may need to use a loop in combination with\n",
    "a break/continue statement. Take a moment to explore what the code below does:\n",
    "\n"
   ]
  },
  {
   "cell_type": "code",
   "execution_count": 1,
   "metadata": {},
   "outputs": [],
   "source": [
    "n: int = 4\n",
    "a: bool = True\n",
    "i: int = 0\n",
    "\n",
    "while a:\n",
    "    i = i + 1\n",
    "    if i > n:\n",
    "        print(f\"i = {i} n = {n}, calling break now\")\n",
    "        break\n",
    "    else:\n",
    "        print(f\"continuing with = {i} n = {n}\")\n",
    "        continue\n",
    "\n",
    "print(f\"The loop ended with i = {i}, and n = {n}\")"
   ]
  },
  {
   "cell_type": "markdown",
   "metadata": {},
   "source": [
    "Other solutions may be possible too.\n",
    "\n"
   ]
  },
  {
   "cell_type": "markdown",
   "metadata": {},
   "source": [
    "### Notes\n",
    "\n"
   ]
  },
  {
   "cell_type": "markdown",
   "metadata": {},
   "source": [
    "-   Start by testing the individual components of your program first\n",
    "    (i.e. `dec_2_bin`, the while loop which asks for user input etc.).\n",
    "    -   If things don't go as expected, use print statements to trace\n",
    "        what goes wrong.\n",
    "    -   For your final submission, use the submission template\n",
    "        below. Re-work each subsection as necessary.\n",
    "    -   The idea is to practice loops, if's, sums, counters, and strings.\n",
    "    -   Last but not least, post your questions on the discussion\n",
    "        board. I will check there at least once a day\n",
    "    -   Test boundary cases like:\n",
    "        -   0\n",
    "        -   1\n",
    "        -   2\n",
    "        -   8\n",
    "        -   9\n",
    "        -   10\n",
    "        -   0099\n",
    "        -   100\n",
    "    -   Do not forget to use type hints and doc-strings\n",
    "\n"
   ]
  },
  {
   "cell_type": "markdown",
   "metadata": {},
   "source": [
    "### Code template\n",
    "\n"
   ]
  },
  {
   "cell_type": "code",
   "execution_count": 1,
   "metadata": {},
   "outputs": [],
   "source": [
    "\"\"\"\n",
    "Program Name: bin_2_dec\n",
    "\n",
    "Description: Add a few words what this program does\n",
    "\n",
    "Author:\n",
    "\"\"\"\n",
    "\n",
    "# *--- Add your function definitions below this line      ------*\n",
    "\n",
    "# *--- Define all variables you are using in the main part of the code  ------*\n",
    "#      do not include variables used in functions\n",
    "#      use comments to explain what each variable is for, e.g.,\n",
    "#      i :int = 0 # counter for while loop\n",
    "\n",
    "# *--- Program code starts below    ----------------*"
   ]
  },
  {
   "cell_type": "markdown",
   "metadata": {},
   "source": [
    "### Marking Scheme\n",
    "\n"
   ]
  },
  {
   "cell_type": "markdown",
   "metadata": {},
   "source": [
    "Total points possible: 22 pts\n",
    "\n",
    "-   Correct notebook name: 1pt\n",
    "-   Required notebook header 1pt\n",
    "-   2 pts if your while loop gets user input\n",
    "-   2 pts if your while loop terminates with 's' as input\n",
    "-   2 pts if you correctly detect non-positive integers\n",
    "-   2 pts if your `bin_2_dec()` returns the correct result\n",
    "-   2 pts for correct docstring use\n",
    "-   2 pts for correct type hinting\n",
    "-   10 pts if the code works as requested including, the correct output formatting.\n",
    "\n",
    "Create a new (or copy and existing) notebook in your `submissions`\n",
    "folder before editing it. Otherwise, your edits may be overwritten the\n",
    "next time you log into syzygy. Please name your copy\n",
    "\"Assignment-Name-FirstName-LastName\": \n",
    "\n",
    "-   Replace the `Assignment-Name` with the name of the assignment\n",
    "    (i.e., the filename of the respective Jupyter Notebook)\n",
    "-   `FirstName-Last-Name` with your own name.\n",
    "\n",
    "Note: If the notebook contains images, you need to copy the image files as well!\n",
    "\n",
    "Your notebook/pdf must start with the following lines \n",
    "\n",
    "**Assignment Title**\n",
    "\n",
    "**Date:**\n",
    "\n",
    "**First Name:**\n",
    "\n",
    "**Last Name:**\n",
    "\n",
    "**Student: Id**\n",
    "\n",
    "Before submitting your assignment, re-read the learning outcomes and\n",
    "verify that you are comfortable which each concept. If not, please\n",
    "speak up on the discussion board and ask for further clarification. I\n",
    "can guarantee that if you feel uncertain about a concept, at least\n",
    "half the class will be in the same boat. So don't be shy!\n",
    "\n",
    "To submit your assignment, you need to download it `ipyn` notebook\n",
    "format **and** `pdf` format. The best way to export your notebook as\n",
    "pdf, is to select `print`, and then `print to pdf`.  Please submit\n",
    "both files on Quercus. Note that the pdf export can fail if your file\n",
    "contains invalid markup/python code. So you need to check that the pdf\n",
    "export is complete and does not miss any sections. If you have export\n",
    "problems, please contact the course instructor directly.\n",
    "\n",
    "Notebooks typically have empty code cells in which you have to enter\n",
    "python code. Please use the respective cell below each question, or\n",
    "create a python cell where necessary. Add text cells to enter your\n",
    "answers where appropriate. Your answers will only count if the code\n",
    "executes without error. It is thus recommended to run your solutions\n",
    "before submitting the assignment.\n",
    "\n",
    "**Note: Unless specifically requested, do not type your answers by**\n",
    "**hand. Instead, write code that produces the answer. Your pdf file**\n",
    "**should show the code as well as the results of the code execution.**\n",
    "\n"
   ]
  }
 ],
 "metadata": {
  "kernelspec": {
   "display_name": "Python 3",
   "language": "python",
   "name": "python3"
  },
  "language_info": {
   "codemirror_mode": {
    "name": "ipython",
    "version": 3
   },
   "file_extension": ".py",
   "mimetype": "text/x-python",
   "name": "python",
   "nbconvert_exporter": "python",
   "pygments_lexer": "ipython3",
   "version": "3.8.5"
  },
  "org": null
 },
 "nbformat": 4,
 "nbformat_minor": 1
}
