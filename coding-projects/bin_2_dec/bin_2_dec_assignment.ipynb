{
 "cells": [
  {
   "cell_type": "markdown",
   "metadata": {},
   "source": [
    "## Assignment\n",
    "\n"
   ]
  },
  {
   "cell_type": "markdown",
   "metadata": {},
   "source": [
    "For this assignment, write a python program that will: \n",
    "\n",
    "1.  Prompt the user to enter a positive binary number\n",
    "2.  Convert this number into its decimal form\n",
    "3.  Print the result\n",
    "4.  Your program will detect if the user enters data that does not\n",
    "    constitute a positive binary number\n",
    "\n",
    "Your code should not use the built-in python conversion function\n",
    "`bin()` (or `int()`). Instead, use loops, pointers, and if statements to write your\n",
    "conversion function `my_bin2dec()`.\n",
    "\n"
   ]
  },
  {
   "cell_type": "markdown",
   "metadata": {},
   "source": [
    "### Learning outcomes\n",
    "\n"
   ]
  },
  {
   "cell_type": "markdown",
   "metadata": {},
   "source": [
    "-   practice problem analysis, i.e., break down a problem into smaller\n",
    "    problems, identify which parts of the problem you already know\n",
    "    solutions for, and which you do not.\n",
    "-   practice the application of loops, counters, if-statements\n",
    "-   practice the use and creation of functions\n",
    "-   learn how to capture user input\n",
    "-   learn how to manage complexity\n",
    "-   practice testing code fragments\n",
    "\n"
   ]
  },
  {
   "cell_type": "markdown",
   "metadata": {},
   "source": [
    "### Instructions\n",
    "\n"
   ]
  },
  {
   "cell_type": "markdown",
   "metadata": {},
   "source": [
    "Interaction with your program should look like this:\n",
    "\n",
    "    Please enter a positive binary number, or stop this program with 's'\n",
    "    \n",
    "    0010\n",
    "    \n",
    "    Converting '0010' into decimal notation yields 2\n",
    "    \n",
    "    Please enter a positive binary number, or stop this program with 's'\n",
    "    \n",
    "    123\n",
    "    \n",
    "    '123' is not a binary number\n",
    "    \n",
    "    Please enter a positive binary number, or stop this program with 's'\n",
    "    \n",
    "    s\n",
    "    \n",
    "    Good bye\n",
    "\n",
    "All the techniques required to solve this assignment have been\n",
    "introduced previously. The challenge with this assignment is that you\n",
    "have to combine several skills, which increases complexity and the\n",
    "likelihood of mistakes. So the key to this exercise is good planning\n",
    "and taking it step by step. Use the table of contents or the index in\n",
    "the textbook to locate previously worked on topics.\n",
    "\n",
    "I recommend that you take a moment and write down which specific tasks\n",
    "you already know and which you have to find out about. Such a list could look like\n",
    "\n",
    "    I know:\n",
    "         - How to print a string\n",
    "         - How to define a function\n",
    "         - How to check if a string contains binary number -> see previous assignment\n",
    "    \n",
    "    I don't know:\n",
    "         - How to ask for user input -> see below\n",
    "         - How to convert a binary number into a decimal number -> read up in textbook\n",
    "\n",
    "So this is the part where you create a plan. Review the chapter on\n",
    "problem-solving strategies, and add to the above list.\n",
    "\n"
   ]
  },
  {
   "cell_type": "markdown",
   "metadata": {},
   "source": [
    "### Recap of essential techniques\n",
    "\n"
   ]
  },
  {
   "cell_type": "markdown",
   "metadata": {},
   "source": [
    "For this coding project, we will use doc-strings and type-hinting. We used\n",
    "both before, but let's consider their use before we start coding.\n",
    "\n"
   ]
  },
  {
   "cell_type": "markdown",
   "metadata": {},
   "source": [
    "#### Python Doc Strings\n",
    "\n"
   ]
  },
  {
   "cell_type": "markdown",
   "metadata": {},
   "source": [
    " You already encountered the hashtag sign\n",
    ", which signifies a comment in the\n",
    "code (i.e., everything after the hashtag is ignored). Python provides\n",
    "a second mechanism to add comments into the code, the so-called\n",
    "\"doc-strings\". Unlike regular comments, doc-strings will be used by\n",
    "the `help()` command , and they can span multiple lines. From now on,\n",
    "each of your programs (and functions!) should start with a\n",
    "doc-string, which contains a short text about what the program does,\n",
    "and how to use it, and who authored it. You can use the following template:\n",
    "\n"
   ]
  },
  {
   "cell_type": "code",
   "execution_count": 1,
   "metadata": {},
   "outputs": [],
   "source": [
    "\"\"\"\n",
    "Program Name: bin_2_dec\n",
    "\n",
    "Description: Add a few words about what this program does\n",
    "\n",
    "Author:\n",
    "\"\"\""
   ]
  },
  {
   "cell_type": "markdown",
   "metadata": {},
   "source": [
    "#### Type hinting\n",
    "\n"
   ]
  },
  {
   "cell_type": "markdown",
   "metadata": {},
   "source": [
    " Python is a dynamically typed language. That is,\n",
    "the type of variable (int, float, string) is determined at the time\n",
    "you assign it to a value. This makes for fast coding, but when reading\n",
    "code written by other people, it is often difficult to understand\n",
    "what the code is doing. Python provides so-called type hints to help\n",
    "with this situation. Typically, this is overkill for a short script,\n",
    "but the minute you start working on larger projects or in a team, it\n",
    "greatly helps clarity.\n",
    "\n"
   ]
  },
  {
   "cell_type": "code",
   "execution_count": 1,
   "metadata": {},
   "outputs": [],
   "source": [
    "# this valid python code\n",
    "a = 12\n",
    "l = [1, 4, 6]\n",
    "t = (4, 9, 1)\n",
    "s = \"\"\n",
    "# But this is better\n",
    "a :int   = 12\n",
    "l :list  = [1, 4, 6]\n",
    "t :tuple = (4, 9, 1)\n",
    "s :str   = \"\""
   ]
  },
  {
   "cell_type": "markdown",
   "metadata": {},
   "source": [
    "Note that python ignores the type hints, so this will not prevent you\n",
    "from doing something like this:\n",
    "\n"
   ]
  },
  {
   "cell_type": "code",
   "execution_count": 1,
   "metadata": {},
   "outputs": [],
   "source": [
    "a :int   = 12\n",
    "a = \"ssdsd\""
   ]
  },
  {
   "cell_type": "markdown",
   "metadata": {},
   "source": [
    "but your code will become more readable. Also, some automatic syntax\n",
    "checkers will then flag the second line. So as a baseline, whenever\n",
    "you declare a variable, use type hinting from now on.\n",
    "\n"
   ]
  },
  {
   "cell_type": "markdown",
   "metadata": {},
   "source": [
    "### Prompting for user input\n",
    "\n"
   ]
  },
  {
   "cell_type": "markdown",
   "metadata": {},
   "source": [
    "Run the following code and see what happens\n",
    "\n"
   ]
  },
  {
   "cell_type": "code",
   "execution_count": 1,
   "metadata": {},
   "outputs": [],
   "source": [
    "val = input(\"Enter your value: \")\n",
    "print(val)"
   ]
  },
  {
   "cell_type": "markdown",
   "metadata": {},
   "source": [
    "#### Plan of attack\n",
    "\n"
   ]
  },
  {
   "cell_type": "markdown",
   "metadata": {},
   "source": [
    "Now revisit your above list of things you know and don't know, and create a work plan:\n",
    "\n",
    "1.  Create a plan (best is to start with a notebook section called \"Plan\" and then make a list for each point):\n",
    "2.  Restate the problem\n",
    "3.  Divide the problem. Write down each substep, even if you don't\n",
    "    know yet how to implement a given step. This is a more formal\n",
    "    recasting of the above list that is now ordered in the way the \n",
    "    program executes.\n",
    "\n",
    "4.  If you know the step, precede it with a \"K:\"; if you don't know, precede it with a \"U:\"\n",
    "\n",
    "5.  Do not write code all at once. Write code for each sub-step,\n",
    "    and test the code individually before you move on.\n",
    "\n",
    "6.  If the above snippets work as expected, start combining them.\n",
    "\n",
    "7.  Last but not least, don't get frustrated. These exercises are\n",
    "    meant for you to struggle, but if after 10 minutes you are still\n",
    "    lost on a specific point, post your problem on Piazza. Asking and\n",
    "    explaining to others what is not working forces you to restate\n",
    "    the problem, and often leads to progress.\n",
    "\n",
    "8.  If you post on Piazza, don't just dump all your code. Write a short\n",
    "    example that demonstrates your problem. Use proper code fencing,\n",
    "    and test that your code runs in Piazza. This will increase the\n",
    "    likelihood and quality of the responses.\n",
    "\n",
    "9.  Revisit your code, and make sure you have all the required doc-strings and\n",
    "    type hints.\n",
    "\n",
    "10. Use the following template to (re-) organize your code\n",
    "\n"
   ]
  },
  {
   "cell_type": "code",
   "execution_count": 1,
   "metadata": {},
   "outputs": [],
   "source": [
    "\"\"\"\n",
    " Program Header, see above\n",
    "\"\"\"\n",
    "\n",
    "# *--- Add your function definitions below this line      ------*\n",
    "\n",
    "# *--- Define all variables you are using in the main part of the code  ------*\n",
    "#      do not include variables used in functions\n",
    "#      use comments to explain what each variable is for, e.g.,\n",
    "#      i :int = 0 # counter for while loop\n",
    "\n",
    "# *--- Program code starts below    ----------------*"
   ]
  },
  {
   "cell_type": "markdown",
   "metadata": {},
   "source": [
    "The above may seem overkill for those who can immediately see the solution to this assignment. However, this is the process you will go through again and again when developing code, and it is good practice to follow these steps.\n",
    "\n",
    "Once you have a working code, test that it works. Particularly boundary cases like:\n",
    "\n",
    "-   \"0\"\n",
    "-   \"1\"\n",
    "-   \"00\"\n",
    "-   \"01\"\n",
    "-   \"10\"\n",
    "-   \"11\"\n",
    "-   \"-011\"\n",
    "-   \"123\"\n",
    "-   \"xwz\"\n",
    "\n"
   ]
  },
  {
   "cell_type": "markdown",
   "metadata": {},
   "source": [
    "### Marking Scheme\n",
    "\n"
   ]
  },
  {
   "cell_type": "markdown",
   "metadata": {},
   "source": [
    "-   Correct notebook name: 2 pts\n",
    "    -   Code:\n",
    "        -   Proper docstrings where appropriate 2 pts (and the help function\n",
    "            will display them correctly).\n",
    "        -   Variables defined in the correct place 2 pts\n",
    "        -   Functions defined in the correct place 2 pts\n",
    "        -   Type hinting used throughout 2 pts\n",
    "        -   Code runs and terminates correctly when you enter `s`: 2 pts\n",
    "        -   Code detects input that is not a positive binary number: 2  pts\n",
    "        -   Correct conversion results: 10 pts\n",
    "\n",
    "Total = 24 pts\n",
    "\n"
   ]
  },
  {
   "cell_type": "markdown",
   "metadata": {},
   "source": [
    "### Submission Instructions\n",
    "\n"
   ]
  },
  {
   "cell_type": "markdown",
   "metadata": {},
   "source": [
    "Create a new (or copy and existing) notebook in your `submissions`\n",
    "folder before editing it. Otherwise, your edits may be overwritten the\n",
    "next time you log into syzygy. Please name your copy\n",
    "\"Assignment-Name-FirstName-LastName\": \n",
    "\n",
    "-   Replace the `Assignment-Name` with the name of the assignment\n",
    "    (i.e., the filename of the respective Jupyter Notebook)\n",
    "-   `FirstName-Last-Name` with your own name.\n",
    "\n",
    "Note: If the notebook contains images, you must also copy the image files!\n",
    "\n",
    "Your notebook/pdf must start with the following lines \n",
    "\n",
    "**Assignment Title**\n",
    "\n",
    "**Date:**\n",
    "\n",
    "**First Name:**\n",
    "\n",
    "**Last Name:**\n",
    "\n",
    "**Student: Id**\n",
    "\n",
    "Before submitting your assignment:\n",
    "\n",
    "-   Check the marking scheme and ensure you have covered all requirements.\n",
    "-   re-read the learning outcomes and verify that you are comfortable\n",
    "    with each concept. If not, please speak up on the discussion board\n",
    "    and ask for further clarification. I can guarantee that if you feel\n",
    "    uncertain about a concept, at least half the class will be in the\n",
    "    same boat. So don't be shy!\n",
    "\n",
    "To submit your assignment, you need to download it as `ipynb` notebook\n",
    "format **and** `pdf` format. The best way to export your notebook as pdf\n",
    "is to use your browser's print function (`Ctrl-P`) and then select\n",
    "`Save as pfd`.  Please submit both files on Quercus. Note that the pdf\n",
    "export can fail if your file contains invalid markup/python code. So\n",
    "you need to check that the pdf export is complete and does not miss\n",
    "any sections. If you have export problems, don't hesitate to contact\n",
    "the course instructor directly.\n",
    "\n",
    "Notebooks typically have empty code cells in which you must enter\n",
    "python code. Please use the respective cell below each question, or\n",
    "create a python cell where necessary. Add text cells to enter your\n",
    "answers where appropriate. Your responses will only count if the code\n",
    "executes without error. It is thus recommended to run your solutions\n",
    "before submitting the assignment.\n",
    "\n",
    "**Note: Unless specifically requested, do not type your answers by**\n",
    "**hand. Instead, write code that produces the answer. Your pdf file**\n",
    "**should show the code and the results of the code execution.**\n",
    "\n"
   ]
  }
 ],
 "metadata": {
  "kernelspec": {
   "display_name": "Python 3",
   "language": "python",
   "name": "python3"
  },
  "language_info": {
   "codemirror_mode": {
    "name": "ipython",
    "version": 3
   },
   "file_extension": ".py",
   "mimetype": "text/x-python",
   "name": "python",
   "nbconvert_exporter": "python",
   "pygments_lexer": "ipython3",
   "version": "3.9.7"
  },
  "org": null
 },
 "nbformat": 4,
 "nbformat_minor": 1
}
