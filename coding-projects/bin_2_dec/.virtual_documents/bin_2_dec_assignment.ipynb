





























"""
Program Name: bin_2_dec

Description: Add a few words about what this program does

Author:
Date:
"""








# this valid python code
a = 12
l = [1, 4, 6]
t = (4, 9, 1)
s = ""
# But this is better
a :int   = 12
l :list  = [1, 4, 6]
t :tuple = (4, 9, 1)
s :str   = ""





a :int   = 12
a = "ssdsd"











val = input("Enter your value: ")
print(val)








"""
Program Name:

Description: Add a few words about what this program does

Author:
Date:
"""

# *--- Add your function definitions below this line      ------*

# *--- Define all variables you are using in the main part of the code  ------*
#      do not include variables used in functions
#      use comments to explain what each variable is for, e.g.,
#      i :int = 0 # counter for while loop

# *--- Program code starts below    ----------------*















