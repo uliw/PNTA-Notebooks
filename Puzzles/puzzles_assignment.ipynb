{
 "cells": [
  {
   "cell_type": "markdown",
   "metadata": {},
   "source": [
    "## Assignment\n",
    "\n"
   ]
  },
  {
   "cell_type": "markdown",
   "metadata": {},
   "source": [
    "Copy this Notebook into your personal folder. Add a code cell that contains your solution below each puzzle.\n",
    "\n",
    "So, without further ado, let's put the above principles to work. For\n",
    "the purpose of training our problem-solving skills, we will reduce the\n",
    "number of coding techniques, and only allow loops, counters,\n",
    "if-statements and print statements (comments are allowed, and\n",
    "type-hints are required!).  All the below exercises require you to\n",
    "create some python code that will match the output pattern shown in\n",
    "the particular question. The goal is to create these patterns with one\n",
    "or more loop statements (including loops that use the range function -\n",
    "if in doubt, go back to the previous chapters - note your textbook has an index). You are not allowed to use string\n",
    "manipulation. Furthermore, **your print statements can only be\n",
    "selected** **from the following three options:**\n",
    "\n"
   ]
  },
  {
   "cell_type": "code",
   "execution_count": 1,
   "metadata": {},
   "outputs": [],
   "source": [
    "print(f\"X\", end=\"\") # this will print a single X without a linefeed\n",
    "print(f\" \", end=\"\") # this will print a single blank space without a\n",
    "                    # linefeed\n",
    "print(\"\") # this will print a linefeed"
   ]
  },
  {
   "cell_type": "markdown",
   "metadata": {},
   "source": [
    "**You are not allowed to use a print statement that contains more than one\n",
    "\"X\":**\n",
    "\n"
   ]
  },
  {
   "cell_type": "code",
   "execution_count": 1,
   "metadata": {},
   "outputs": [],
   "source": [
    "print(\"X\")  # ok\n",
    "print(\"XX\") # not ok"
   ]
  },
  {
   "cell_type": "markdown",
   "metadata": {},
   "source": [
    "You cannot put three print statements if the instructions state that your code cannot contain more than two! However, you can have a print\n",
    "statement within a loop, and it does not matter how often you execute\n",
    "the loop. It will still count as a single statement.\n",
    "\n"
   ]
  },
  {
   "cell_type": "markdown",
   "metadata": {},
   "source": [
    "### Learning outcomes\n",
    "\n"
   ]
  },
  {
   "cell_type": "markdown",
   "metadata": {},
   "source": [
    "-   Hone your problem-solving skills in an environment with strict rules, and a limited set of tools\n",
    "    -   Practice the application of the previously introduced problem-solving techniques.\n",
    "    -   Reflect on each question and what tools you did use to solve them.\n",
    "\n"
   ]
  },
  {
   "cell_type": "markdown",
   "metadata": {},
   "source": [
    "### Instructions\n",
    "\n"
   ]
  },
  {
   "cell_type": "markdown",
   "metadata": {},
   "source": [
    "Notes:\n",
    "\n",
    "-   This assignment focuses on counters and loops.\n",
    "-   Starting with this assignment, we will use type hints throughout.\n",
    "-   To type hint loop variables (e.g., `e` in the below example), use the following approach:\n",
    "\n"
   ]
  },
  {
   "cell_type": "code",
   "execution_count": 1,
   "metadata": {},
   "outputs": [],
   "source": [
    "s: list = [1, 2, 3]\n",
    "e: int\n",
    "\n",
    "for e in s:\n",
    "    print(e)"
   ]
  },
  {
   "cell_type": "markdown",
   "metadata": {},
   "source": [
    "## Tasks\n",
    "\n"
   ]
  },
  {
   "cell_type": "markdown",
   "metadata": {},
   "source": [
    "1.  Write a program that uses only one print statement (out of the\n",
    "    allowed 3) to create this output:\n",
    "    \n",
    "        XXXXX\n",
    "\n"
   ]
  },
  {
   "cell_type": "code",
   "execution_count": 1,
   "metadata": {},
   "outputs": [],
   "source": [
    "#"
   ]
  },
  {
   "cell_type": "markdown",
   "metadata": {},
   "source": [
    "1.  Write a program that uses only two print statements out of the\n",
    "    allowed 3) to create the output below.\n",
    "    \n",
    "        XXXXX\n",
    "        XXXXX\n",
    "        XXXXX\n",
    "        XXXXX\n",
    "        XXXXX\n",
    "\n"
   ]
  },
  {
   "cell_type": "code",
   "execution_count": 1,
   "metadata": {},
   "outputs": [],
   "source": [
    "#"
   ]
  },
  {
   "cell_type": "markdown",
   "metadata": {},
   "source": [
    "1.  Write a program that uses only two print statements (out of the\n",
    "    allowed 3) to create the output below. If you can't see the\n",
    "    immediate solution go to problem #2, which is the same question\n",
    "    but stated more simply.\n",
    "    \n",
    "        XXXXX\n",
    "        XXXX\n",
    "        XXX\n",
    "        XX\n",
    "        X\n",
    "\n"
   ]
  },
  {
   "cell_type": "code",
   "execution_count": 1,
   "metadata": {},
   "outputs": [],
   "source": [
    "#"
   ]
  },
  {
   "cell_type": "markdown",
   "metadata": {},
   "source": [
    "4.  Write a program that uses only two print statements (out of the\n",
    "    allowed 3)to create the output below. Initially, this may look\n",
    "    puzzling. But you probably recognize that you solved an analogous\n",
    "    problem in #3.\n",
    "    \n",
    "        X\n",
    "        XX\n",
    "        XXX\n",
    "        XXXX\n",
    "        XXX\n",
    "        XX\n",
    "        X\n",
    "\n"
   ]
  },
  {
   "cell_type": "code",
   "execution_count": 1,
   "metadata": {},
   "outputs": [],
   "source": [
    "#"
   ]
  },
  {
   "cell_type": "markdown",
   "metadata": {},
   "source": [
    "5.  Write a program that uses no more than the three print statements\n",
    "    mentioned above to create the\n",
    "    following pattern. \n",
    "    \n",
    "        XXXXX\n",
    "         XXX\n",
    "          X\n",
    "\n"
   ]
  },
  {
   "cell_type": "code",
   "execution_count": 1,
   "metadata": {},
   "outputs": [],
   "source": [
    "#"
   ]
  },
  {
   "cell_type": "markdown",
   "metadata": {},
   "source": [
    "6.  Similar to 5, write a program that creates the following pattern with no more than 3 print statements\n",
    "    \n",
    "          X\n",
    "         XXX\n",
    "        XXXXX\n",
    "         XXX\n",
    "          X\n",
    "\n"
   ]
  },
  {
   "cell_type": "code",
   "execution_count": 1,
   "metadata": {},
   "outputs": [],
   "source": [
    "#"
   ]
  },
  {
   "cell_type": "markdown",
   "metadata": {},
   "source": [
    "7.  Similar to 6, write a program that creates the following\n",
    "    pattern. Your code can contain up to five print statements. Think\n",
    "    of it as a puzzle involving loops and counters. While it looks\n",
    "    complicated at first, try and decompose it into pieces you have\n",
    "    solved before (in fact, most of the code for this piece has been\n",
    "    used before). Once you have some ideas, create a game plan, and\n",
    "    solve it step by step (say. e.g.,  start with the left side of the\n",
    "    figure&#x2026;).\n",
    "    \n",
    "        X            X \n",
    "         XX        XX\n",
    "          XXX    XXX\n",
    "           XXXXXXXX\n",
    "           XXXXXXXX\n",
    "          XXX    XXX\n",
    "         XX        XX\n",
    "        X            X\n",
    "\n"
   ]
  },
  {
   "cell_type": "markdown",
   "metadata": {},
   "source": [
    "### Marking Scheme\n",
    "\n"
   ]
  },
  {
   "cell_type": "markdown",
   "metadata": {},
   "source": [
    "Total points = 39 pts.\n",
    "\n",
    "-   Proper file name for your submission files 2pts\n",
    "-   All needed headers in your submission files 2pts\n",
    "-   1 pt for correct and use of type hinting (7 pts)\n",
    "-   4 pts for each solution that follows the rules and produces the\n",
    "    requested output. 2 pts for each solution, which is at least 50% correct. (28 pt)\n",
    "\n"
   ]
  },
  {
   "cell_type": "markdown",
   "metadata": {},
   "source": [
    "### Submission Instructions\n",
    "\n"
   ]
  },
  {
   "cell_type": "markdown",
   "metadata": {},
   "source": [
    "Create a new (or copy and existing) notebook in your `submissions`\n",
    "folder before editing it. Otherwise, your edits may be overwritten the\n",
    "next time you log into syzygy. Please name your copy\n",
    "\"Assignment-Name-FirstName-LastName\": \n",
    "\n",
    "-   Replace the `Assignment-Name` with the name of the assignment\n",
    "    (i.e., the filename of the respective Jupyter Notebook)\n",
    "-   `FirstName-Last-Name` with your own name.\n",
    "\n",
    "Note: If the notebook contains images, you must also copy the image files!\n",
    "\n",
    "Your notebook/pdf must start with the following lines \n",
    "\n",
    "**Assignment Title**\n",
    "\n",
    "**Date:**\n",
    "\n",
    "**First Name:**\n",
    "\n",
    "**Last Name:**\n",
    "\n",
    "**Student: Id**\n",
    "\n",
    "Before submitting your assignment:\n",
    "\n",
    "-   Check the marking scheme and ensure you have covered all requirements.\n",
    "-   re-read the learning outcomes and verify that you are comfortable\n",
    "    with each concept. If not, please speak up on the discussion board\n",
    "    and ask for further clarification. I can guarantee that if you feel\n",
    "    uncertain about a concept, at least half the class will be in the\n",
    "    same boat. So don't be shy!\n",
    "\n",
    "To submit your assignment, you need to download it as `ipynb` notebook\n",
    "format **and** `pdf` format. The best way to export your notebook as pdf\n",
    "is to use your browser's print function (`Ctrl-P`) and then select\n",
    "`Save as pfd`.  Please submit both files on Quercus. Note that the pdf\n",
    "export can fail if your file contains invalid markup/python code. So\n",
    "you need to check that the pdf export is complete and does not miss\n",
    "any sections. If you have export problems, don't hesitate to contact\n",
    "the course instructor directly.\n",
    "\n",
    "Notebooks typically have empty code cells in which you must enter\n",
    "python code. Please use the respective cell below each question, or\n",
    "create a python cell where necessary. Add text cells to enter your\n",
    "answers where appropriate. Your responses will only count if the code\n",
    "executes without error. It is thus recommended to run your solutions\n",
    "before submitting the assignment.\n",
    "\n",
    "**Note: Unless specifically requested, do not type your answers by**\n",
    "**hand. Instead, write code that produces the answer. Your pdf file**\n",
    "**should show the code and the results of the code execution.**\n",
    "\n"
   ]
  }
 ],
 "metadata": {
  "kernelspec": {
   "display_name": "Python 3",
   "language": "python",
   "name": "python3"
  },
  "language_info": {
   "codemirror_mode": {
    "name": "ipython",
    "version": 3
   },
   "file_extension": ".py",
   "mimetype": "text/x-python",
   "name": "python",
   "nbconvert_exporter": "python",
   "pygments_lexer": "ipython3",
   "version": "3.9.7"
  },
  "org": null
 },
 "nbformat": 4,
 "nbformat_minor": 1
}
