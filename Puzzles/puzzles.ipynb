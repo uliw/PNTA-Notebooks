{
 "cells": [
  {
   "cell_type": "markdown",
   "metadata": {},
   "source": [
    "## Coding as a Creative Process\n",
    "\n"
   ]
  },
  {
   "cell_type": "markdown",
   "metadata": {},
   "source": [
    "In the previous chapters, we reviewed the various elements of a\n",
    "programming language (variables, conditionals, loops,\n",
    "functions). However, more often than not, it is not the mastery of\n",
    "those elements, but rather the skill to combine them in a useful\n",
    "manner.\n",
    "\n",
    "Coding requires you to solve a problem for which you see no obvious\n",
    "solution. And the only way out is to hit the \"ok, let's be creative\n",
    "button\". For some of you, this will work. For others, not so much,\n",
    "since few of us a trained or gifted in being creative thinkers. That\n",
    "being said, there are strategies you can employ that will help you to\n",
    "find solutions. You will need those strategies in pretty much all of\n",
    "the following coding projects.\n",
    "\n",
    "This chapter is inspired by \"Think like a Programmer\"\n",
    "by V. A. Spraul. Unlike most programming books, it focuses on\n",
    "problem-solving rather than computing. Unfortunately, all its\n",
    "exercises are in `C++`, but the introductory and conclusions chapters\n",
    "are highly recommended reading.\n",
    "\n",
    "The basic premise of the book is that most students do not struggle\n",
    "with a computing language per se but rather with the process of using\n",
    "a program to solve a problem. The following chapter is a heavily\n",
    "condensed version of Chapter 1 in Spraul's book.\n",
    "\n"
   ]
  },
  {
   "cell_type": "markdown",
   "metadata": {},
   "source": [
    "### General Problem Solving Strategies\n",
    "\n"
   ]
  },
  {
   "cell_type": "markdown",
   "metadata": {},
   "source": [
    "\\index{Problem Solving Strategies}\n",
    "Problem-solving skills vary tremendously between people, and it is not\n",
    "something you can learn like any other method because it is an\n",
    "inherently creative process, not a methodical one. However, you will\n",
    "get better with practice, and there are a few guidelines that can help\n",
    "with the process. The following list will prove helpful whenever you\n",
    "struggle with a problem where there is no obvious solution:\n",
    "\n",
    "1.  **Always have a plan:** Even if you don't know what is going on, you\n",
    "    can always have one. Think of mapping, you may not have the\n",
    "    faintest clue of what you are dealing with, but you know that by\n",
    "    methodical mapping (taking stations, measure strike and dip, map\n",
    "    perpendicular to strike etc.), you will zero in on the\n",
    "    solution. The same is true for programming.  Start out by making a\n",
    "    list of steps you need, even so you may not know how to program\n",
    "    each step.  You will likely have to refine your ideas as you go,\n",
    "    but this is still infinitely more useful than just random\n",
    "    exploration.\n",
    "2.  **Restate the Problem:** An excellent way to achieve this is to restate\n",
    "    the problem in your own words. Next, explain how you see the task to one of your\n",
    "    peers, or your instructor for comments. This is often the first\n",
    "    and most crucial step in formulating a plan. Remember to\n",
    "    describe the goal, not the way.\n",
    "3.  **Divide the Problem:** Most complex problems can be understood as a\n",
    "    series of smaller problems. In coding terms, we would think of\n",
    "    loops, conditionals, and functions. This is the part where you\n",
    "    start writing high-level pseudo-code. Pseudo code is like short form, but it is not actual code:\n",
    "\n"
   ]
  },
  {
   "cell_type": "code",
   "execution_count": 1,
   "metadata": {},
   "outputs": [],
   "source": [
    "while loop to get user input\n",
    "  y = input\n",
    "\n",
    "for loop to test x>y\n",
    "t = transform_magic(x,y)\n",
    "print result"
   ]
  },
  {
   "cell_type": "markdown",
   "metadata": {},
   "source": [
    "You can do this even though you may not know yet how to code the\n",
    "    individual blocks.\n",
    "\n",
    "4.  **Start with what you know:** This is like writing an exam. Always\n",
    "    start with the pieces you already know how to solve. In doing so,\n",
    "    you may find essential clues on how to solve the pieces you don't\n",
    "    know.\n",
    "5.  **Reduce the Problem:** Say you have to write a function that\n",
    "    converts any number into its binary notation. To simplify\n",
    "    the problem, you can state that your function will only deal with\n",
    "    positive integers. Or you can further simplify the problem to the\n",
    "    point that your function will only deal with numbers between 0 and\n",
    "    10 etc. Once you have an intermediate solution, you will have\n",
    "    gained much clarity how to solve the full problem, or\n",
    "    what specific questions to ask your peers or instructor.\n",
    "6.  **Look for Analogies:** Often, you may be able to reduce your problem\n",
    "    in such a way that you can recognize that you already solved a\n",
    "    similar problem elsewhere. Consider the case of strings, which are\n",
    "    just a specific type of lists. The exact commands may not match,\n",
    "    but now you probably remember how to query the methods associated\n",
    "    with a list object, or that you need to ask the specific question\n",
    "    of \"how do I replace the third element in a string\".\n",
    "7.  **Experiment:** Often, it is useful to test the workings of a command\n",
    "    or code sequence in a separate cell.  The key techniques here are\n",
    "    the idea to isolate the code snippet from your main code, and to\n",
    "    test whether it actually does what you think it does. E.g.,\n",
    "    consider the following `a[3] :str` 4=. This may very well work in\n",
    "    your code, but it may not do what you expect. So a little\n",
    "    experiment can go a long way&#x2026; Similarly, with new commands, test\n",
    "    and explore their use elsewhere before adding them to your code.\n",
    "8.  **Don't get frustrated:** When you are frustrated, you won't think\n",
    "    clearly, and everything will take twice as long.  Take a walk,\n",
    "    rethink the problem (i.e., use the above steps), and come back to\n",
    "    the problem when you are ready. Then, you can try to reduce the\n",
    "    problem to it's most fundamental form, e.g., take the code out of\n",
    "    the function and run it in isolation, use print statements to\n",
    "    check whether your function parameters are indeed arriving inside\n",
    "    your function in the way you think. Once you have a minimal\n",
    "    example that shows the problem, ask for help. Or if all else fail,\n",
    "    have a look at your plan and see if you can work on something\n",
    "    else.  To quote from Sprauls book:\n",
    "\n",
    ">     When you allow yourself to get frustrated - and I use the word\n",
    ">     “allow” deliberately - you are, in effect, giving yourself an excuse\n",
    ">     to continue to fail. Suppose you’re working on a difficult problem\n",
    ">     and you feel your frustration rise. Hours later, you look back at\n",
    ">     an afternoon of gritted teeth and pencils snapped in anger and\n",
    ">     tell yourself that you would have made real progress if you had\n",
    ">     been able to calm down. In truth, you may have decided that giving\n",
    ">     in to your anger was easier than facing the difficult problem.\n",
    "> \n",
    ">     V. A. Spraul, \"Think like a Programmer\"\n",
    "\n"
   ]
  }
 ],
 "metadata": {
  "kernelspec": {
   "display_name": "Python 3",
   "language": "python",
   "name": "python3"
  },
  "language_info": {
   "codemirror_mode": {
    "name": "ipython",
    "version": 3
   },
   "file_extension": ".py",
   "mimetype": "text/x-python",
   "name": "python",
   "nbconvert_exporter": "python",
   "pygments_lexer": "ipython3",
   "version": "3.8.5"
  },
  "org": null
 },
 "nbformat": 4,
 "nbformat_minor": 1
}
